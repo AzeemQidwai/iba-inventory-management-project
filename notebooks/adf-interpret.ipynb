{
 "cells": [
  {
   "cell_type": "code",
   "execution_count": 1,
   "id": "a3abcc84",
   "metadata": {
    "execution": {
     "iopub.execute_input": "2025-01-13T10:35:33.827360Z",
     "iopub.status.busy": "2025-01-13T10:35:33.827018Z",
     "iopub.status.idle": "2025-01-13T10:35:34.218019Z",
     "shell.execute_reply": "2025-01-13T10:35:34.216543Z"
    },
    "papermill": {
     "duration": 0.398035,
     "end_time": "2025-01-13T10:35:34.220288",
     "exception": false,
     "start_time": "2025-01-13T10:35:33.822253",
     "status": "completed"
    },
    "tags": []
   },
   "outputs": [],
   "source": [
    "import pandas as pd\n",
    "import matplotlib.pyplot as plt"
   ]
  },
  {
   "cell_type": "code",
   "execution_count": 2,
   "id": "c0401157",
   "metadata": {
    "execution": {
     "iopub.execute_input": "2025-01-13T10:35:34.227631Z",
     "iopub.status.busy": "2025-01-13T10:35:34.227029Z",
     "iopub.status.idle": "2025-01-13T10:35:34.251448Z",
     "shell.execute_reply": "2025-01-13T10:35:34.250025Z"
    },
    "papermill": {
     "duration": 0.030188,
     "end_time": "2025-01-13T10:35:34.253744",
     "exception": false,
     "start_time": "2025-01-13T10:35:34.223556",
     "status": "completed"
    },
    "tags": []
   },
   "outputs": [],
   "source": [
    "data = pd.read_csv('/kaggle/input/adf-result/adf_results.csv')"
   ]
  },
  {
   "cell_type": "code",
   "execution_count": 3,
   "id": "1f754fd7",
   "metadata": {
    "_cell_guid": "b1076dfc-b9ad-4769-8c92-a6c4dae69d19",
    "_uuid": "8f2839f25d086af736a60e9eeb907d3b93b6e0e5",
    "execution": {
     "iopub.execute_input": "2025-01-13T10:35:34.260033Z",
     "iopub.status.busy": "2025-01-13T10:35:34.259595Z",
     "iopub.status.idle": "2025-01-13T10:35:34.266557Z",
     "shell.execute_reply": "2025-01-13T10:35:34.265405Z"
    },
    "papermill": {
     "duration": 0.012178,
     "end_time": "2025-01-13T10:35:34.268458",
     "exception": false,
     "start_time": "2025-01-13T10:35:34.256280",
     "status": "completed"
    },
    "tags": []
   },
   "outputs": [],
   "source": [
    "# Function to summarize ADF test results\n",
    "def summarize_adf_results(df):\n",
    "    # Count p-values < 0.05\n",
    "    p_value_count_less = (df['p-value'] < 0.05).sum()\n",
    "    p_value_count_greater = (df['p-value'] > 0.05).sum()\n",
    "\n",
    "    # Count ADF Statistic < Critical Values\n",
    "    critical_value_1_count = (df['ADF Statistic'] < df['Critical Value 1%']).sum()\n",
    "    critical_value_5_count = ((df['ADF Statistic'] < df['Critical Value 5%']) & (df['ADF Statistic'] > df['Critical Value 1%'])).sum()\n",
    "    critical_value_10_count = ((df['ADF Statistic'] < df['Critical Value 10%']) & (df['ADF Statistic'] > df['Critical Value 5%'])).sum()\n",
    "\n",
    "    # Create a summary DataFrame\n",
    "    summary = pd.DataFrame({\n",
    "        'Metric': ['p-value < 0.05', 'p-value > 0.05', 'ADF Statistic < Critical Value 1%', 'ADF Statistic < Critical Value 5%', 'ADF Statistic < Critical Value 10%'],\n",
    "        'Count': [p_value_count_less, p_value_count_greater, critical_value_1_count, critical_value_5_count, critical_value_10_count]\n",
    "    })\n",
    "\n",
    "    return summary"
   ]
  },
  {
   "cell_type": "code",
   "execution_count": 4,
   "id": "807998b6",
   "metadata": {
    "execution": {
     "iopub.execute_input": "2025-01-13T10:35:34.275116Z",
     "iopub.status.busy": "2025-01-13T10:35:34.274735Z",
     "iopub.status.idle": "2025-01-13T10:35:34.296972Z",
     "shell.execute_reply": "2025-01-13T10:35:34.295963Z"
    },
    "papermill": {
     "duration": 0.027671,
     "end_time": "2025-01-13T10:35:34.299000",
     "exception": false,
     "start_time": "2025-01-13T10:35:34.271329",
     "status": "completed"
    },
    "tags": []
   },
   "outputs": [
    {
     "data": {
      "text/html": [
       "<div>\n",
       "<style scoped>\n",
       "    .dataframe tbody tr th:only-of-type {\n",
       "        vertical-align: middle;\n",
       "    }\n",
       "\n",
       "    .dataframe tbody tr th {\n",
       "        vertical-align: top;\n",
       "    }\n",
       "\n",
       "    .dataframe thead th {\n",
       "        text-align: right;\n",
       "    }\n",
       "</style>\n",
       "<table border=\"1\" class=\"dataframe\">\n",
       "  <thead>\n",
       "    <tr style=\"text-align: right;\">\n",
       "      <th></th>\n",
       "      <th>Metric</th>\n",
       "      <th>Count</th>\n",
       "    </tr>\n",
       "  </thead>\n",
       "  <tbody>\n",
       "    <tr>\n",
       "      <th>0</th>\n",
       "      <td>p-value &lt; 0.05</td>\n",
       "      <td>392</td>\n",
       "    </tr>\n",
       "    <tr>\n",
       "      <th>1</th>\n",
       "      <td>p-value &gt; 0.05</td>\n",
       "      <td>1</td>\n",
       "    </tr>\n",
       "    <tr>\n",
       "      <th>2</th>\n",
       "      <td>ADF Statistic &lt; Critical Value 1%</td>\n",
       "      <td>390</td>\n",
       "    </tr>\n",
       "    <tr>\n",
       "      <th>3</th>\n",
       "      <td>ADF Statistic &lt; Critical Value 5%</td>\n",
       "      <td>2</td>\n",
       "    </tr>\n",
       "    <tr>\n",
       "      <th>4</th>\n",
       "      <td>ADF Statistic &lt; Critical Value 10%</td>\n",
       "      <td>0</td>\n",
       "    </tr>\n",
       "  </tbody>\n",
       "</table>\n",
       "</div>"
      ],
      "text/plain": [
       "                               Metric  Count\n",
       "0                      p-value < 0.05    392\n",
       "1                      p-value > 0.05      1\n",
       "2   ADF Statistic < Critical Value 1%    390\n",
       "3   ADF Statistic < Critical Value 5%      2\n",
       "4  ADF Statistic < Critical Value 10%      0"
      ]
     },
     "metadata": {},
     "output_type": "display_data"
    }
   ],
   "source": [
    "# Get the summary\n",
    "summary = summarize_adf_results(data)\n",
    "\n",
    "# Print the summary\n",
    "display(summary)"
   ]
  },
  {
   "cell_type": "code",
   "execution_count": 5,
   "id": "f3a326f4",
   "metadata": {
    "execution": {
     "iopub.execute_input": "2025-01-13T10:35:34.309367Z",
     "iopub.status.busy": "2025-01-13T10:35:34.308874Z",
     "iopub.status.idle": "2025-01-13T10:35:34.326598Z",
     "shell.execute_reply": "2025-01-13T10:35:34.325544Z"
    },
    "papermill": {
     "duration": 0.025892,
     "end_time": "2025-01-13T10:35:34.328317",
     "exception": false,
     "start_time": "2025-01-13T10:35:34.302425",
     "status": "completed"
    },
    "tags": []
   },
   "outputs": [
    {
     "data": {
      "text/html": [
       "<div>\n",
       "<style scoped>\n",
       "    .dataframe tbody tr th:only-of-type {\n",
       "        vertical-align: middle;\n",
       "    }\n",
       "\n",
       "    .dataframe tbody tr th {\n",
       "        vertical-align: top;\n",
       "    }\n",
       "\n",
       "    .dataframe thead th {\n",
       "        text-align: right;\n",
       "    }\n",
       "</style>\n",
       "<table border=\"1\" class=\"dataframe\">\n",
       "  <thead>\n",
       "    <tr style=\"text-align: right;\">\n",
       "      <th></th>\n",
       "      <th>MaterialCode</th>\n",
       "      <th>ADF Statistic</th>\n",
       "      <th>p-value</th>\n",
       "      <th>Critical Value 1%</th>\n",
       "      <th>Critical Value 5%</th>\n",
       "      <th>Critical Value 10%</th>\n",
       "    </tr>\n",
       "  </thead>\n",
       "  <tbody>\n",
       "    <tr>\n",
       "      <th>388</th>\n",
       "      <td>10128891</td>\n",
       "      <td>26.683433</td>\n",
       "      <td>1.0</td>\n",
       "      <td>-3.439516</td>\n",
       "      <td>-2.865585</td>\n",
       "      <td>-2.568924</td>\n",
       "    </tr>\n",
       "  </tbody>\n",
       "</table>\n",
       "</div>"
      ],
      "text/plain": [
       "     MaterialCode  ADF Statistic  p-value  Critical Value 1%  \\\n",
       "388      10128891      26.683433      1.0          -3.439516   \n",
       "\n",
       "     Critical Value 5%  Critical Value 10%  \n",
       "388          -2.865585           -2.568924  "
      ]
     },
     "execution_count": 5,
     "metadata": {},
     "output_type": "execute_result"
    }
   ],
   "source": [
    "data[data['p-value'] > 0.05]"
   ]
  },
  {
   "cell_type": "markdown",
   "id": "6c218621",
   "metadata": {
    "papermill": {
     "duration": 0.002652,
     "end_time": "2025-01-13T10:35:34.334053",
     "exception": false,
     "start_time": "2025-01-13T10:35:34.331401",
     "status": "completed"
    },
    "tags": []
   },
   "source": [
    "**p-value < 0.05:**\n",
    "> * **Count**: 392\n",
    "> * **Observation**: There are 392 materials for which the p-value is less than 0.05. This indicates that for these materials, we reject the null hypothesis at the 5% significance level, suggesting that the time series for these materials are likely stationary.\n",
    "\n",
    "**p-value > 0.05:**\n",
    "> * **Count**: 1\n",
    "> * **Observation**: A p-value greater than 0.05 indicates that there is not enough evidence to reject the null hypothesis of non-stationarity. This means the time series is likely non-stationary.\n",
    "\n",
    "**ADF Statistic < Critical Value 1%:**\n",
    "> * **Count**: 390\n",
    "> * **Observation**: There are 390 materials for which the ADF statistic is less than the critical value at the 1% significance level. This indicates strong evidence of stationarity for these materials.\n",
    "\n",
    "**ADF Statistic < Critical Value 5%:**\n",
    "> * **Count**: 2\n",
    "> * **Observation**: There are 2 materials for which the ADF statistic is less than the critical value at the 5% significance level but greater than the critical value at the 1% significance level. This indicates that for these materials, we reject the null hypothesis at the 5% significance level but not at the 1% significance level, suggesting moderate evidence of stationarity.\n",
    "\n",
    "**ADF Statistic < Critical Value 10%:**\n",
    "> * **Count**: 0\n",
    "> * **Observation**: There are 0 materials for which the ADF statistic is less than the critical value at the 10% significance level but greater than the critical value at the 5% significance level. This indicates that no materials fall into this category, suggesting that the materials either meet stricter criteria or do not meet the 10% significance level criterion."
   ]
  },
  {
   "cell_type": "code",
   "execution_count": 6,
   "id": "411e6d11",
   "metadata": {
    "execution": {
     "iopub.execute_input": "2025-01-13T10:35:34.340844Z",
     "iopub.status.busy": "2025-01-13T10:35:34.340414Z",
     "iopub.status.idle": "2025-01-13T10:35:34.739880Z",
     "shell.execute_reply": "2025-01-13T10:35:34.738756Z"
    },
    "papermill": {
     "duration": 0.405174,
     "end_time": "2025-01-13T10:35:34.742061",
     "exception": false,
     "start_time": "2025-01-13T10:35:34.336887",
     "status": "completed"
    },
    "tags": []
   },
   "outputs": [
    {
     "data": {
      "image/png": "[encoded data removed]",
      "text/plain": [
       "<Figure size 1000x600 with 1 Axes>"
      ]
     },
     "metadata": {},
     "output_type": "display_data"
    }
   ],
   "source": [
    "# Plot the summary\n",
    "plt.figure(figsize=(10, 6))\n",
    "plt.bar(summary['Metric'], summary['Count'])\n",
    "plt.xlabel('Metric')\n",
    "plt.ylabel('Count')\n",
    "plt.title('Summary of ADF Test Results')\n",
    "plt.xticks(rotation=45, ha='right')\n",
    "plt.tight_layout()\n",
    "plt.show()\n"
   ]
  }
 ],
 "metadata": {
  "kaggle": {
   "accelerator": "none",
   "dataSources": [
    {
     "datasetId": 6407525,
     "sourceId": 10347596,
     "sourceType": "datasetVersion"
    }
   ],
   "dockerImageVersionId": 30822,
   "isGpuEnabled": false,
   "isInternetEnabled": true,
   "language": "python",
   "sourceType": "notebook"
  },
  "kernelspec": {
   "display_name": "Python 3",
   "language": "python",
   "name": "python3"
  },
  "language_info": {
   "codemirror_mode": {
    "name": "ipython",
    "version": 3
   },
   "file_extension": ".py",
   "mimetype": "text/x-python",
   "name": "python",
   "nbconvert_exporter": "python",
   "pygments_lexer": "ipython3",
   "version": "3.10.12"
  },
  "papermill": {
   "default_parameters": {},
   "duration": 3.971724,
   "end_time": "2025-01-13T10:35:35.468555",
   "environment_variables": {},
   "exception": null,
   "input_path": "__notebook__.ipynb",
   "output_path": "__notebook__.ipynb",
   "parameters": {},
   "start_time": "2025-01-13T10:35:31.496831",
   "version": "2.6.0"
  }
 },
 "nbformat": 4,
 "nbformat_minor": 5
}
