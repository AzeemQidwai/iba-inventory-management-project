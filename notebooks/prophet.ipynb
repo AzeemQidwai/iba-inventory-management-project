{
 "cells": [
  {
   "cell_type": "code",
   "execution_count": 1,
   "id": "22053f58",
   "metadata": {
    "execution": {
     "iopub.execute_input": "2025-01-02T16:41:47.534974Z",
     "iopub.status.busy": "2025-01-02T16:41:47.534536Z",
     "iopub.status.idle": "2025-01-02T16:41:50.056250Z",
     "shell.execute_reply": "2025-01-02T16:41:50.055123Z"
    },
    "papermill": {
     "duration": 2.528171,
     "end_time": "2025-01-02T16:41:50.058382",
     "exception": false,
     "start_time": "2025-01-02T16:41:47.530211",
     "status": "completed"
    },
    "tags": []
   },
   "outputs": [],
   "source": [
    "import pandas as pd\n",
    "import numpy as np\n",
    "import matplotlib.pyplot as plt\n",
    "import seaborn as sns\n",
    "from prophet import Prophet\n",
    "from sklearn.metrics import mean_squared_error\n",
    "from math import sqrt\n",
    "from tqdm.notebook import tqdm\n",
    "import warnings\n",
    "import os\n",
    "\n",
    "# Suppress specific warnings\n",
    "warnings.simplefilter('ignore', UserWarning)"
   ]
  },
  {
   "cell_type": "code",
   "execution_count": 2,
   "id": "325dca8a",
   "metadata": {
    "execution": {
     "iopub.execute_input": "2025-01-02T16:41:50.065388Z",
     "iopub.status.busy": "2025-01-02T16:41:50.064858Z",
     "iopub.status.idle": "2025-01-02T16:41:50.070124Z",
     "shell.execute_reply": "2025-01-02T16:41:50.068745Z"
    },
    "papermill": {
     "duration": 0.010578,
     "end_time": "2025-01-02T16:41:50.072020",
     "exception": false,
     "start_time": "2025-01-02T16:41:50.061442",
     "status": "completed"
    },
    "tags": []
   },
   "outputs": [],
   "source": [
    "# Create the 'prophet' directory if it doesn't exist\n",
    "if not os.path.exists('prophet'):\n",
    "    os.makedirs('prophet')"
   ]
  },
  {
   "cell_type": "code",
   "execution_count": 3,
   "id": "54b1f62a",
   "metadata": {
    "execution": {
     "iopub.execute_input": "2025-01-02T16:41:50.078466Z",
     "iopub.status.busy": "2025-01-02T16:41:50.078073Z",
     "iopub.status.idle": "2025-01-02T16:41:52.337515Z",
     "shell.execute_reply": "2025-01-02T16:41:52.336464Z"
    },
    "papermill": {
     "duration": 2.264901,
     "end_time": "2025-01-02T16:41:52.339594",
     "exception": false,
     "start_time": "2025-01-02T16:41:50.074693",
     "status": "completed"
    },
    "tags": []
   },
   "outputs": [],
   "source": [
    "# Load the data\n",
    "data = pd.read_csv('/kaggle/input/inventory/inventory.csv')"
   ]
  },
  {
   "cell_type": "code",
   "execution_count": 4,
   "id": "142e7b9a",
   "metadata": {
    "execution": {
     "iopub.execute_input": "2025-01-02T16:41:52.346316Z",
     "iopub.status.busy": "2025-01-02T16:41:52.345932Z",
     "iopub.status.idle": "2025-01-02T16:41:52.544279Z",
     "shell.execute_reply": "2025-01-02T16:41:52.543075Z"
    },
    "papermill": {
     "duration": 0.203997,
     "end_time": "2025-01-02T16:41:52.546465",
     "exception": false,
     "start_time": "2025-01-02T16:41:52.342468",
     "status": "completed"
    },
    "tags": []
   },
   "outputs": [],
   "source": [
    "# Filter data based on 'Material' Type and 'BFP' being 0\n",
    "data = data[(data['Type'] == 'Material') & (data['BFP'] == 0)].copy()\n",
    "\n",
    "# Convert the 'Date' column to datetime\n",
    "data['Date'] = pd.to_datetime(data['Date'])\n",
    "\n",
    "# Set the 'Date' column as the index\n",
    "data.set_index('Date', inplace=True)"
   ]
  },
  {
   "cell_type": "code",
   "execution_count": 5,
   "id": "b809a30c",
   "metadata": {
    "execution": {
     "iopub.execute_input": "2025-01-02T16:41:52.552981Z",
     "iopub.status.busy": "2025-01-02T16:41:52.552640Z",
     "iopub.status.idle": "2025-01-02T16:41:53.329281Z",
     "shell.execute_reply": "2025-01-02T16:41:53.328273Z"
    },
    "papermill": {
     "duration": 0.782334,
     "end_time": "2025-01-02T16:41:53.331509",
     "exception": false,
     "start_time": "2025-01-02T16:41:52.549175",
     "status": "completed"
    },
    "tags": []
   },
   "outputs": [],
   "source": [
    "# Get unique material codes\n",
    "material_codes = data['Material Code'].unique()\n",
    "\n",
    "# Create a dictionary to hold DataFrames for each material code\n",
    "material_data = {material: data[data['Material Code'] == material] for material in material_codes}"
   ]
  },
  {
   "cell_type": "code",
   "execution_count": 6,
   "id": "5364f7a5",
   "metadata": {
    "execution": {
     "iopub.execute_input": "2025-01-02T16:41:53.338382Z",
     "iopub.status.busy": "2025-01-02T16:41:53.338000Z",
     "iopub.status.idle": "2025-01-02T16:41:53.343707Z",
     "shell.execute_reply": "2025-01-02T16:41:53.342561Z"
    },
    "papermill": {
     "duration": 0.011093,
     "end_time": "2025-01-02T16:41:53.345600",
     "exception": false,
     "start_time": "2025-01-02T16:41:53.334507",
     "status": "completed"
    },
    "tags": []
   },
   "outputs": [],
   "source": [
    "# Initialize a DataFrame to store the results\n",
    "prophet_results = pd.DataFrame(columns=['Material Code', 'RMSE'])"
   ]
  },
  {
   "cell_type": "code",
   "execution_count": 7,
   "id": "8814efc8",
   "metadata": {
    "execution": {
     "iopub.execute_input": "2025-01-02T16:41:53.351950Z",
     "iopub.status.busy": "2025-01-02T16:41:53.351632Z",
     "iopub.status.idle": "2025-01-02T16:46:42.157295Z",
     "shell.execute_reply": "2025-01-02T16:46:42.156081Z"
    },
    "papermill": {
     "duration": 288.810967,
     "end_time": "2025-01-02T16:46:42.159175",
     "exception": false,
     "start_time": "2025-01-02T16:41:53.348208",
     "status": "completed"
    },
    "tags": []
   },
   "outputs": [
    {
     "data": {
      "application/vnd.jupyter.widget-view+json": {
       "model_id": "a4eae5c8e9c84721b193d5a7bc6a744e",
       "version_major": 2,
       "version_minor": 0
      },
      "text/plain": [
       "Processing Material Codes:   0%|          | 0/642 [00:00<?, ?it/s]"
      ]
     },
     "metadata": {},
     "output_type": "display_data"
    },
    {
     "name": "stderr",
     "output_type": "stream",
     "text": [
      "16:41:53 - cmdstanpy - INFO - Chain [1] start processing\n",
      "16:41:53 - cmdstanpy - INFO - Chain [1] done processing\n",
      "<ipython-input-7-f435772ce761>:41: FutureWarning: The behavior of DataFrame concatenation with empty or all-NA entries is deprecated. In a future version, this will no longer exclude empty or all-NA columns when determining the result dtypes. To retain the old behavior, exclude the relevant entries before the concat operation.\n",
      "  prophet_results = pd.concat([prophet_results, pd.DataFrame([result_dict])], ignore_index=True)\n"
     ]
    },
    {
     "name": "stdout",
     "output_type": "stream",
     "text": [
      "{'Material Code': 10000033, 'RMSE': 2.370703370498499}\n"
     ]
    },
    {
     "name": "stderr",
     "output_type": "stream",
     "text": [
      "16:41:54 - cmdstanpy - INFO - Chain [1] start processing\n",
      "16:41:54 - cmdstanpy - INFO - Chain [1] done processing\n"
     ]
    },
    {
     "name": "stdout",
     "output_type": "stream",
     "text": [
      "{'Material Code': 10000304, 'RMSE': 11.646745031476849}\n"
     ]
    },
    {
     "name": "stderr",
     "output_type": "stream",
     "text": [
      "16:41:54 - cmdstanpy - INFO - Chain [1] start processing\n",
      "16:41:54 - cmdstanpy - INFO - Chain [1] done processing\n"
     ]
    },
    {
     "name": "stdout",
     "output_type": "stream",
     "text": [
      "{'Material Code': 10000314, 'RMSE': 2.088043239000084}\n"
     ]
    },
    {
     "name": "stderr",
     "output_type": "stream",
     "text": [
      "16:41:55 - cmdstanpy - INFO - Chain [1] start processing\n",
      "16:41:55 - cmdstanpy - INFO - Chain [1] done processing\n"
     ]
    },
    {
     "name": "stdout",
     "output_type": "stream",
     "text": [
      "{'Material Code': 10000316, 'RMSE': 1.94392814648313}\n"
     ]
    },
    {
     "name": "stderr",
     "output_type": "stream",
     "text": [
      "16:41:55 - cmdstanpy - INFO - Chain [1] start processing\n",
      "16:41:55 - cmdstanpy - INFO - Chain [1] done processing\n"
     ]
    },
    {
     "name": "stdout",
     "output_type": "stream",
     "text": [
      "{'Material Code': 10000318, 'RMSE': 20.504995281156532}\n",
      "{'Material Code': 10000320, 'RMSE': 0.0}\n"
     ]
    },
    {
     "name": "stderr",
     "output_type": "stream",
     "text": [
      "16:41:56 - cmdstanpy - INFO - Chain [1] start processing\n",
      "16:41:56 - cmdstanpy - INFO - Chain [1] done processing\n"
     ]
    },
    {
     "name": "stdout",
     "output_type": "stream",
     "text": [
      "{'Material Code': 10000325, 'RMSE': 0.16731378061162505}\n"
     ]
    },
    {
     "name": "stderr",
     "output_type": "stream",
     "text": [
      "16:41:57 - cmdstanpy - INFO - Chain [1] start processing\n",
      "16:41:57 - cmdstanpy - INFO - Chain [1] done processing\n"
     ]
    },
    {
     "name": "stdout",
     "output_type": "stream",
     "text": [
      "{'Material Code': 10000326, 'RMSE': 0.0839750356090144}\n"
     ]
    },
    {
     "name": "stderr",
     "output_type": "stream",
     "text": [
      "16:41:57 - cmdstanpy - INFO - Chain [1] start processing\n",
      "16:41:57 - cmdstanpy - INFO - Chain [1] done processing\n"
     ]
    },
    {
     "name": "stdout",
     "output_type": "stream",
     "text": [
      "{'Material Code': 10000327, 'RMSE': 1.8350645930040128}\n",
      "{'Material Code': 10000328, 'RMSE': 0.0}\n"
     ]
    },
    {
     "name": "stderr",
     "output_type": "stream",
     "text": [
      "16:41:58 - cmdstanpy - INFO - Chain [1] start processing\n",
      "16:41:58 - cmdstanpy - INFO - Chain [1] done processing\n"
     ]
    },
    {
     "name": "stdout",
     "output_type": "stream",
     "text": [
      "{'Material Code': 10000330, 'RMSE': 0.8875060185984923}\n"
     ]
    },
    {
     "name": "stderr",
     "output_type": "stream",
     "text": [
      "16:41:59 - cmdstanpy - INFO - Chain [1] start processing\n",
      "16:41:59 - cmdstanpy - INFO - Chain [1] done processing\n"
     ]
    },
    {
     "name": "stdout",
     "output_type": "stream",
     "text": [
      "{'Material Code': 10000331, 'RMSE': 0.6662093691512779}\n"
     ]
    },
    {
     "name": "stderr",
     "output_type": "stream",
     "text": [
      "16:41:59 - cmdstanpy - INFO - Chain [1] start processing\n",
      "16:41:59 - cmdstanpy - INFO - Chain [1] done processing\n"
     ]
    },
    {
     "name": "stdout",
     "output_type": "stream",
     "text": [
      "{'Material Code': 10000332, 'RMSE': 3.380191031191914}\n"
     ]
    },
    {
     "name": "stderr",
     "output_type": "stream",
     "text": [
      "16:42:00 - cmdstanpy - INFO - Chain [1] start processing\n",
      "16:42:00 - cmdstanpy - INFO - Chain [1] done processing\n"
     ]
    },
    {
     "name": "stdout",
     "output_type": "stream",
     "text": [
      "{'Material Code': 10000333, 'RMSE': 2.4375693945551054}\n"
     ]
    },
    {
     "name": "stderr",
     "output_type": "stream",
     "text": [
      "16:42:00 - cmdstanpy - INFO - Chain [1] start processing\n",
      "16:42:00 - cmdstanpy - INFO - Chain [1] done processing\n"
     ]
    },
    {
     "name": "stdout",
     "output_type": "stream",
     "text": [
      "{'Material Code': 10000334, 'RMSE': 0.8138510869320605}\n"
     ]
    },
    {
     "name": "stderr",
     "output_type": "stream",
     "text": [
      "16:42:00 - cmdstanpy - INFO - Chain [1] start processing\n",
      "16:42:00 - cmdstanpy - INFO - Chain [1] done processing\n"
     ]
    },
    {
     "name": "stdout",
     "output_type": "stream",
     "text": [
      "{'Material Code': 10000335, 'RMSE': 0.20201762351772085}\n"
     ]
    },
    {
     "name": "stderr",
     "output_type": "stream",
     "text": [
      "16:42:01 - cmdstanpy - INFO - Chain [1] start processing\n",
      "16:42:01 - cmdstanpy - INFO - Chain [1] done processing\n"
     ]
    },
    {
     "name": "stdout",
     "output_type": "stream",
     "text": [
      "{'Material Code': 10000336, 'RMSE': 0.8943543153129102}\n"
     ]
    },
    {
     "name": "stderr",
     "output_type": "stream",
     "text": [
      "16:42:01 - cmdstanpy - INFO - Chain [1] start processing\n",
      "16:42:01 - cmdstanpy - INFO - Chain [1] done processing\n"
     ]
    },
    {
     "name": "stdout",
     "output_type": "stream",
     "text": [
      "{'Material Code': 10000337, 'RMSE': 0.5099831974918746}\n"
     ]
    },
    {
     "name": "stderr",
     "output_type": "stream",
     "text": [
      "16:42:02 - cmdstanpy - INFO - Chain [1] start processing\n",
      "16:42:02 - cmdstanpy - INFO - Chain [1] done processing\n"
     ]
    },
    {
     "name": "stdout",
     "output_type": "stream",
     "text": [
      "{'Material Code': 10000338, 'RMSE': 0.6477079142293704}\n"
     ]
    },
    {
     "name": "stderr",
     "output_type": "stream",
     "text": [
      "16:42:02 - cmdstanpy - INFO - Chain [1] start processing\n",
      "16:42:02 - cmdstanpy - INFO - Chain [1] done processing\n"
     ]
    },
    {
     "name": "stdout",
     "output_type": "stream",
     "text": [
      "{'Material Code': 10000339, 'RMSE': 1.234975556198807}\n"
     ]
    },
    {
     "name": "stderr",
     "output_type": "stream",
     "text": [
      "16:42:03 - cmdstanpy - INFO - Chain [1] start processing\n",
      "16:42:03 - cmdstanpy - INFO - Chain [1] done processing\n"
     ]
    },
    {
     "name": "stdout",
     "output_type": "stream",
     "text": [
      "{'Material Code': 10000346, 'RMSE': 0.9851192846599959}\n"
     ]
    },
    {
     "name": "stderr",
     "output_type": "stream",
     "text": [
      "16:42:03 - cmdstanpy - INFO - Chain [1] start processing\n",
      "16:42:03 - cmdstanpy - INFO - Chain [1] done processing\n"
     ]
    },
    {
     "name": "stdout",
     "output_type": "stream",
     "text": [
      "{'Material Code': 10000352, 'RMSE': 2.2722401504503016}\n"
     ]
    },
    {
     "name": "stderr",
     "output_type": "stream",
     "text": [
      "16:42:04 - cmdstanpy - INFO - Chain [1] start processing\n",
      "16:42:04 - cmdstanpy - INFO - Chain [1] done processing\n"
     ]
    },
    {
     "name": "stdout",
     "output_type": "stream",
     "text": [
      "{'Material Code': 10000355, 'RMSE': 3.586952383382969}\n"
     ]
    },
    {
     "name": "stderr",
     "output_type": "stream",
     "text": [
      "16:42:04 - cmdstanpy - INFO - Chain [1] start processing\n",
      "16:42:04 - cmdstanpy - INFO - Chain [1] done processing\n"
     ]
    },
    {
     "name": "stdout",
     "output_type": "stream",
     "text": [
      "{'Material Code': 10000357, 'RMSE': 1.463814159894386}\n"
     ]
    },
    {
     "name": "stderr",
     "output_type": "stream",
     "text": [
      "16:42:05 - cmdstanpy - INFO - Chain [1] start processing\n",
      "16:42:05 - cmdstanpy - INFO - Chain [1] done processing\n"
     ]
    },
    {
     "name": "stdout",
     "output_type": "stream",
     "text": [
      "{'Material Code': 10000360, 'RMSE': 3.4212436014276664}\n",
      "{'Material Code': 10000362, 'RMSE': 0.0}\n"
     ]
    },
    {
     "name": "stderr",
     "output_type": "stream",
     "text": [
      "16:42:06 - cmdstanpy - INFO - Chain [1] start processing\n",
      "16:42:06 - cmdstanpy - INFO - Chain [1] done processing\n"
     ]
    },
    {
     "name": "stdout",
     "output_type": "stream",
     "text": [
      "{'Material Code': 10000363, 'RMSE': 0.044043083327369635}\n"
     ]
    },
    {
     "name": "stderr",
     "output_type": "stream",
     "text": [
      "16:42:06 - cmdstanpy - INFO - Chain [1] start processing\n",
      "16:42:06 - cmdstanpy - INFO - Chain [1] done processing\n"
     ]
    },
    {
     "name": "stdout",
     "output_type": "stream",
     "text": [
      "{'Material Code': 10000590, 'RMSE': 22.597496052176027}\n"
     ]
    },
    {
     "name": "stderr",
     "output_type": "stream",
     "text": [
      "16:42:07 - cmdstanpy - INFO - Chain [1] start processing\n",
      "16:42:07 - cmdstanpy - INFO - Chain [1] done processing\n"
     ]
    },
    {
     "name": "stdout",
     "output_type": "stream",
     "text": [
      "{'Material Code': 10000591, 'RMSE': 43.25064901531571}\n"
     ]
    },
    {
     "name": "stderr",
     "output_type": "stream",
     "text": [
      "16:42:07 - cmdstanpy - INFO - Chain [1] start processing\n",
      "16:42:07 - cmdstanpy - INFO - Chain [1] done processing\n"
     ]
    },
    {
     "name": "stdout",
     "output_type": "stream",
     "text": [
      "{'Material Code': 10000592, 'RMSE': 23.711273299324084}\n"
     ]
    },
    {
     "name": "stderr",
     "output_type": "stream",
     "text": [
      "16:42:08 - cmdstanpy - INFO - Chain [1] start processing\n",
      "16:42:08 - cmdstanpy - INFO - Chain [1] done processing\n"
     ]
    },
    {
     "name": "stdout",
     "output_type": "stream",
     "text": [
      "{'Material Code': 10000593, 'RMSE': 9.709327688073996}\n"
     ]
    },
    {
     "name": "stderr",
     "output_type": "stream",
     "text": [
      "16:42:08 - cmdstanpy - INFO - Chain [1] start processing\n",
      "16:42:08 - cmdstanpy - INFO - Chain [1] done processing\n"
     ]
    },
    {
     "name": "stdout",
     "output_type": "stream",
     "text": [
      "{'Material Code': 10000681, 'RMSE': 0.1454559688495473}\n"
     ]
    },
    {
     "name": "stderr",
     "output_type": "stream",
     "text": [
      "16:42:08 - cmdstanpy - INFO - Chain [1] start processing\n",
      "16:42:08 - cmdstanpy - INFO - Chain [1] done processing\n"
     ]
    },
    {
     "name": "stdout",
     "output_type": "stream",
     "text": [
      "{'Material Code': 10000685, 'RMSE': 0.40895355402231603}\n"
     ]
    },
    {
     "name": "stderr",
     "output_type": "stream",
     "text": [
      "16:42:09 - cmdstanpy - INFO - Chain [1] start processing\n",
      "16:42:09 - cmdstanpy - INFO - Chain [1] done processing\n"
     ]
    },
    {
     "name": "stdout",
     "output_type": "stream",
     "text": [
      "{'Material Code': 10000698, 'RMSE': 0.9272468399556939}\n"
     ]
    },
    {
     "name": "stderr",
     "output_type": "stream",
     "text": [
      "16:42:09 - cmdstanpy - INFO - Chain [1] start processing\n",
      "16:42:09 - cmdstanpy - INFO - Chain [1] done processing\n"
     ]
    },
    {
     "name": "stdout",
     "output_type": "stream",
     "text": [
      "{'Material Code': 10000701, 'RMSE': 0.10784772806498662}\n"
     ]
    },
    {
     "name": "stderr",
     "output_type": "stream",
     "text": [
      "16:42:10 - cmdstanpy - INFO - Chain [1] start processing\n",
      "16:42:10 - cmdstanpy - INFO - Chain [1] done processing\n"
     ]
    },
    {
     "name": "stdout",
     "output_type": "stream",
     "text": [
      "{'Material Code': 10000705, 'RMSE': 0.2207961648811357}\n"
     ]
    },
    {
     "name": "stderr",
     "output_type": "stream",
     "text": [
      "16:42:10 - cmdstanpy - INFO - Chain [1] start processing\n",
      "16:42:10 - cmdstanpy - INFO - Chain [1] done processing\n"
     ]
    },
    {
     "name": "stdout",
     "output_type": "stream",
     "text": [
      "{'Material Code': 10000710, 'RMSE': 0.6580801884426107}\n"
     ]
    },
    {
     "name": "stderr",
     "output_type": "stream",
     "text": [
      "16:42:11 - cmdstanpy - INFO - Chain [1] start processing\n",
      "16:42:11 - cmdstanpy - INFO - Chain [1] done processing\n"
     ]
    },
    {
     "name": "stdout",
     "output_type": "stream",
     "text": [
      "{'Material Code': 10000714, 'RMSE': 0.6245273824241104}\n"
     ]
    },
    {
     "name": "stderr",
     "output_type": "stream",
     "text": [
      "16:42:11 - cmdstanpy - INFO - Chain [1] start processing\n",
      "16:42:11 - cmdstanpy - INFO - Chain [1] done processing\n"
     ]
    },
    {
     "name": "stdout",
     "output_type": "stream",
     "text": [
      "{'Material Code': 10000721, 'RMSE': 0.2315124025843928}\n"
     ]
    },
    {
     "name": "stderr",
     "output_type": "stream",
     "text": [
      "16:42:12 - cmdstanpy - INFO - Chain [1] start processing\n",
      "16:42:12 - cmdstanpy - INFO - Chain [1] done processing\n"
     ]
    },
    {
     "name": "stdout",
     "output_type": "stream",
     "text": [
      "{'Material Code': 10000722, 'RMSE': 0.0263405811589303}\n",
      "{'Material Code': 10000924, 'RMSE': 0.0}\n",
      "{'Material Code': 10000995, 'RMSE': 0.0}\n"
     ]
    },
    {
     "name": "stderr",
     "output_type": "stream",
     "text": [
      "16:42:13 - cmdstanpy - INFO - Chain [1] start processing\n",
      "16:42:13 - cmdstanpy - INFO - Chain [1] done processing\n"
     ]
    },
    {
     "name": "stdout",
     "output_type": "stream",
     "text": [
      "{'Material Code': 10000996, 'RMSE': 0.08355440255018529}\n",
      "{'Material Code': 10001027, 'RMSE': 0.0}\n"
     ]
    },
    {
     "name": "stderr",
     "output_type": "stream",
     "text": [
      "16:42:14 - cmdstanpy - INFO - Chain [1] start processing\n",
      "16:42:14 - cmdstanpy - INFO - Chain [1] done processing\n"
     ]
    },
    {
     "name": "stdout",
     "output_type": "stream",
     "text": [
      "{'Material Code': 10001057, 'RMSE': 1.56159591960803}\n"
     ]
    },
    {
     "name": "stderr",
     "output_type": "stream",
     "text": [
      "16:42:14 - cmdstanpy - INFO - Chain [1] start processing\n",
      "16:42:14 - cmdstanpy - INFO - Chain [1] done processing\n"
     ]
    },
    {
     "name": "stdout",
     "output_type": "stream",
     "text": [
      "{'Material Code': 10001059, 'RMSE': 9.561826695609941}\n"
     ]
    },
    {
     "name": "stderr",
     "output_type": "stream",
     "text": [
      "16:42:15 - cmdstanpy - INFO - Chain [1] start processing\n",
      "16:42:15 - cmdstanpy - INFO - Chain [1] done processing\n"
     ]
    },
    {
     "name": "stdout",
     "output_type": "stream",
     "text": [
      "{'Material Code': 10001060, 'RMSE': 6.6721784348049065}\n"
     ]
    },
    {
     "name": "stderr",
     "output_type": "stream",
     "text": [
      "16:42:15 - cmdstanpy - INFO - Chain [1] start processing\n",
      "16:42:15 - cmdstanpy - INFO - Chain [1] done processing\n"
     ]
    },
    {
     "name": "stdout",
     "output_type": "stream",
     "text": [
      "{'Material Code': 10001061, 'RMSE': 2.325481553047167}\n"
     ]
    },
    {
     "name": "stderr",
     "output_type": "stream",
     "text": [
      "16:42:16 - cmdstanpy - INFO - Chain [1] start processing\n",
      "16:42:16 - cmdstanpy - INFO - Chain [1] done processing\n"
     ]
    },
    {
     "name": "stdout",
     "output_type": "stream",
     "text": [
      "{'Material Code': 10001062, 'RMSE': 75.50280043191701}\n"
     ]
    },
    {
     "name": "stderr",
     "output_type": "stream",
     "text": [
      "16:42:16 - cmdstanpy - INFO - Chain [1] start processing\n",
      "16:42:16 - cmdstanpy - INFO - Chain [1] done processing\n"
     ]
    },
    {
     "name": "stdout",
     "output_type": "stream",
     "text": [
      "{'Material Code': 10001077, 'RMSE': 49.43098089409979}\n"
     ]
    },
    {
     "name": "stderr",
     "output_type": "stream",
     "text": [
      "16:42:17 - cmdstanpy - INFO - Chain [1] start processing\n",
      "16:42:17 - cmdstanpy - INFO - Chain [1] done processing\n"
     ]
    },
    {
     "name": "stdout",
     "output_type": "stream",
     "text": [
      "{'Material Code': 10001078, 'RMSE': 123.57214212361035}\n"
     ]
    },
    {
     "name": "stderr",
     "output_type": "stream",
     "text": [
      "16:42:17 - cmdstanpy - INFO - Chain [1] start processing\n",
      "16:42:17 - cmdstanpy - INFO - Chain [1] done processing\n"
     ]
    },
    {
     "name": "stdout",
     "output_type": "stream",
     "text": [
      "{'Material Code': 10001081, 'RMSE': 64.93256763018458}\n"
     ]
    },
    {
     "name": "stderr",
     "output_type": "stream",
     "text": [
      "16:42:18 - cmdstanpy - INFO - Chain [1] start processing\n",
      "16:42:18 - cmdstanpy - INFO - Chain [1] done processing\n"
     ]
    },
    {
     "name": "stdout",
     "output_type": "stream",
     "text": [
      "{'Material Code': 10001082, 'RMSE': 40.53417285068099}\n"
     ]
    },
    {
     "name": "stderr",
     "output_type": "stream",
     "text": [
      "16:42:18 - cmdstanpy - INFO - Chain [1] start processing\n",
      "16:42:18 - cmdstanpy - INFO - Chain [1] done processing\n"
     ]
    },
    {
     "name": "stdout",
     "output_type": "stream",
     "text": [
      "{'Material Code': 10001084, 'RMSE': 205.20178757395107}\n"
     ]
    },
    {
     "name": "stderr",
     "output_type": "stream",
     "text": [
      "16:42:18 - cmdstanpy - INFO - Chain [1] start processing\n",
      "16:42:18 - cmdstanpy - INFO - Chain [1] done processing\n"
     ]
    },
    {
     "name": "stdout",
     "output_type": "stream",
     "text": [
      "{'Material Code': 10001085, 'RMSE': 9.969667322123158}\n"
     ]
    },
    {
     "name": "stderr",
     "output_type": "stream",
     "text": [
      "16:42:19 - cmdstanpy - INFO - Chain [1] start processing\n",
      "16:42:19 - cmdstanpy - INFO - Chain [1] done processing\n"
     ]
    },
    {
     "name": "stdout",
     "output_type": "stream",
     "text": [
      "{'Material Code': 10001086, 'RMSE': 50.75266004533919}\n"
     ]
    },
    {
     "name": "stderr",
     "output_type": "stream",
     "text": [
      "16:42:19 - cmdstanpy - INFO - Chain [1] start processing\n",
      "16:42:19 - cmdstanpy - INFO - Chain [1] done processing\n"
     ]
    },
    {
     "name": "stdout",
     "output_type": "stream",
     "text": [
      "{'Material Code': 10001097, 'RMSE': 4.190200141164075}\n"
     ]
    },
    {
     "name": "stderr",
     "output_type": "stream",
     "text": [
      "16:42:20 - cmdstanpy - INFO - Chain [1] start processing\n",
      "16:42:20 - cmdstanpy - INFO - Chain [1] done processing\n"
     ]
    },
    {
     "name": "stdout",
     "output_type": "stream",
     "text": [
      "{'Material Code': 10001098, 'RMSE': 6.9735192142227795}\n"
     ]
    },
    {
     "name": "stderr",
     "output_type": "stream",
     "text": [
      "16:42:20 - cmdstanpy - INFO - Chain [1] start processing\n",
      "16:42:20 - cmdstanpy - INFO - Chain [1] done processing\n"
     ]
    },
    {
     "name": "stdout",
     "output_type": "stream",
     "text": [
      "{'Material Code': 10001099, 'RMSE': 12.11048707013883}\n"
     ]
    },
    {
     "name": "stderr",
     "output_type": "stream",
     "text": [
      "16:42:21 - cmdstanpy - INFO - Chain [1] start processing\n",
      "16:42:21 - cmdstanpy - INFO - Chain [1] done processing\n"
     ]
    },
    {
     "name": "stdout",
     "output_type": "stream",
     "text": [
      "{'Material Code': 10001105, 'RMSE': 9.621627911103932}\n"
     ]
    },
    {
     "name": "stderr",
     "output_type": "stream",
     "text": [
      "16:42:21 - cmdstanpy - INFO - Chain [1] start processing\n",
      "16:42:21 - cmdstanpy - INFO - Chain [1] done processing\n"
     ]
    },
    {
     "name": "stdout",
     "output_type": "stream",
     "text": [
      "{'Material Code': 10001106, 'RMSE': 7.289212892135191}\n"
     ]
    },
    {
     "name": "stderr",
     "output_type": "stream",
     "text": [
      "16:42:22 - cmdstanpy - INFO - Chain [1] start processing\n",
      "16:42:22 - cmdstanpy - INFO - Chain [1] done processing\n"
     ]
    },
    {
     "name": "stdout",
     "output_type": "stream",
     "text": [
      "{'Material Code': 10001128, 'RMSE': 3.7388222118864722}\n"
     ]
    },
    {
     "name": "stderr",
     "output_type": "stream",
     "text": [
      "16:42:22 - cmdstanpy - INFO - Chain [1] start processing\n",
      "16:42:22 - cmdstanpy - INFO - Chain [1] done processing\n"
     ]
    },
    {
     "name": "stdout",
     "output_type": "stream",
     "text": [
      "{'Material Code': 10001129, 'RMSE': 16.785982657970766}\n"
     ]
    },
    {
     "name": "stderr",
     "output_type": "stream",
     "text": [
      "16:42:23 - cmdstanpy - INFO - Chain [1] start processing\n",
      "16:42:23 - cmdstanpy - INFO - Chain [1] done processing\n"
     ]
    },
    {
     "name": "stdout",
     "output_type": "stream",
     "text": [
      "{'Material Code': 10001132, 'RMSE': 2.9003380214708883}\n"
     ]
    },
    {
     "name": "stderr",
     "output_type": "stream",
     "text": [
      "16:42:23 - cmdstanpy - INFO - Chain [1] start processing\n",
      "16:42:23 - cmdstanpy - INFO - Chain [1] done processing\n"
     ]
    },
    {
     "name": "stdout",
     "output_type": "stream",
     "text": [
      "{'Material Code': 10001133, 'RMSE': 1.9311137050756109}\n"
     ]
    },
    {
     "name": "stderr",
     "output_type": "stream",
     "text": [
      "16:42:24 - cmdstanpy - INFO - Chain [1] start processing\n",
      "16:42:24 - cmdstanpy - INFO - Chain [1] done processing\n"
     ]
    },
    {
     "name": "stdout",
     "output_type": "stream",
     "text": [
      "{'Material Code': 10001134, 'RMSE': 0.4501641625526945}\n"
     ]
    },
    {
     "name": "stderr",
     "output_type": "stream",
     "text": [
      "16:42:24 - cmdstanpy - INFO - Chain [1] start processing\n",
      "16:42:24 - cmdstanpy - INFO - Chain [1] done processing\n"
     ]
    },
    {
     "name": "stdout",
     "output_type": "stream",
     "text": [
      "{'Material Code': 10001147, 'RMSE': 0.36048116095317495}\n",
      "{'Material Code': 10001183, 'RMSE': 0.0}\n"
     ]
    },
    {
     "name": "stderr",
     "output_type": "stream",
     "text": [
      "16:42:25 - cmdstanpy - INFO - Chain [1] start processing\n",
      "16:42:25 - cmdstanpy - INFO - Chain [1] done processing\n"
     ]
    },
    {
     "name": "stdout",
     "output_type": "stream",
     "text": [
      "{'Material Code': 10001184, 'RMSE': 24.46451065132057}\n"
     ]
    },
    {
     "name": "stderr",
     "output_type": "stream",
     "text": [
      "16:42:25 - cmdstanpy - INFO - Chain [1] start processing\n",
      "16:42:25 - cmdstanpy - INFO - Chain [1] done processing\n"
     ]
    },
    {
     "name": "stdout",
     "output_type": "stream",
     "text": [
      "{'Material Code': 10001185, 'RMSE': 124.04703480607562}\n"
     ]
    },
    {
     "name": "stderr",
     "output_type": "stream",
     "text": [
      "16:42:26 - cmdstanpy - INFO - Chain [1] start processing\n",
      "16:42:26 - cmdstanpy - INFO - Chain [1] done processing\n"
     ]
    },
    {
     "name": "stdout",
     "output_type": "stream",
     "text": [
      "{'Material Code': 10001187, 'RMSE': 142.8347859331856}\n"
     ]
    },
    {
     "name": "stderr",
     "output_type": "stream",
     "text": [
      "16:42:26 - cmdstanpy - INFO - Chain [1] start processing\n",
      "16:42:26 - cmdstanpy - INFO - Chain [1] done processing\n"
     ]
    },
    {
     "name": "stdout",
     "output_type": "stream",
     "text": [
      "{'Material Code': 10001205, 'RMSE': 0.5004510025772745}\n"
     ]
    },
    {
     "name": "stderr",
     "output_type": "stream",
     "text": [
      "16:42:27 - cmdstanpy - INFO - Chain [1] start processing\n",
      "16:42:27 - cmdstanpy - INFO - Chain [1] done processing\n"
     ]
    },
    {
     "name": "stdout",
     "output_type": "stream",
     "text": [
      "{'Material Code': 10001206, 'RMSE': 2.53129720071196}\n"
     ]
    },
    {
     "name": "stderr",
     "output_type": "stream",
     "text": [
      "16:42:27 - cmdstanpy - INFO - Chain [1] start processing\n",
      "16:42:27 - cmdstanpy - INFO - Chain [1] done processing\n"
     ]
    },
    {
     "name": "stdout",
     "output_type": "stream",
     "text": [
      "{'Material Code': 10001207, 'RMSE': 0.010923643368654916}\n"
     ]
    },
    {
     "name": "stderr",
     "output_type": "stream",
     "text": [
      "16:42:28 - cmdstanpy - INFO - Chain [1] start processing\n",
      "16:42:28 - cmdstanpy - INFO - Chain [1] done processing\n"
     ]
    },
    {
     "name": "stdout",
     "output_type": "stream",
     "text": [
      "{'Material Code': 10001211, 'RMSE': 1.4355440698596753}\n",
      "{'Material Code': 10001212, 'RMSE': 0.0}\n"
     ]
    },
    {
     "name": "stderr",
     "output_type": "stream",
     "text": [
      "16:42:29 - cmdstanpy - INFO - Chain [1] start processing\n",
      "16:42:29 - cmdstanpy - INFO - Chain [1] done processing\n"
     ]
    },
    {
     "name": "stdout",
     "output_type": "stream",
     "text": [
      "{'Material Code': 10001213, 'RMSE': 7.036120664683721}\n"
     ]
    },
    {
     "name": "stderr",
     "output_type": "stream",
     "text": [
      "16:42:29 - cmdstanpy - INFO - Chain [1] start processing\n",
      "16:42:29 - cmdstanpy - INFO - Chain [1] done processing\n"
     ]
    },
    {
     "name": "stdout",
     "output_type": "stream",
     "text": [
      "{'Material Code': 10001214, 'RMSE': 2.83713205288676}\n"
     ]
    },
    {
     "name": "stderr",
     "output_type": "stream",
     "text": [
      "16:42:30 - cmdstanpy - INFO - Chain [1] start processing\n",
      "16:42:30 - cmdstanpy - INFO - Chain [1] done processing\n"
     ]
    },
    {
     "name": "stdout",
     "output_type": "stream",
     "text": [
      "{'Material Code': 10001218, 'RMSE': 4.834911818287544}\n"
     ]
    },
    {
     "name": "stderr",
     "output_type": "stream",
     "text": [
      "16:42:30 - cmdstanpy - INFO - Chain [1] start processing\n",
      "16:42:30 - cmdstanpy - INFO - Chain [1] done processing\n"
     ]
    },
    {
     "name": "stdout",
     "output_type": "stream",
     "text": [
      "{'Material Code': 10001219, 'RMSE': 2.4805073339927293}\n"
     ]
    },
    {
     "name": "stderr",
     "output_type": "stream",
     "text": [
      "16:42:31 - cmdstanpy - INFO - Chain [1] start processing\n",
      "16:42:31 - cmdstanpy - INFO - Chain [1] done processing\n"
     ]
    },
    {
     "name": "stdout",
     "output_type": "stream",
     "text": [
      "{'Material Code': 10001220, 'RMSE': 1.797864351338422}\n"
     ]
    },
    {
     "name": "stderr",
     "output_type": "stream",
     "text": [
      "16:42:31 - cmdstanpy - INFO - Chain [1] start processing\n",
      "16:42:31 - cmdstanpy - INFO - Chain [1] done processing\n"
     ]
    },
    {
     "name": "stdout",
     "output_type": "stream",
     "text": [
      "{'Material Code': 10001224, 'RMSE': 0.4996572972004827}\n"
     ]
    },
    {
     "name": "stderr",
     "output_type": "stream",
     "text": [
      "16:42:32 - cmdstanpy - INFO - Chain [1] start processing\n",
      "16:42:32 - cmdstanpy - INFO - Chain [1] done processing\n"
     ]
    },
    {
     "name": "stdout",
     "output_type": "stream",
     "text": [
      "{'Material Code': 10001225, 'RMSE': 0.5296702068001757}\n"
     ]
    },
    {
     "name": "stderr",
     "output_type": "stream",
     "text": [
      "16:42:32 - cmdstanpy - INFO - Chain [1] start processing\n",
      "16:42:32 - cmdstanpy - INFO - Chain [1] done processing\n"
     ]
    },
    {
     "name": "stdout",
     "output_type": "stream",
     "text": [
      "{'Material Code': 10001226, 'RMSE': 0.3978918501258346}\n"
     ]
    },
    {
     "name": "stderr",
     "output_type": "stream",
     "text": [
      "16:42:33 - cmdstanpy - INFO - Chain [1] start processing\n",
      "16:42:33 - cmdstanpy - INFO - Chain [1] done processing\n"
     ]
    },
    {
     "name": "stdout",
     "output_type": "stream",
     "text": [
      "{'Material Code': 10001231, 'RMSE': 142.16767251495898}\n"
     ]
    },
    {
     "name": "stderr",
     "output_type": "stream",
     "text": [
      "16:42:33 - cmdstanpy - INFO - Chain [1] start processing\n",
      "16:42:33 - cmdstanpy - INFO - Chain [1] done processing\n"
     ]
    },
    {
     "name": "stdout",
     "output_type": "stream",
     "text": [
      "{'Material Code': 10001235, 'RMSE': 0.7673281385622258}\n"
     ]
    },
    {
     "name": "stderr",
     "output_type": "stream",
     "text": [
      "16:42:33 - cmdstanpy - INFO - Chain [1] start processing\n",
      "16:42:33 - cmdstanpy - INFO - Chain [1] done processing\n"
     ]
    },
    {
     "name": "stdout",
     "output_type": "stream",
     "text": [
      "{'Material Code': 10001237, 'RMSE': 1.5882260385008968}\n"
     ]
    },
    {
     "name": "stderr",
     "output_type": "stream",
     "text": [
      "16:42:34 - cmdstanpy - INFO - Chain [1] start processing\n",
      "16:42:34 - cmdstanpy - INFO - Chain [1] done processing\n"
     ]
    },
    {
     "name": "stdout",
     "output_type": "stream",
     "text": [
      "{'Material Code': 10001238, 'RMSE': 11.286319936281078}\n"
     ]
    },
    {
     "name": "stderr",
     "output_type": "stream",
     "text": [
      "16:42:34 - cmdstanpy - INFO - Chain [1] start processing\n",
      "16:42:34 - cmdstanpy - INFO - Chain [1] done processing\n"
     ]
    },
    {
     "name": "stdout",
     "output_type": "stream",
     "text": [
      "{'Material Code': 10001253, 'RMSE': 0.4187661508035904}\n"
     ]
    },
    {
     "name": "stderr",
     "output_type": "stream",
     "text": [
      "16:42:35 - cmdstanpy - INFO - Chain [1] start processing\n",
      "16:42:35 - cmdstanpy - INFO - Chain [1] done processing\n"
     ]
    },
    {
     "name": "stdout",
     "output_type": "stream",
     "text": [
      "{'Material Code': 10001254, 'RMSE': 2.276568121526494}\n"
     ]
    },
    {
     "name": "stderr",
     "output_type": "stream",
     "text": [
      "16:42:35 - cmdstanpy - INFO - Chain [1] start processing\n",
      "16:42:35 - cmdstanpy - INFO - Chain [1] done processing\n"
     ]
    },
    {
     "name": "stdout",
     "output_type": "stream",
     "text": [
      "{'Material Code': 10001256, 'RMSE': 0.911401719805491}\n"
     ]
    },
    {
     "name": "stderr",
     "output_type": "stream",
     "text": [
      "16:42:36 - cmdstanpy - INFO - Chain [1] start processing\n",
      "16:42:36 - cmdstanpy - INFO - Chain [1] done processing\n"
     ]
    },
    {
     "name": "stdout",
     "output_type": "stream",
     "text": [
      "{'Material Code': 10001258, 'RMSE': 7.39758078053828}\n"
     ]
    },
    {
     "name": "stderr",
     "output_type": "stream",
     "text": [
      "16:42:37 - cmdstanpy - INFO - Chain [1] start processing\n",
      "16:42:37 - cmdstanpy - INFO - Chain [1] done processing\n"
     ]
    },
    {
     "name": "stdout",
     "output_type": "stream",
     "text": [
      "{'Material Code': 10001260, 'RMSE': 3.6662363527517425}\n"
     ]
    },
    {
     "name": "stderr",
     "output_type": "stream",
     "text": [
      "16:42:37 - cmdstanpy - INFO - Chain [1] start processing\n",
      "16:42:37 - cmdstanpy - INFO - Chain [1] done processing\n"
     ]
    },
    {
     "name": "stdout",
     "output_type": "stream",
     "text": [
      "{'Material Code': 10001261, 'RMSE': 1.481859965419622}\n"
     ]
    },
    {
     "name": "stderr",
     "output_type": "stream",
     "text": [
      "16:42:37 - cmdstanpy - INFO - Chain [1] start processing\n",
      "16:42:37 - cmdstanpy - INFO - Chain [1] done processing\n"
     ]
    },
    {
     "name": "stdout",
     "output_type": "stream",
     "text": [
      "{'Material Code': 10001272, 'RMSE': 3.891206543300846}\n"
     ]
    },
    {
     "name": "stderr",
     "output_type": "stream",
     "text": [
      "16:42:38 - cmdstanpy - INFO - Chain [1] start processing\n",
      "16:42:38 - cmdstanpy - INFO - Chain [1] done processing\n"
     ]
    },
    {
     "name": "stdout",
     "output_type": "stream",
     "text": [
      "{'Material Code': 10001369, 'RMSE': 94.75223703206886}\n"
     ]
    },
    {
     "name": "stderr",
     "output_type": "stream",
     "text": [
      "16:42:38 - cmdstanpy - INFO - Chain [1] start processing\n",
      "16:42:38 - cmdstanpy - INFO - Chain [1] done processing\n"
     ]
    },
    {
     "name": "stdout",
     "output_type": "stream",
     "text": [
      "{'Material Code': 10001373, 'RMSE': 41.529658986008826}\n"
     ]
    },
    {
     "name": "stderr",
     "output_type": "stream",
     "text": [
      "16:42:39 - cmdstanpy - INFO - Chain [1] start processing\n",
      "16:42:39 - cmdstanpy - INFO - Chain [1] done processing\n"
     ]
    },
    {
     "name": "stdout",
     "output_type": "stream",
     "text": [
      "{'Material Code': 10001442, 'RMSE': 179.17840029108885}\n"
     ]
    },
    {
     "name": "stderr",
     "output_type": "stream",
     "text": [
      "16:42:39 - cmdstanpy - INFO - Chain [1] start processing\n",
      "16:42:39 - cmdstanpy - INFO - Chain [1] done processing\n"
     ]
    },
    {
     "name": "stdout",
     "output_type": "stream",
     "text": [
      "{'Material Code': 10001443, 'RMSE': 1.464690737942409}\n"
     ]
    },
    {
     "name": "stderr",
     "output_type": "stream",
     "text": [
      "16:42:40 - cmdstanpy - INFO - Chain [1] start processing\n",
      "16:42:40 - cmdstanpy - INFO - Chain [1] done processing\n"
     ]
    },
    {
     "name": "stdout",
     "output_type": "stream",
     "text": [
      "{'Material Code': 10001448, 'RMSE': 18.3711653538088}\n"
     ]
    },
    {
     "name": "stderr",
     "output_type": "stream",
     "text": [
      "16:42:40 - cmdstanpy - INFO - Chain [1] start processing\n",
      "16:42:40 - cmdstanpy - INFO - Chain [1] done processing\n"
     ]
    },
    {
     "name": "stdout",
     "output_type": "stream",
     "text": [
      "{'Material Code': 10001449, 'RMSE': 20.458227118979412}\n"
     ]
    },
    {
     "name": "stderr",
     "output_type": "stream",
     "text": [
      "16:42:41 - cmdstanpy - INFO - Chain [1] start processing\n",
      "16:42:41 - cmdstanpy - INFO - Chain [1] done processing\n"
     ]
    },
    {
     "name": "stdout",
     "output_type": "stream",
     "text": [
      "{'Material Code': 10001450, 'RMSE': 91.6079982851445}\n"
     ]
    },
    {
     "name": "stderr",
     "output_type": "stream",
     "text": [
      "16:42:41 - cmdstanpy - INFO - Chain [1] start processing\n",
      "16:42:41 - cmdstanpy - INFO - Chain [1] done processing\n"
     ]
    },
    {
     "name": "stdout",
     "output_type": "stream",
     "text": [
      "{'Material Code': 10001454, 'RMSE': 52.68361733382688}\n",
      "{'Material Code': 10001534, 'RMSE': 0.0}\n"
     ]
    },
    {
     "name": "stderr",
     "output_type": "stream",
     "text": [
      "16:42:42 - cmdstanpy - INFO - Chain [1] start processing\n",
      "16:42:42 - cmdstanpy - INFO - Chain [1] done processing\n"
     ]
    },
    {
     "name": "stdout",
     "output_type": "stream",
     "text": [
      "{'Material Code': 10001535, 'RMSE': 38.397243611607664}\n"
     ]
    },
    {
     "name": "stderr",
     "output_type": "stream",
     "text": [
      "16:42:42 - cmdstanpy - INFO - Chain [1] start processing\n",
      "16:42:42 - cmdstanpy - INFO - Chain [1] done processing\n"
     ]
    },
    {
     "name": "stdout",
     "output_type": "stream",
     "text": [
      "{'Material Code': 10001552, 'RMSE': 0.325068095730529}\n"
     ]
    },
    {
     "name": "stderr",
     "output_type": "stream",
     "text": [
      "16:42:43 - cmdstanpy - INFO - Chain [1] start processing\n",
      "16:42:43 - cmdstanpy - INFO - Chain [1] done processing\n"
     ]
    },
    {
     "name": "stdout",
     "output_type": "stream",
     "text": [
      "{'Material Code': 10001553, 'RMSE': 1.3575286123547403}\n"
     ]
    },
    {
     "name": "stderr",
     "output_type": "stream",
     "text": [
      "16:42:43 - cmdstanpy - INFO - Chain [1] start processing\n",
      "16:42:43 - cmdstanpy - INFO - Chain [1] done processing\n"
     ]
    },
    {
     "name": "stdout",
     "output_type": "stream",
     "text": [
      "{'Material Code': 10001596, 'RMSE': 4.088513614258324}\n"
     ]
    },
    {
     "name": "stderr",
     "output_type": "stream",
     "text": [
      "16:42:44 - cmdstanpy - INFO - Chain [1] start processing\n",
      "16:42:44 - cmdstanpy - INFO - Chain [1] done processing\n"
     ]
    },
    {
     "name": "stdout",
     "output_type": "stream",
     "text": [
      "{'Material Code': 10001606, 'RMSE': 0.6800341942440798}\n"
     ]
    },
    {
     "name": "stderr",
     "output_type": "stream",
     "text": [
      "16:42:44 - cmdstanpy - INFO - Chain [1] start processing\n",
      "16:42:44 - cmdstanpy - INFO - Chain [1] done processing\n"
     ]
    },
    {
     "name": "stdout",
     "output_type": "stream",
     "text": [
      "{'Material Code': 10001611, 'RMSE': 2.5130156518609263}\n"
     ]
    },
    {
     "name": "stderr",
     "output_type": "stream",
     "text": [
      "16:42:45 - cmdstanpy - INFO - Chain [1] start processing\n",
      "16:42:45 - cmdstanpy - INFO - Chain [1] done processing\n"
     ]
    },
    {
     "name": "stdout",
     "output_type": "stream",
     "text": [
      "{'Material Code': 10001612, 'RMSE': 378.54087596447926}\n"
     ]
    },
    {
     "name": "stderr",
     "output_type": "stream",
     "text": [
      "16:42:45 - cmdstanpy - INFO - Chain [1] start processing\n",
      "16:42:45 - cmdstanpy - INFO - Chain [1] done processing\n"
     ]
    },
    {
     "name": "stdout",
     "output_type": "stream",
     "text": [
      "{'Material Code': 10001614, 'RMSE': 7.247620876996146}\n"
     ]
    },
    {
     "name": "stderr",
     "output_type": "stream",
     "text": [
      "16:42:46 - cmdstanpy - INFO - Chain [1] start processing\n",
      "16:42:46 - cmdstanpy - INFO - Chain [1] done processing\n"
     ]
    },
    {
     "name": "stdout",
     "output_type": "stream",
     "text": [
      "{'Material Code': 10001620, 'RMSE': 404.3597442653569}\n"
     ]
    },
    {
     "name": "stderr",
     "output_type": "stream",
     "text": [
      "16:42:46 - cmdstanpy - INFO - Chain [1] start processing\n",
      "16:42:46 - cmdstanpy - INFO - Chain [1] done processing\n"
     ]
    },
    {
     "name": "stdout",
     "output_type": "stream",
     "text": [
      "{'Material Code': 10001668, 'RMSE': 45.1326063529185}\n"
     ]
    },
    {
     "name": "stderr",
     "output_type": "stream",
     "text": [
      "16:42:46 - cmdstanpy - INFO - Chain [1] start processing\n",
      "16:42:46 - cmdstanpy - INFO - Chain [1] done processing\n"
     ]
    },
    {
     "name": "stdout",
     "output_type": "stream",
     "text": [
      "{'Material Code': 10001669, 'RMSE': 15.307474369065229}\n"
     ]
    },
    {
     "name": "stderr",
     "output_type": "stream",
     "text": [
      "16:42:47 - cmdstanpy - INFO - Chain [1] start processing\n",
      "16:42:47 - cmdstanpy - INFO - Chain [1] done processing\n"
     ]
    },
    {
     "name": "stdout",
     "output_type": "stream",
     "text": [
      "{'Material Code': 10001670, 'RMSE': 0.42103518369683485}\n"
     ]
    },
    {
     "name": "stderr",
     "output_type": "stream",
     "text": [
      "16:42:47 - cmdstanpy - INFO - Chain [1] start processing\n",
      "16:42:47 - cmdstanpy - INFO - Chain [1] done processing\n"
     ]
    },
    {
     "name": "stdout",
     "output_type": "stream",
     "text": [
      "{'Material Code': 10001705, 'RMSE': 12.345352143703478}\n"
     ]
    },
    {
     "name": "stderr",
     "output_type": "stream",
     "text": [
      "16:42:48 - cmdstanpy - INFO - Chain [1] start processing\n",
      "16:42:48 - cmdstanpy - INFO - Chain [1] done processing\n"
     ]
    },
    {
     "name": "stdout",
     "output_type": "stream",
     "text": [
      "{'Material Code': 10001732, 'RMSE': 3.014935849731666}\n",
      "{'Material Code': 10001745, 'RMSE': 0.0}\n",
      "{'Material Code': 10001752, 'RMSE': 0.0}\n"
     ]
    },
    {
     "name": "stderr",
     "output_type": "stream",
     "text": [
      "16:42:49 - cmdstanpy - INFO - Chain [1] start processing\n",
      "16:42:49 - cmdstanpy - INFO - Chain [1] done processing\n"
     ]
    },
    {
     "name": "stdout",
     "output_type": "stream",
     "text": [
      "{'Material Code': 10001843, 'RMSE': 0.24977717820867013}\n",
      "{'Material Code': 10001844, 'RMSE': 0.0}\n"
     ]
    },
    {
     "name": "stderr",
     "output_type": "stream",
     "text": [
      "16:42:50 - cmdstanpy - INFO - Chain [1] start processing\n",
      "16:42:50 - cmdstanpy - INFO - Chain [1] done processing\n"
     ]
    },
    {
     "name": "stdout",
     "output_type": "stream",
     "text": [
      "{'Material Code': 10001851, 'RMSE': 5.1982771010687685}\n"
     ]
    },
    {
     "name": "stderr",
     "output_type": "stream",
     "text": [
      "16:42:51 - cmdstanpy - INFO - Chain [1] start processing\n",
      "16:42:51 - cmdstanpy - INFO - Chain [1] done processing\n"
     ]
    },
    {
     "name": "stdout",
     "output_type": "stream",
     "text": [
      "{'Material Code': 10001891, 'RMSE': 1.6989792338943548}\n"
     ]
    },
    {
     "name": "stderr",
     "output_type": "stream",
     "text": [
      "16:42:51 - cmdstanpy - INFO - Chain [1] start processing\n",
      "16:42:51 - cmdstanpy - INFO - Chain [1] done processing\n"
     ]
    },
    {
     "name": "stdout",
     "output_type": "stream",
     "text": [
      "{'Material Code': 10001906, 'RMSE': 2.7182671400700746}\n"
     ]
    },
    {
     "name": "stderr",
     "output_type": "stream",
     "text": [
      "16:42:52 - cmdstanpy - INFO - Chain [1] start processing\n",
      "16:42:52 - cmdstanpy - INFO - Chain [1] done processing\n"
     ]
    },
    {
     "name": "stdout",
     "output_type": "stream",
     "text": [
      "{'Material Code': 10001907, 'RMSE': 4.646390204539761}\n"
     ]
    },
    {
     "name": "stderr",
     "output_type": "stream",
     "text": [
      "16:42:52 - cmdstanpy - INFO - Chain [1] start processing\n",
      "16:42:52 - cmdstanpy - INFO - Chain [1] done processing\n"
     ]
    },
    {
     "name": "stdout",
     "output_type": "stream",
     "text": [
      "{'Material Code': 10001917, 'RMSE': 1.2478153149594435}\n"
     ]
    },
    {
     "name": "stderr",
     "output_type": "stream",
     "text": [
      "16:42:53 - cmdstanpy - INFO - Chain [1] start processing\n",
      "16:42:53 - cmdstanpy - INFO - Chain [1] done processing\n"
     ]
    },
    {
     "name": "stdout",
     "output_type": "stream",
     "text": [
      "{'Material Code': 10001921, 'RMSE': 44.454046001243995}\n"
     ]
    },
    {
     "name": "stderr",
     "output_type": "stream",
     "text": [
      "16:42:53 - cmdstanpy - INFO - Chain [1] start processing\n",
      "16:42:53 - cmdstanpy - INFO - Chain [1] done processing\n"
     ]
    },
    {
     "name": "stdout",
     "output_type": "stream",
     "text": [
      "{'Material Code': 10001922, 'RMSE': 103.21027738813093}\n"
     ]
    },
    {
     "name": "stderr",
     "output_type": "stream",
     "text": [
      "16:42:54 - cmdstanpy - INFO - Chain [1] start processing\n",
      "16:42:54 - cmdstanpy - INFO - Chain [1] done processing\n"
     ]
    },
    {
     "name": "stdout",
     "output_type": "stream",
     "text": [
      "{'Material Code': 10001930, 'RMSE': 4.313462009593808}\n"
     ]
    },
    {
     "name": "stderr",
     "output_type": "stream",
     "text": [
      "16:42:54 - cmdstanpy - INFO - Chain [1] start processing\n",
      "16:42:54 - cmdstanpy - INFO - Chain [1] done processing\n"
     ]
    },
    {
     "name": "stdout",
     "output_type": "stream",
     "text": [
      "{'Material Code': 10001968, 'RMSE': 1.492999406749256}\n",
      "{'Material Code': 10002010, 'RMSE': 0.0}\n"
     ]
    },
    {
     "name": "stderr",
     "output_type": "stream",
     "text": [
      "16:42:55 - cmdstanpy - INFO - Chain [1] start processing\n",
      "16:42:55 - cmdstanpy - INFO - Chain [1] done processing\n"
     ]
    },
    {
     "name": "stdout",
     "output_type": "stream",
     "text": [
      "{'Material Code': 10002052, 'RMSE': 97.07372917811153}\n"
     ]
    },
    {
     "name": "stderr",
     "output_type": "stream",
     "text": [
      "16:42:55 - cmdstanpy - INFO - Chain [1] start processing\n",
      "16:42:55 - cmdstanpy - INFO - Chain [1] done processing\n"
     ]
    },
    {
     "name": "stdout",
     "output_type": "stream",
     "text": [
      "{'Material Code': 10002053, 'RMSE': 55.37753964480339}\n"
     ]
    },
    {
     "name": "stderr",
     "output_type": "stream",
     "text": [
      "16:42:56 - cmdstanpy - INFO - Chain [1] start processing\n",
      "16:42:56 - cmdstanpy - INFO - Chain [1] done processing\n"
     ]
    },
    {
     "name": "stdout",
     "output_type": "stream",
     "text": [
      "{'Material Code': 10002054, 'RMSE': 22.102720197099128}\n"
     ]
    },
    {
     "name": "stderr",
     "output_type": "stream",
     "text": [
      "16:42:56 - cmdstanpy - INFO - Chain [1] start processing\n",
      "16:42:56 - cmdstanpy - INFO - Chain [1] done processing\n"
     ]
    },
    {
     "name": "stdout",
     "output_type": "stream",
     "text": [
      "{'Material Code': 10002117, 'RMSE': 1.328484517743156}\n"
     ]
    },
    {
     "name": "stderr",
     "output_type": "stream",
     "text": [
      "16:42:57 - cmdstanpy - INFO - Chain [1] start processing\n",
      "16:42:57 - cmdstanpy - INFO - Chain [1] done processing\n"
     ]
    },
    {
     "name": "stdout",
     "output_type": "stream",
     "text": [
      "{'Material Code': 10002118, 'RMSE': 9.093092863681095}\n"
     ]
    },
    {
     "name": "stderr",
     "output_type": "stream",
     "text": [
      "16:42:57 - cmdstanpy - INFO - Chain [1] start processing\n",
      "16:42:57 - cmdstanpy - INFO - Chain [1] done processing\n"
     ]
    },
    {
     "name": "stdout",
     "output_type": "stream",
     "text": [
      "{'Material Code': 10002119, 'RMSE': 4.044892022544231}\n"
     ]
    },
    {
     "name": "stderr",
     "output_type": "stream",
     "text": [
      "16:42:58 - cmdstanpy - INFO - Chain [1] start processing\n",
      "16:42:58 - cmdstanpy - INFO - Chain [1] done processing\n"
     ]
    },
    {
     "name": "stdout",
     "output_type": "stream",
     "text": [
      "{'Material Code': 10002120, 'RMSE': 4.8032149995907085}\n"
     ]
    },
    {
     "name": "stderr",
     "output_type": "stream",
     "text": [
      "16:42:58 - cmdstanpy - INFO - Chain [1] start processing\n",
      "16:42:58 - cmdstanpy - INFO - Chain [1] done processing\n"
     ]
    },
    {
     "name": "stdout",
     "output_type": "stream",
     "text": [
      "{'Material Code': 10002139, 'RMSE': 0.10426712702364171}\n",
      "{'Material Code': 10002148, 'RMSE': 0.0}\n"
     ]
    },
    {
     "name": "stderr",
     "output_type": "stream",
     "text": [
      "16:42:59 - cmdstanpy - INFO - Chain [1] start processing\n",
      "16:42:59 - cmdstanpy - INFO - Chain [1] done processing\n"
     ]
    },
    {
     "name": "stdout",
     "output_type": "stream",
     "text": [
      "{'Material Code': 10002160, 'RMSE': 2.957475169007223}\n"
     ]
    },
    {
     "name": "stderr",
     "output_type": "stream",
     "text": [
      "16:43:00 - cmdstanpy - INFO - Chain [1] start processing\n",
      "16:43:00 - cmdstanpy - INFO - Chain [1] done processing\n"
     ]
    },
    {
     "name": "stdout",
     "output_type": "stream",
     "text": [
      "{'Material Code': 10002161, 'RMSE': 42.54921290067663}\n",
      "{'Material Code': 10002166, 'RMSE': 0.0}\n"
     ]
    },
    {
     "name": "stderr",
     "output_type": "stream",
     "text": [
      "16:43:00 - cmdstanpy - INFO - Chain [1] start processing\n",
      "16:43:00 - cmdstanpy - INFO - Chain [1] done processing\n"
     ]
    },
    {
     "name": "stdout",
     "output_type": "stream",
     "text": [
      "{'Material Code': 10002173, 'RMSE': 7.38069169726163}\n"
     ]
    },
    {
     "name": "stderr",
     "output_type": "stream",
     "text": [
      "16:43:01 - cmdstanpy - INFO - Chain [1] start processing\n",
      "16:43:01 - cmdstanpy - INFO - Chain [1] done processing\n"
     ]
    },
    {
     "name": "stdout",
     "output_type": "stream",
     "text": [
      "{'Material Code': 10002203, 'RMSE': 2002.8569787871475}\n"
     ]
    },
    {
     "name": "stderr",
     "output_type": "stream",
     "text": [
      "16:43:01 - cmdstanpy - INFO - Chain [1] start processing\n",
      "16:43:01 - cmdstanpy - INFO - Chain [1] done processing\n"
     ]
    },
    {
     "name": "stdout",
     "output_type": "stream",
     "text": [
      "{'Material Code': 10002341, 'RMSE': 223.50243849091513}\n"
     ]
    },
    {
     "name": "stderr",
     "output_type": "stream",
     "text": [
      "16:43:02 - cmdstanpy - INFO - Chain [1] start processing\n",
      "16:43:02 - cmdstanpy - INFO - Chain [1] done processing\n"
     ]
    },
    {
     "name": "stdout",
     "output_type": "stream",
     "text": [
      "{'Material Code': 10002343, 'RMSE': 1.5522708006357595}\n",
      "{'Material Code': 10002373, 'RMSE': 0.0}\n"
     ]
    },
    {
     "name": "stderr",
     "output_type": "stream",
     "text": [
      "16:43:03 - cmdstanpy - INFO - Chain [1] start processing\n",
      "16:43:03 - cmdstanpy - INFO - Chain [1] done processing\n"
     ]
    },
    {
     "name": "stdout",
     "output_type": "stream",
     "text": [
      "{'Material Code': 10002405, 'RMSE': 0.5591300226731163}\n"
     ]
    },
    {
     "name": "stderr",
     "output_type": "stream",
     "text": [
      "16:43:03 - cmdstanpy - INFO - Chain [1] start processing\n",
      "16:43:03 - cmdstanpy - INFO - Chain [1] done processing\n"
     ]
    },
    {
     "name": "stdout",
     "output_type": "stream",
     "text": [
      "{'Material Code': 10002407, 'RMSE': 0.5915198490415202}\n",
      "{'Material Code': 10002446, 'RMSE': 0.0}\n",
      "{'Material Code': 10005046, 'RMSE': 0.08333333333333333}\n"
     ]
    },
    {
     "name": "stderr",
     "output_type": "stream",
     "text": [
      "16:43:04 - cmdstanpy - INFO - Chain [1] start processing\n",
      "16:43:04 - cmdstanpy - INFO - Chain [1] done processing\n"
     ]
    },
    {
     "name": "stdout",
     "output_type": "stream",
     "text": [
      "{'Material Code': 10005057, 'RMSE': 84.92933766188102}\n"
     ]
    },
    {
     "name": "stderr",
     "output_type": "stream",
     "text": [
      "16:43:05 - cmdstanpy - INFO - Chain [1] start processing\n",
      "16:43:05 - cmdstanpy - INFO - Chain [1] done processing\n"
     ]
    },
    {
     "name": "stdout",
     "output_type": "stream",
     "text": [
      "{'Material Code': 10005058, 'RMSE': 32.49579092495299}\n"
     ]
    },
    {
     "name": "stderr",
     "output_type": "stream",
     "text": [
      "16:43:05 - cmdstanpy - INFO - Chain [1] start processing\n",
      "16:43:05 - cmdstanpy - INFO - Chain [1] done processing\n"
     ]
    },
    {
     "name": "stdout",
     "output_type": "stream",
     "text": [
      "{'Material Code': 10005059, 'RMSE': 8.401342645959053}\n"
     ]
    },
    {
     "name": "stderr",
     "output_type": "stream",
     "text": [
      "16:43:06 - cmdstanpy - INFO - Chain [1] start processing\n",
      "16:43:06 - cmdstanpy - INFO - Chain [1] done processing\n"
     ]
    },
    {
     "name": "stdout",
     "output_type": "stream",
     "text": [
      "{'Material Code': 10005060, 'RMSE': 17.731003329697742}\n"
     ]
    },
    {
     "name": "stderr",
     "output_type": "stream",
     "text": [
      "16:43:06 - cmdstanpy - INFO - Chain [1] start processing\n",
      "16:43:06 - cmdstanpy - INFO - Chain [1] done processing\n"
     ]
    },
    {
     "name": "stdout",
     "output_type": "stream",
     "text": [
      "{'Material Code': 10005061, 'RMSE': 159.3414533450464}\n",
      "{'Material Code': 10005062, 'RMSE': 0.0}\n",
      "{'Material Code': 10005063, 'RMSE': 0.0}\n"
     ]
    },
    {
     "name": "stderr",
     "output_type": "stream",
     "text": [
      "16:43:08 - cmdstanpy - INFO - Chain [1] start processing\n",
      "16:43:08 - cmdstanpy - INFO - Chain [1] done processing\n"
     ]
    },
    {
     "name": "stdout",
     "output_type": "stream",
     "text": [
      "{'Material Code': 10005065, 'RMSE': 60.94755207962321}\n"
     ]
    },
    {
     "name": "stderr",
     "output_type": "stream",
     "text": [
      "16:43:08 - cmdstanpy - INFO - Chain [1] start processing\n",
      "16:43:09 - cmdstanpy - INFO - Chain [1] done processing\n"
     ]
    },
    {
     "name": "stdout",
     "output_type": "stream",
     "text": [
      "{'Material Code': 10005066, 'RMSE': 0.11370979346771715}\n"
     ]
    },
    {
     "name": "stderr",
     "output_type": "stream",
     "text": [
      "16:43:09 - cmdstanpy - INFO - Chain [1] start processing\n",
      "16:43:09 - cmdstanpy - INFO - Chain [1] done processing\n"
     ]
    },
    {
     "name": "stdout",
     "output_type": "stream",
     "text": [
      "{'Material Code': 10005075, 'RMSE': 474.06110523192365}\n"
     ]
    },
    {
     "name": "stderr",
     "output_type": "stream",
     "text": [
      "16:43:09 - cmdstanpy - INFO - Chain [1] start processing\n",
      "16:43:10 - cmdstanpy - INFO - Chain [1] done processing\n"
     ]
    },
    {
     "name": "stdout",
     "output_type": "stream",
     "text": [
      "{'Material Code': 10005078, 'RMSE': 426.04329013065455}\n"
     ]
    },
    {
     "name": "stderr",
     "output_type": "stream",
     "text": [
      "16:43:10 - cmdstanpy - INFO - Chain [1] start processing\n",
      "16:43:10 - cmdstanpy - INFO - Chain [1] done processing\n"
     ]
    },
    {
     "name": "stdout",
     "output_type": "stream",
     "text": [
      "{'Material Code': 10008749, 'RMSE': 2.2088106035589203}\n"
     ]
    },
    {
     "name": "stderr",
     "output_type": "stream",
     "text": [
      "16:43:10 - cmdstanpy - INFO - Chain [1] start processing\n",
      "16:43:10 - cmdstanpy - INFO - Chain [1] done processing\n"
     ]
    },
    {
     "name": "stdout",
     "output_type": "stream",
     "text": [
      "{'Material Code': 10008778, 'RMSE': 0.026775385472530666}\n",
      "{'Material Code': 10009606, 'RMSE': 0.0}\n"
     ]
    },
    {
     "name": "stderr",
     "output_type": "stream",
     "text": [
      "16:43:11 - cmdstanpy - INFO - Chain [1] start processing\n",
      "16:43:11 - cmdstanpy - INFO - Chain [1] done processing\n"
     ]
    },
    {
     "name": "stdout",
     "output_type": "stream",
     "text": [
      "{'Material Code': 10013019, 'RMSE': 3.4766322691556244}\n"
     ]
    },
    {
     "name": "stderr",
     "output_type": "stream",
     "text": [
      "16:43:12 - cmdstanpy - INFO - Chain [1] start processing\n",
      "16:43:12 - cmdstanpy - INFO - Chain [1] done processing\n"
     ]
    },
    {
     "name": "stdout",
     "output_type": "stream",
     "text": [
      "{'Material Code': 10013181, 'RMSE': 44.078833279132844}\n",
      "{'Material Code': 10020862, 'RMSE': 0.0}\n",
      "{'Material Code': 10020864, 'RMSE': 0.0}\n"
     ]
    },
    {
     "name": "stderr",
     "output_type": "stream",
     "text": [
      "16:43:13 - cmdstanpy - INFO - Chain [1] start processing\n",
      "16:43:13 - cmdstanpy - INFO - Chain [1] done processing\n"
     ]
    },
    {
     "name": "stdout",
     "output_type": "stream",
     "text": [
      "{'Material Code': 10021072, 'RMSE': 23.14665073565996}\n"
     ]
    },
    {
     "name": "stderr",
     "output_type": "stream",
     "text": [
      "16:43:13 - cmdstanpy - INFO - Chain [1] start processing\n",
      "16:43:13 - cmdstanpy - INFO - Chain [1] done processing\n"
     ]
    },
    {
     "name": "stdout",
     "output_type": "stream",
     "text": [
      "{'Material Code': 10021076, 'RMSE': 1.279987358777728}\n"
     ]
    },
    {
     "name": "stderr",
     "output_type": "stream",
     "text": [
      "16:43:14 - cmdstanpy - INFO - Chain [1] start processing\n",
      "16:43:14 - cmdstanpy - INFO - Chain [1] done processing\n"
     ]
    },
    {
     "name": "stdout",
     "output_type": "stream",
     "text": [
      "{'Material Code': 10021079, 'RMSE': 2.5987500478210763}\n",
      "{'Material Code': 10021093, 'RMSE': 0.0}\n"
     ]
    },
    {
     "name": "stderr",
     "output_type": "stream",
     "text": [
      "16:43:15 - cmdstanpy - INFO - Chain [1] start processing\n",
      "16:43:15 - cmdstanpy - INFO - Chain [1] done processing\n"
     ]
    },
    {
     "name": "stdout",
     "output_type": "stream",
     "text": [
      "{'Material Code': 10021107, 'RMSE': 1.9665089373311677}\n"
     ]
    },
    {
     "name": "stderr",
     "output_type": "stream",
     "text": [
      "16:43:15 - cmdstanpy - INFO - Chain [1] start processing\n",
      "16:43:15 - cmdstanpy - INFO - Chain [1] done processing\n"
     ]
    },
    {
     "name": "stdout",
     "output_type": "stream",
     "text": [
      "{'Material Code': 10021108, 'RMSE': 1.30188266393724}\n"
     ]
    },
    {
     "name": "stderr",
     "output_type": "stream",
     "text": [
      "16:43:15 - cmdstanpy - INFO - Chain [1] start processing\n",
      "16:43:16 - cmdstanpy - INFO - Chain [1] done processing\n"
     ]
    },
    {
     "name": "stdout",
     "output_type": "stream",
     "text": [
      "{'Material Code': 10021121, 'RMSE': 1.7533421843672858}\n",
      "{'Material Code': 10021171, 'RMSE': 0.0}\n"
     ]
    },
    {
     "name": "stderr",
     "output_type": "stream",
     "text": [
      "16:43:16 - cmdstanpy - INFO - Chain [1] start processing\n",
      "16:43:16 - cmdstanpy - INFO - Chain [1] done processing\n"
     ]
    },
    {
     "name": "stdout",
     "output_type": "stream",
     "text": [
      "{'Material Code': 10021177, 'RMSE': 362.82991993832354}\n",
      "{'Material Code': 10021181, 'RMSE': 0.0}\n"
     ]
    },
    {
     "name": "stderr",
     "output_type": "stream",
     "text": [
      "16:43:17 - cmdstanpy - INFO - Chain [1] start processing\n",
      "16:43:17 - cmdstanpy - INFO - Chain [1] done processing\n"
     ]
    },
    {
     "name": "stdout",
     "output_type": "stream",
     "text": [
      "{'Material Code': 10021197, 'RMSE': 122.53430293693094}\n"
     ]
    },
    {
     "name": "stderr",
     "output_type": "stream",
     "text": [
      "16:43:18 - cmdstanpy - INFO - Chain [1] start processing\n",
      "16:43:18 - cmdstanpy - INFO - Chain [1] done processing\n"
     ]
    },
    {
     "name": "stdout",
     "output_type": "stream",
     "text": [
      "{'Material Code': 10021211, 'RMSE': 1.8127693004616647}\n"
     ]
    },
    {
     "name": "stderr",
     "output_type": "stream",
     "text": [
      "16:43:18 - cmdstanpy - INFO - Chain [1] start processing\n",
      "16:43:18 - cmdstanpy - INFO - Chain [1] done processing\n"
     ]
    },
    {
     "name": "stdout",
     "output_type": "stream",
     "text": [
      "{'Material Code': 10021230, 'RMSE': 1.5602741432841924}\n"
     ]
    },
    {
     "name": "stderr",
     "output_type": "stream",
     "text": [
      "16:43:18 - cmdstanpy - INFO - Chain [1] start processing\n",
      "16:43:18 - cmdstanpy - INFO - Chain [1] done processing\n"
     ]
    },
    {
     "name": "stdout",
     "output_type": "stream",
     "text": [
      "{'Material Code': 10021251, 'RMSE': 337.93300966667664}\n",
      "{'Material Code': 10022094, 'RMSE': 0.08333333333333333}\n"
     ]
    },
    {
     "name": "stderr",
     "output_type": "stream",
     "text": [
      "16:43:19 - cmdstanpy - INFO - Chain [1] start processing\n",
      "16:43:19 - cmdstanpy - INFO - Chain [1] done processing\n"
     ]
    },
    {
     "name": "stdout",
     "output_type": "stream",
     "text": [
      "{'Material Code': 10022426, 'RMSE': 1.4861328442403072}\n"
     ]
    },
    {
     "name": "stderr",
     "output_type": "stream",
     "text": [
      "16:43:20 - cmdstanpy - INFO - Chain [1] start processing\n",
      "16:43:20 - cmdstanpy - INFO - Chain [1] done processing\n"
     ]
    },
    {
     "name": "stdout",
     "output_type": "stream",
     "text": [
      "{'Material Code': 10022542, 'RMSE': 0.6967638816857493}\n"
     ]
    },
    {
     "name": "stderr",
     "output_type": "stream",
     "text": [
      "16:43:20 - cmdstanpy - INFO - Chain [1] start processing\n",
      "16:43:20 - cmdstanpy - INFO - Chain [1] done processing\n"
     ]
    },
    {
     "name": "stdout",
     "output_type": "stream",
     "text": [
      "{'Material Code': 10022547, 'RMSE': 7.560738376590072}\n"
     ]
    },
    {
     "name": "stderr",
     "output_type": "stream",
     "text": [
      "16:43:21 - cmdstanpy - INFO - Chain [1] start processing\n",
      "16:43:21 - cmdstanpy - INFO - Chain [1] done processing\n"
     ]
    },
    {
     "name": "stdout",
     "output_type": "stream",
     "text": [
      "{'Material Code': 10022559, 'RMSE': 2.182345129726544}\n"
     ]
    },
    {
     "name": "stderr",
     "output_type": "stream",
     "text": [
      "16:43:21 - cmdstanpy - INFO - Chain [1] start processing\n",
      "16:43:21 - cmdstanpy - INFO - Chain [1] done processing\n"
     ]
    },
    {
     "name": "stdout",
     "output_type": "stream",
     "text": [
      "{'Material Code': 10022563, 'RMSE': 795.5018788399933}\n"
     ]
    },
    {
     "name": "stderr",
     "output_type": "stream",
     "text": [
      "16:43:22 - cmdstanpy - INFO - Chain [1] start processing\n",
      "16:43:22 - cmdstanpy - INFO - Chain [1] done processing\n"
     ]
    },
    {
     "name": "stdout",
     "output_type": "stream",
     "text": [
      "{'Material Code': 10022564, 'RMSE': 93.39087668571099}\n"
     ]
    },
    {
     "name": "stderr",
     "output_type": "stream",
     "text": [
      "16:43:22 - cmdstanpy - INFO - Chain [1] start processing\n",
      "16:43:22 - cmdstanpy - INFO - Chain [1] done processing\n"
     ]
    },
    {
     "name": "stdout",
     "output_type": "stream",
     "text": [
      "{'Material Code': 10022565, 'RMSE': 25.411264449631528}\n"
     ]
    },
    {
     "name": "stderr",
     "output_type": "stream",
     "text": [
      "16:43:23 - cmdstanpy - INFO - Chain [1] start processing\n",
      "16:43:23 - cmdstanpy - INFO - Chain [1] done processing\n"
     ]
    },
    {
     "name": "stdout",
     "output_type": "stream",
     "text": [
      "{'Material Code': 10022566, 'RMSE': 12.92351355685353}\n"
     ]
    },
    {
     "name": "stderr",
     "output_type": "stream",
     "text": [
      "16:43:23 - cmdstanpy - INFO - Chain [1] start processing\n",
      "16:43:23 - cmdstanpy - INFO - Chain [1] done processing\n"
     ]
    },
    {
     "name": "stdout",
     "output_type": "stream",
     "text": [
      "{'Material Code': 10022569, 'RMSE': 76.21197259306977}\n",
      "{'Material Code': 10022571, 'RMSE': 0.0}\n"
     ]
    },
    {
     "name": "stderr",
     "output_type": "stream",
     "text": [
      "16:43:24 - cmdstanpy - INFO - Chain [1] start processing\n",
      "16:43:24 - cmdstanpy - INFO - Chain [1] done processing\n"
     ]
    },
    {
     "name": "stdout",
     "output_type": "stream",
     "text": [
      "{'Material Code': 10022590, 'RMSE': 3.9804795183373884}\n",
      "{'Material Code': 10022617, 'RMSE': 0.0}\n",
      "{'Material Code': 10022660, 'RMSE': 0.0}\n"
     ]
    },
    {
     "name": "stderr",
     "output_type": "stream",
     "text": [
      "16:43:25 - cmdstanpy - INFO - Chain [1] start processing\n",
      "16:43:25 - cmdstanpy - INFO - Chain [1] done processing\n"
     ]
    },
    {
     "name": "stdout",
     "output_type": "stream",
     "text": [
      "{'Material Code': 10022766, 'RMSE': 33.45744526649893}\n"
     ]
    },
    {
     "name": "stderr",
     "output_type": "stream",
     "text": [
      "16:43:25 - cmdstanpy - INFO - Chain [1] start processing\n",
      "16:43:25 - cmdstanpy - INFO - Chain [1] done processing\n"
     ]
    },
    {
     "name": "stdout",
     "output_type": "stream",
     "text": [
      "{'Material Code': 10022857, 'RMSE': 0.12281778932346718}\n"
     ]
    },
    {
     "name": "stderr",
     "output_type": "stream",
     "text": [
      "16:43:26 - cmdstanpy - INFO - Chain [1] start processing\n",
      "16:43:26 - cmdstanpy - INFO - Chain [1] done processing\n"
     ]
    },
    {
     "name": "stdout",
     "output_type": "stream",
     "text": [
      "{'Material Code': 10022960, 'RMSE': 13.135135676851752}\n",
      "{'Material Code': 10023217, 'RMSE': 0.0}\n"
     ]
    },
    {
     "name": "stderr",
     "output_type": "stream",
     "text": [
      "16:43:27 - cmdstanpy - INFO - Chain [1] start processing\n",
      "16:43:27 - cmdstanpy - INFO - Chain [1] done processing\n"
     ]
    },
    {
     "name": "stdout",
     "output_type": "stream",
     "text": [
      "{'Material Code': 10023589, 'RMSE': 335.29363878937966}\n"
     ]
    },
    {
     "name": "stderr",
     "output_type": "stream",
     "text": [
      "16:43:28 - cmdstanpy - INFO - Chain [1] start processing\n",
      "16:43:28 - cmdstanpy - INFO - Chain [1] done processing\n"
     ]
    },
    {
     "name": "stdout",
     "output_type": "stream",
     "text": [
      "{'Material Code': 10023630, 'RMSE': 25.14093131568288}\n"
     ]
    },
    {
     "name": "stderr",
     "output_type": "stream",
     "text": [
      "16:43:28 - cmdstanpy - INFO - Chain [1] start processing\n",
      "16:43:28 - cmdstanpy - INFO - Chain [1] done processing\n"
     ]
    },
    {
     "name": "stdout",
     "output_type": "stream",
     "text": [
      "{'Material Code': 10023670, 'RMSE': 1.5275922587999549}\n"
     ]
    },
    {
     "name": "stderr",
     "output_type": "stream",
     "text": [
      "16:43:29 - cmdstanpy - INFO - Chain [1] start processing\n",
      "16:43:29 - cmdstanpy - INFO - Chain [1] done processing\n"
     ]
    },
    {
     "name": "stdout",
     "output_type": "stream",
     "text": [
      "{'Material Code': 10023727, 'RMSE': 0.017942674789080643}\n"
     ]
    },
    {
     "name": "stderr",
     "output_type": "stream",
     "text": [
      "16:43:29 - cmdstanpy - INFO - Chain [1] start processing\n",
      "16:43:29 - cmdstanpy - INFO - Chain [1] done processing\n"
     ]
    },
    {
     "name": "stdout",
     "output_type": "stream",
     "text": [
      "{'Material Code': 10023729, 'RMSE': 21.500342743600573}\n"
     ]
    },
    {
     "name": "stderr",
     "output_type": "stream",
     "text": [
      "16:43:30 - cmdstanpy - INFO - Chain [1] start processing\n",
      "16:43:30 - cmdstanpy - INFO - Chain [1] done processing\n"
     ]
    },
    {
     "name": "stdout",
     "output_type": "stream",
     "text": [
      "{'Material Code': 10023746, 'RMSE': 0.4087297991402083}\n"
     ]
    },
    {
     "name": "stderr",
     "output_type": "stream",
     "text": [
      "16:43:30 - cmdstanpy - INFO - Chain [1] start processing\n",
      "16:43:30 - cmdstanpy - INFO - Chain [1] done processing\n"
     ]
    },
    {
     "name": "stdout",
     "output_type": "stream",
     "text": [
      "{'Material Code': 10023757, 'RMSE': 4.564961361108242}\n"
     ]
    },
    {
     "name": "stderr",
     "output_type": "stream",
     "text": [
      "16:43:31 - cmdstanpy - INFO - Chain [1] start processing\n",
      "16:43:31 - cmdstanpy - INFO - Chain [1] done processing\n"
     ]
    },
    {
     "name": "stdout",
     "output_type": "stream",
     "text": [
      "{'Material Code': 10023761, 'RMSE': 2.03286199360558}\n"
     ]
    },
    {
     "name": "stderr",
     "output_type": "stream",
     "text": [
      "16:43:31 - cmdstanpy - INFO - Chain [1] start processing\n",
      "16:43:31 - cmdstanpy - INFO - Chain [1] done processing\n"
     ]
    },
    {
     "name": "stdout",
     "output_type": "stream",
     "text": [
      "{'Material Code': 10023855, 'RMSE': 0.5887646586269293}\n"
     ]
    },
    {
     "name": "stderr",
     "output_type": "stream",
     "text": [
      "16:43:32 - cmdstanpy - INFO - Chain [1] start processing\n",
      "16:43:32 - cmdstanpy - INFO - Chain [1] done processing\n"
     ]
    },
    {
     "name": "stdout",
     "output_type": "stream",
     "text": [
      "{'Material Code': 10023859, 'RMSE': 0.22406097440704772}\n"
     ]
    },
    {
     "name": "stderr",
     "output_type": "stream",
     "text": [
      "16:43:32 - cmdstanpy - INFO - Chain [1] start processing\n",
      "16:43:32 - cmdstanpy - INFO - Chain [1] done processing\n"
     ]
    },
    {
     "name": "stdout",
     "output_type": "stream",
     "text": [
      "{'Material Code': 10023862, 'RMSE': 3.8117849861295654}\n"
     ]
    },
    {
     "name": "stderr",
     "output_type": "stream",
     "text": [
      "16:43:32 - cmdstanpy - INFO - Chain [1] start processing\n",
      "16:43:33 - cmdstanpy - INFO - Chain [1] done processing\n"
     ]
    },
    {
     "name": "stdout",
     "output_type": "stream",
     "text": [
      "{'Material Code': 10023865, 'RMSE': 2.501432988885838}\n",
      "{'Material Code': 10024297, 'RMSE': 0.0}\n"
     ]
    },
    {
     "name": "stderr",
     "output_type": "stream",
     "text": [
      "16:43:33 - cmdstanpy - INFO - Chain [1] start processing\n",
      "16:43:33 - cmdstanpy - INFO - Chain [1] done processing\n"
     ]
    },
    {
     "name": "stdout",
     "output_type": "stream",
     "text": [
      "{'Material Code': 10024372, 'RMSE': 0.7266831400444638}\n"
     ]
    },
    {
     "name": "stderr",
     "output_type": "stream",
     "text": [
      "16:43:34 - cmdstanpy - INFO - Chain [1] start processing\n",
      "16:43:34 - cmdstanpy - INFO - Chain [1] done processing\n"
     ]
    },
    {
     "name": "stdout",
     "output_type": "stream",
     "text": [
      "{'Material Code': 10024373, 'RMSE': 0.9661144639536753}\n"
     ]
    },
    {
     "name": "stderr",
     "output_type": "stream",
     "text": [
      "16:43:34 - cmdstanpy - INFO - Chain [1] start processing\n",
      "16:43:34 - cmdstanpy - INFO - Chain [1] done processing\n"
     ]
    },
    {
     "name": "stdout",
     "output_type": "stream",
     "text": [
      "{'Material Code': 10024374, 'RMSE': 0.22741993079512673}\n"
     ]
    },
    {
     "name": "stderr",
     "output_type": "stream",
     "text": [
      "16:43:35 - cmdstanpy - INFO - Chain [1] start processing\n",
      "16:43:35 - cmdstanpy - INFO - Chain [1] done processing\n"
     ]
    },
    {
     "name": "stdout",
     "output_type": "stream",
     "text": [
      "{'Material Code': 10024375, 'RMSE': 0.07335334438993504}\n"
     ]
    },
    {
     "name": "stderr",
     "output_type": "stream",
     "text": [
      "16:43:35 - cmdstanpy - INFO - Chain [1] start processing\n",
      "16:43:35 - cmdstanpy - INFO - Chain [1] done processing\n"
     ]
    },
    {
     "name": "stdout",
     "output_type": "stream",
     "text": [
      "{'Material Code': 10025031, 'RMSE': 5872.231713814206}\n"
     ]
    },
    {
     "name": "stderr",
     "output_type": "stream",
     "text": [
      "16:43:36 - cmdstanpy - INFO - Chain [1] start processing\n",
      "16:43:36 - cmdstanpy - INFO - Chain [1] done processing\n"
     ]
    },
    {
     "name": "stdout",
     "output_type": "stream",
     "text": [
      "{'Material Code': 10025127, 'RMSE': 12.525642033306099}\n"
     ]
    },
    {
     "name": "stderr",
     "output_type": "stream",
     "text": [
      "16:43:36 - cmdstanpy - INFO - Chain [1] start processing\n",
      "16:43:36 - cmdstanpy - INFO - Chain [1] done processing\n"
     ]
    },
    {
     "name": "stdout",
     "output_type": "stream",
     "text": [
      "{'Material Code': 10025567, 'RMSE': 86.48570591692258}\n",
      "{'Material Code': 10025973, 'RMSE': 0.0}\n"
     ]
    },
    {
     "name": "stderr",
     "output_type": "stream",
     "text": [
      "16:43:37 - cmdstanpy - INFO - Chain [1] start processing\n",
      "16:43:37 - cmdstanpy - INFO - Chain [1] done processing\n"
     ]
    },
    {
     "name": "stdout",
     "output_type": "stream",
     "text": [
      "{'Material Code': 10025990, 'RMSE': 1211.428393291785}\n"
     ]
    },
    {
     "name": "stderr",
     "output_type": "stream",
     "text": [
      "16:43:38 - cmdstanpy - INFO - Chain [1] start processing\n",
      "16:43:38 - cmdstanpy - INFO - Chain [1] done processing\n"
     ]
    },
    {
     "name": "stdout",
     "output_type": "stream",
     "text": [
      "{'Material Code': 10025995, 'RMSE': 9.54486358781231}\n"
     ]
    },
    {
     "name": "stderr",
     "output_type": "stream",
     "text": [
      "16:43:38 - cmdstanpy - INFO - Chain [1] start processing\n",
      "16:43:38 - cmdstanpy - INFO - Chain [1] done processing\n"
     ]
    },
    {
     "name": "stdout",
     "output_type": "stream",
     "text": [
      "{'Material Code': 10025998, 'RMSE': 875.3996083028621}\n"
     ]
    },
    {
     "name": "stderr",
     "output_type": "stream",
     "text": [
      "16:43:39 - cmdstanpy - INFO - Chain [1] start processing\n",
      "16:43:39 - cmdstanpy - INFO - Chain [1] done processing\n"
     ]
    },
    {
     "name": "stdout",
     "output_type": "stream",
     "text": [
      "{'Material Code': 10025999, 'RMSE': 4.339117421646335}\n"
     ]
    },
    {
     "name": "stderr",
     "output_type": "stream",
     "text": [
      "16:43:39 - cmdstanpy - INFO - Chain [1] start processing\n",
      "16:43:39 - cmdstanpy - INFO - Chain [1] done processing\n"
     ]
    },
    {
     "name": "stdout",
     "output_type": "stream",
     "text": [
      "{'Material Code': 10026003, 'RMSE': 11.170589621640728}\n"
     ]
    },
    {
     "name": "stderr",
     "output_type": "stream",
     "text": [
      "16:43:39 - cmdstanpy - INFO - Chain [1] start processing\n",
      "16:43:40 - cmdstanpy - INFO - Chain [1] done processing\n"
     ]
    },
    {
     "name": "stdout",
     "output_type": "stream",
     "text": [
      "{'Material Code': 10026008, 'RMSE': 3.1003971263343013}\n"
     ]
    },
    {
     "name": "stderr",
     "output_type": "stream",
     "text": [
      "16:43:40 - cmdstanpy - INFO - Chain [1] start processing\n",
      "16:43:40 - cmdstanpy - INFO - Chain [1] done processing\n"
     ]
    },
    {
     "name": "stdout",
     "output_type": "stream",
     "text": [
      "{'Material Code': 10028953, 'RMSE': 0.4066869064152329}\n"
     ]
    },
    {
     "name": "stderr",
     "output_type": "stream",
     "text": [
      "16:43:40 - cmdstanpy - INFO - Chain [1] start processing\n",
      "16:43:40 - cmdstanpy - INFO - Chain [1] done processing\n"
     ]
    },
    {
     "name": "stdout",
     "output_type": "stream",
     "text": [
      "{'Material Code': 10029337, 'RMSE': 0.04703099766510097}\n"
     ]
    },
    {
     "name": "stderr",
     "output_type": "stream",
     "text": [
      "16:43:41 - cmdstanpy - INFO - Chain [1] start processing\n",
      "16:43:41 - cmdstanpy - INFO - Chain [1] done processing\n"
     ]
    },
    {
     "name": "stdout",
     "output_type": "stream",
     "text": [
      "{'Material Code': 10029531, 'RMSE': 1.5054861126610226}\n",
      "{'Material Code': 10031197, 'RMSE': 0.0}\n",
      "{'Material Code': 10031673, 'RMSE': 0.0}\n"
     ]
    },
    {
     "name": "stderr",
     "output_type": "stream",
     "text": [
      "16:43:42 - cmdstanpy - INFO - Chain [1] start processing\n",
      "16:43:42 - cmdstanpy - INFO - Chain [1] done processing\n"
     ]
    },
    {
     "name": "stdout",
     "output_type": "stream",
     "text": [
      "{'Material Code': 10031966, 'RMSE': 861.5462629461316}\n"
     ]
    },
    {
     "name": "stderr",
     "output_type": "stream",
     "text": [
      "16:43:42 - cmdstanpy - INFO - Chain [1] start processing\n",
      "16:43:42 - cmdstanpy - INFO - Chain [1] done processing\n"
     ]
    },
    {
     "name": "stdout",
     "output_type": "stream",
     "text": [
      "{'Material Code': 10032117, 'RMSE': 0.2683743277175696}\n"
     ]
    },
    {
     "name": "stderr",
     "output_type": "stream",
     "text": [
      "16:43:43 - cmdstanpy - INFO - Chain [1] start processing\n",
      "16:43:43 - cmdstanpy - INFO - Chain [1] done processing\n"
     ]
    },
    {
     "name": "stdout",
     "output_type": "stream",
     "text": [
      "{'Material Code': 10032118, 'RMSE': 0.27703925794882966}\n"
     ]
    },
    {
     "name": "stderr",
     "output_type": "stream",
     "text": [
      "16:43:43 - cmdstanpy - INFO - Chain [1] start processing\n",
      "16:43:43 - cmdstanpy - INFO - Chain [1] done processing\n"
     ]
    },
    {
     "name": "stdout",
     "output_type": "stream",
     "text": [
      "{'Material Code': 10032119, 'RMSE': 0.47846418430574583}\n"
     ]
    },
    {
     "name": "stderr",
     "output_type": "stream",
     "text": [
      "16:43:44 - cmdstanpy - INFO - Chain [1] start processing\n",
      "16:43:44 - cmdstanpy - INFO - Chain [1] done processing\n"
     ]
    },
    {
     "name": "stdout",
     "output_type": "stream",
     "text": [
      "{'Material Code': 10032120, 'RMSE': 0.6509600908934289}\n"
     ]
    },
    {
     "name": "stderr",
     "output_type": "stream",
     "text": [
      "16:43:44 - cmdstanpy - INFO - Chain [1] start processing\n",
      "16:43:44 - cmdstanpy - INFO - Chain [1] done processing\n"
     ]
    },
    {
     "name": "stdout",
     "output_type": "stream",
     "text": [
      "{'Material Code': 10032121, 'RMSE': 0.12749078835083213}\n",
      "{'Material Code': 10033013, 'RMSE': 0.0}\n",
      "{'Material Code': 10033237, 'RMSE': 0.0}\n"
     ]
    },
    {
     "name": "stderr",
     "output_type": "stream",
     "text": [
      "16:43:45 - cmdstanpy - INFO - Chain [1] start processing\n",
      "16:43:45 - cmdstanpy - INFO - Chain [1] done processing\n"
     ]
    },
    {
     "name": "stdout",
     "output_type": "stream",
     "text": [
      "{'Material Code': 10033307, 'RMSE': 2.1720328055591436}\n"
     ]
    },
    {
     "name": "stderr",
     "output_type": "stream",
     "text": [
      "16:43:46 - cmdstanpy - INFO - Chain [1] start processing\n",
      "16:43:46 - cmdstanpy - INFO - Chain [1] done processing\n"
     ]
    },
    {
     "name": "stdout",
     "output_type": "stream",
     "text": [
      "{'Material Code': 10033552, 'RMSE': 0.4742646053562258}\n",
      "{'Material Code': 10033562, 'RMSE': 0.0}\n"
     ]
    },
    {
     "name": "stderr",
     "output_type": "stream",
     "text": [
      "16:43:47 - cmdstanpy - INFO - Chain [1] start processing\n",
      "16:43:47 - cmdstanpy - INFO - Chain [1] done processing\n"
     ]
    },
    {
     "name": "stdout",
     "output_type": "stream",
     "text": [
      "{'Material Code': 10033707, 'RMSE': 6.500733760174998}\n"
     ]
    },
    {
     "name": "stderr",
     "output_type": "stream",
     "text": [
      "16:43:47 - cmdstanpy - INFO - Chain [1] start processing\n",
      "16:43:47 - cmdstanpy - INFO - Chain [1] done processing\n"
     ]
    },
    {
     "name": "stdout",
     "output_type": "stream",
     "text": [
      "{'Material Code': 10033709, 'RMSE': 2.507520183629802}\n",
      "{'Material Code': 10034295, 'RMSE': 0.0}\n",
      "{'Material Code': 10034311, 'RMSE': 0.0}\n"
     ]
    },
    {
     "name": "stderr",
     "output_type": "stream",
     "text": [
      "16:43:48 - cmdstanpy - INFO - Chain [1] start processing\n",
      "16:43:49 - cmdstanpy - INFO - Chain [1] done processing\n"
     ]
    },
    {
     "name": "stdout",
     "output_type": "stream",
     "text": [
      "{'Material Code': 10034504, 'RMSE': 4.3160301435184945}\n",
      "{'Material Code': 10035011, 'RMSE': 0.0}\n"
     ]
    },
    {
     "name": "stderr",
     "output_type": "stream",
     "text": [
      "16:43:49 - cmdstanpy - INFO - Chain [1] start processing\n",
      "16:43:49 - cmdstanpy - INFO - Chain [1] done processing\n"
     ]
    },
    {
     "name": "stdout",
     "output_type": "stream",
     "text": [
      "{'Material Code': 10035313, 'RMSE': 1.549825432666029}\n"
     ]
    },
    {
     "name": "stderr",
     "output_type": "stream",
     "text": [
      "16:43:50 - cmdstanpy - INFO - Chain [1] start processing\n",
      "16:43:50 - cmdstanpy - INFO - Chain [1] done processing\n"
     ]
    },
    {
     "name": "stdout",
     "output_type": "stream",
     "text": [
      "{'Material Code': 10036233, 'RMSE': 384.9359215837957}\n"
     ]
    },
    {
     "name": "stderr",
     "output_type": "stream",
     "text": [
      "16:43:50 - cmdstanpy - INFO - Chain [1] start processing\n",
      "16:43:50 - cmdstanpy - INFO - Chain [1] done processing\n"
     ]
    },
    {
     "name": "stdout",
     "output_type": "stream",
     "text": [
      "{'Material Code': 10036234, 'RMSE': 61.85393000200675}\n",
      "{'Material Code': 10036321, 'RMSE': 0.0}\n"
     ]
    },
    {
     "name": "stderr",
     "output_type": "stream",
     "text": [
      "16:43:51 - cmdstanpy - INFO - Chain [1] start processing\n",
      "16:43:51 - cmdstanpy - INFO - Chain [1] done processing\n"
     ]
    },
    {
     "name": "stdout",
     "output_type": "stream",
     "text": [
      "{'Material Code': 10036331, 'RMSE': 3.353822609035343}\n",
      "{'Material Code': 10036332, 'RMSE': 0.0}\n"
     ]
    },
    {
     "name": "stderr",
     "output_type": "stream",
     "text": [
      "16:43:53 - cmdstanpy - INFO - Chain [1] start processing\n",
      "16:43:53 - cmdstanpy - INFO - Chain [1] done processing\n"
     ]
    },
    {
     "name": "stdout",
     "output_type": "stream",
     "text": [
      "{'Material Code': 10036333, 'RMSE': 0.18863445204915158}\n"
     ]
    },
    {
     "name": "stderr",
     "output_type": "stream",
     "text": [
      "16:43:53 - cmdstanpy - INFO - Chain [1] start processing\n",
      "16:43:53 - cmdstanpy - INFO - Chain [1] done processing\n"
     ]
    },
    {
     "name": "stdout",
     "output_type": "stream",
     "text": [
      "{'Material Code': 10036334, 'RMSE': 0.2401770071316361}\n"
     ]
    },
    {
     "name": "stderr",
     "output_type": "stream",
     "text": [
      "16:43:54 - cmdstanpy - INFO - Chain [1] start processing\n",
      "16:43:54 - cmdstanpy - INFO - Chain [1] done processing\n"
     ]
    },
    {
     "name": "stdout",
     "output_type": "stream",
     "text": [
      "{'Material Code': 10036335, 'RMSE': 1.0174665722918368}\n"
     ]
    },
    {
     "name": "stderr",
     "output_type": "stream",
     "text": [
      "16:43:54 - cmdstanpy - INFO - Chain [1] start processing\n",
      "16:43:54 - cmdstanpy - INFO - Chain [1] done processing\n"
     ]
    },
    {
     "name": "stdout",
     "output_type": "stream",
     "text": [
      "{'Material Code': 10036336, 'RMSE': 1.9568629224950171}\n"
     ]
    },
    {
     "name": "stderr",
     "output_type": "stream",
     "text": [
      "16:43:54 - cmdstanpy - INFO - Chain [1] start processing\n",
      "16:43:54 - cmdstanpy - INFO - Chain [1] done processing\n"
     ]
    },
    {
     "name": "stdout",
     "output_type": "stream",
     "text": [
      "{'Material Code': 10036351, 'RMSE': 5.918042215398962}\n"
     ]
    },
    {
     "name": "stderr",
     "output_type": "stream",
     "text": [
      "16:43:55 - cmdstanpy - INFO - Chain [1] start processing\n",
      "16:43:55 - cmdstanpy - INFO - Chain [1] done processing\n"
     ]
    },
    {
     "name": "stdout",
     "output_type": "stream",
     "text": [
      "{'Material Code': 10036540, 'RMSE': 165.5769357323794}\n"
     ]
    },
    {
     "name": "stderr",
     "output_type": "stream",
     "text": [
      "16:43:55 - cmdstanpy - INFO - Chain [1] start processing\n",
      "16:43:55 - cmdstanpy - INFO - Chain [1] done processing\n"
     ]
    },
    {
     "name": "stdout",
     "output_type": "stream",
     "text": [
      "{'Material Code': 10036541, 'RMSE': 2.8245475670855202}\n"
     ]
    },
    {
     "name": "stderr",
     "output_type": "stream",
     "text": [
      "16:43:56 - cmdstanpy - INFO - Chain [1] start processing\n",
      "16:43:56 - cmdstanpy - INFO - Chain [1] done processing\n"
     ]
    },
    {
     "name": "stdout",
     "output_type": "stream",
     "text": [
      "{'Material Code': 10036542, 'RMSE': 5.526766519371014}\n"
     ]
    },
    {
     "name": "stderr",
     "output_type": "stream",
     "text": [
      "16:43:56 - cmdstanpy - INFO - Chain [1] start processing\n",
      "16:43:56 - cmdstanpy - INFO - Chain [1] done processing\n"
     ]
    },
    {
     "name": "stdout",
     "output_type": "stream",
     "text": [
      "{'Material Code': 10036543, 'RMSE': 1.1535266012287946}\n"
     ]
    },
    {
     "name": "stderr",
     "output_type": "stream",
     "text": [
      "16:43:57 - cmdstanpy - INFO - Chain [1] start processing\n",
      "16:43:57 - cmdstanpy - INFO - Chain [1] done processing\n"
     ]
    },
    {
     "name": "stdout",
     "output_type": "stream",
     "text": [
      "{'Material Code': 10036544, 'RMSE': 0.4530977920089482}\n"
     ]
    },
    {
     "name": "stderr",
     "output_type": "stream",
     "text": [
      "16:43:57 - cmdstanpy - INFO - Chain [1] start processing\n",
      "16:43:57 - cmdstanpy - INFO - Chain [1] done processing\n"
     ]
    },
    {
     "name": "stdout",
     "output_type": "stream",
     "text": [
      "{'Material Code': 10036545, 'RMSE': 3863.730360260215}\n",
      "{'Material Code': 10036554, 'RMSE': 0.0}\n",
      "{'Material Code': 10036869, 'RMSE': 0.0}\n",
      "{'Material Code': 10036870, 'RMSE': 0.0}\n",
      "{'Material Code': 10036882, 'RMSE': 0.0}\n"
     ]
    },
    {
     "name": "stderr",
     "output_type": "stream",
     "text": [
      "16:43:59 - cmdstanpy - INFO - Chain [1] start processing\n",
      "16:43:59 - cmdstanpy - INFO - Chain [1] done processing\n"
     ]
    },
    {
     "name": "stdout",
     "output_type": "stream",
     "text": [
      "{'Material Code': 10036931, 'RMSE': 0.6589740755893437}\n",
      "{'Material Code': 10036932, 'RMSE': 0.0}\n",
      "{'Material Code': 10036988, 'RMSE': 0.0}\n",
      "{'Material Code': 10037134, 'RMSE': 0.0}\n"
     ]
    },
    {
     "name": "stderr",
     "output_type": "stream",
     "text": [
      "16:44:01 - cmdstanpy - INFO - Chain [1] start processing\n",
      "16:44:01 - cmdstanpy - INFO - Chain [1] done processing\n"
     ]
    },
    {
     "name": "stdout",
     "output_type": "stream",
     "text": [
      "{'Material Code': 10037481, 'RMSE': 0.004553548180989373}\n"
     ]
    },
    {
     "name": "stderr",
     "output_type": "stream",
     "text": [
      "16:44:01 - cmdstanpy - INFO - Chain [1] start processing\n",
      "16:44:01 - cmdstanpy - INFO - Chain [1] done processing\n"
     ]
    },
    {
     "name": "stdout",
     "output_type": "stream",
     "text": [
      "{'Material Code': 10037483, 'RMSE': 0.015793400206695538}\n",
      "{'Material Code': 10037484, 'RMSE': 0.0}\n",
      "{'Material Code': 10037485, 'RMSE': 0.0}\n",
      "{'Material Code': 10037486, 'RMSE': 0.0}\n",
      "{'Material Code': 10037487, 'RMSE': 0.0}\n"
     ]
    },
    {
     "name": "stderr",
     "output_type": "stream",
     "text": [
      "16:44:03 - cmdstanpy - INFO - Chain [1] start processing\n",
      "16:44:03 - cmdstanpy - INFO - Chain [1] done processing\n"
     ]
    },
    {
     "name": "stdout",
     "output_type": "stream",
     "text": [
      "{'Material Code': 10037489, 'RMSE': 0.006198834088222558}\n",
      "{'Material Code': 10037490, 'RMSE': 0.0}\n",
      "{'Material Code': 10037491, 'RMSE': 0.0}\n",
      "{'Material Code': 10037492, 'RMSE': 0.0}\n",
      "{'Material Code': 10037493, 'RMSE': 0.0}\n",
      "{'Material Code': 10037494, 'RMSE': 0.0}\n"
     ]
    },
    {
     "name": "stderr",
     "output_type": "stream",
     "text": [
      "16:44:06 - cmdstanpy - INFO - Chain [1] start processing\n",
      "16:44:06 - cmdstanpy - INFO - Chain [1] done processing\n"
     ]
    },
    {
     "name": "stdout",
     "output_type": "stream",
     "text": [
      "{'Material Code': 10037516, 'RMSE': 0.42933150689675487}\n"
     ]
    },
    {
     "name": "stderr",
     "output_type": "stream",
     "text": [
      "16:44:06 - cmdstanpy - INFO - Chain [1] start processing\n",
      "16:44:06 - cmdstanpy - INFO - Chain [1] done processing\n"
     ]
    },
    {
     "name": "stdout",
     "output_type": "stream",
     "text": [
      "{'Material Code': 10037517, 'RMSE': 0.3308519119354129}\n",
      "{'Material Code': 10037518, 'RMSE': 0.485912657903775}\n",
      "{'Material Code': 10037519, 'RMSE': 0.16666666666666666}\n",
      "{'Material Code': 10037520, 'RMSE': 0.0}\n",
      "{'Material Code': 10037521, 'RMSE': 0.0}\n"
     ]
    },
    {
     "name": "stderr",
     "output_type": "stream",
     "text": [
      "16:44:08 - cmdstanpy - INFO - Chain [1] start processing\n",
      "16:44:08 - cmdstanpy - INFO - Chain [1] done processing\n"
     ]
    },
    {
     "name": "stdout",
     "output_type": "stream",
     "text": [
      "{'Material Code': 10038327, 'RMSE': 120.06283063965724}\n",
      "{'Material Code': 10039089, 'RMSE': 0.0}\n",
      "{'Material Code': 10043668, 'RMSE': 0.0}\n"
     ]
    },
    {
     "name": "stderr",
     "output_type": "stream",
     "text": [
      "16:44:09 - cmdstanpy - INFO - Chain [1] start processing\n",
      "16:44:09 - cmdstanpy - INFO - Chain [1] done processing\n"
     ]
    },
    {
     "name": "stdout",
     "output_type": "stream",
     "text": [
      "{'Material Code': 10044468, 'RMSE': 4.199844499817979}\n"
     ]
    },
    {
     "name": "stderr",
     "output_type": "stream",
     "text": [
      "16:44:10 - cmdstanpy - INFO - Chain [1] start processing\n",
      "16:44:10 - cmdstanpy - INFO - Chain [1] done processing\n"
     ]
    },
    {
     "name": "stdout",
     "output_type": "stream",
     "text": [
      "{'Material Code': 10044469, 'RMSE': 1.1197964156044788}\n"
     ]
    },
    {
     "name": "stderr",
     "output_type": "stream",
     "text": [
      "16:44:10 - cmdstanpy - INFO - Chain [1] start processing\n",
      "16:44:10 - cmdstanpy - INFO - Chain [1] done processing\n"
     ]
    },
    {
     "name": "stdout",
     "output_type": "stream",
     "text": [
      "{'Material Code': 10044504, 'RMSE': 36.35779597742286}\n"
     ]
    },
    {
     "name": "stderr",
     "output_type": "stream",
     "text": [
      "16:44:11 - cmdstanpy - INFO - Chain [1] start processing\n",
      "16:44:11 - cmdstanpy - INFO - Chain [1] done processing\n"
     ]
    },
    {
     "name": "stdout",
     "output_type": "stream",
     "text": [
      "{'Material Code': 10044782, 'RMSE': 0.008865082083219851}\n"
     ]
    },
    {
     "name": "stderr",
     "output_type": "stream",
     "text": [
      "16:44:11 - cmdstanpy - INFO - Chain [1] start processing\n",
      "16:44:11 - cmdstanpy - INFO - Chain [1] done processing\n"
     ]
    },
    {
     "name": "stdout",
     "output_type": "stream",
     "text": [
      "{'Material Code': 10044783, 'RMSE': 0.023372005687796314}\n"
     ]
    },
    {
     "name": "stderr",
     "output_type": "stream",
     "text": [
      "16:44:12 - cmdstanpy - INFO - Chain [1] start processing\n",
      "16:44:12 - cmdstanpy - INFO - Chain [1] done processing\n"
     ]
    },
    {
     "name": "stdout",
     "output_type": "stream",
     "text": [
      "{'Material Code': 10044784, 'RMSE': 0.0659751164267237}\n"
     ]
    },
    {
     "name": "stderr",
     "output_type": "stream",
     "text": [
      "16:44:12 - cmdstanpy - INFO - Chain [1] start processing\n",
      "16:44:12 - cmdstanpy - INFO - Chain [1] done processing\n"
     ]
    },
    {
     "name": "stdout",
     "output_type": "stream",
     "text": [
      "{'Material Code': 10044785, 'RMSE': 0.04896611818510577}\n"
     ]
    },
    {
     "name": "stderr",
     "output_type": "stream",
     "text": [
      "16:44:12 - cmdstanpy - INFO - Chain [1] start processing\n",
      "16:44:12 - cmdstanpy - INFO - Chain [1] done processing\n"
     ]
    },
    {
     "name": "stdout",
     "output_type": "stream",
     "text": [
      "{'Material Code': 10044786, 'RMSE': 0.1391643285552883}\n"
     ]
    },
    {
     "name": "stderr",
     "output_type": "stream",
     "text": [
      "16:44:13 - cmdstanpy - INFO - Chain [1] start processing\n",
      "16:44:13 - cmdstanpy - INFO - Chain [1] done processing\n"
     ]
    },
    {
     "name": "stdout",
     "output_type": "stream",
     "text": [
      "{'Material Code': 10044787, 'RMSE': 0.7376580631588848}\n"
     ]
    },
    {
     "name": "stderr",
     "output_type": "stream",
     "text": [
      "16:44:13 - cmdstanpy - INFO - Chain [1] start processing\n",
      "16:44:13 - cmdstanpy - INFO - Chain [1] done processing\n"
     ]
    },
    {
     "name": "stdout",
     "output_type": "stream",
     "text": [
      "{'Material Code': 10044788, 'RMSE': 0.858357641314432}\n"
     ]
    },
    {
     "name": "stderr",
     "output_type": "stream",
     "text": [
      "16:44:14 - cmdstanpy - INFO - Chain [1] start processing\n",
      "16:44:14 - cmdstanpy - INFO - Chain [1] done processing\n"
     ]
    },
    {
     "name": "stdout",
     "output_type": "stream",
     "text": [
      "{'Material Code': 10044789, 'RMSE': 0.5943682868762321}\n"
     ]
    },
    {
     "name": "stderr",
     "output_type": "stream",
     "text": [
      "16:44:14 - cmdstanpy - INFO - Chain [1] start processing\n",
      "16:44:14 - cmdstanpy - INFO - Chain [1] done processing\n"
     ]
    },
    {
     "name": "stdout",
     "output_type": "stream",
     "text": [
      "{'Material Code': 10044790, 'RMSE': 0.0856293923395581}\n",
      "{'Material Code': 10045252, 'RMSE': 0.0}\n"
     ]
    },
    {
     "name": "stderr",
     "output_type": "stream",
     "text": [
      "16:44:15 - cmdstanpy - INFO - Chain [1] start processing\n",
      "16:44:15 - cmdstanpy - INFO - Chain [1] done processing\n"
     ]
    },
    {
     "name": "stdout",
     "output_type": "stream",
     "text": [
      "{'Material Code': 10045865, 'RMSE': 230.7479098850535}\n",
      "{'Material Code': 10046945, 'RMSE': 0.0}\n",
      "{'Material Code': 10082492, 'RMSE': 0.0}\n"
     ]
    },
    {
     "name": "stderr",
     "output_type": "stream",
     "text": [
      "16:44:16 - cmdstanpy - INFO - Chain [1] start processing\n",
      "16:44:16 - cmdstanpy - INFO - Chain [1] done processing\n"
     ]
    },
    {
     "name": "stdout",
     "output_type": "stream",
     "text": [
      "{'Material Code': 10085571, 'RMSE': 0.75044240430225}\n",
      "{'Material Code': 10085812, 'RMSE': 0.0}\n",
      "{'Material Code': 10088271, 'RMSE': 0.0}\n",
      "{'Material Code': 10088272, 'RMSE': 0.0}\n",
      "{'Material Code': 10089815, 'RMSE': 0.0}\n",
      "{'Material Code': 10089817, 'RMSE': 0.0}\n"
     ]
    },
    {
     "name": "stderr",
     "output_type": "stream",
     "text": [
      "16:44:19 - cmdstanpy - INFO - Chain [1] start processing\n",
      "16:44:19 - cmdstanpy - INFO - Chain [1] done processing\n"
     ]
    },
    {
     "name": "stdout",
     "output_type": "stream",
     "text": [
      "{'Material Code': 10090692, 'RMSE': 0.014681027775789878}\n"
     ]
    },
    {
     "name": "stderr",
     "output_type": "stream",
     "text": [
      "16:44:20 - cmdstanpy - INFO - Chain [1] start processing\n",
      "16:44:20 - cmdstanpy - INFO - Chain [1] done processing\n"
     ]
    },
    {
     "name": "stdout",
     "output_type": "stream",
     "text": [
      "{'Material Code': 10091532, 'RMSE': 30.409651193107603}\n",
      "{'Material Code': 10091728, 'RMSE': 0.0}\n"
     ]
    },
    {
     "name": "stderr",
     "output_type": "stream",
     "text": [
      "16:44:21 - cmdstanpy - INFO - Chain [1] start processing\n",
      "16:44:21 - cmdstanpy - INFO - Chain [1] done processing\n"
     ]
    },
    {
     "name": "stdout",
     "output_type": "stream",
     "text": [
      "{'Material Code': 10091729, 'RMSE': 1.8396443439070131}\n",
      "{'Material Code': 10091736, 'RMSE': 0.0}\n"
     ]
    },
    {
     "name": "stderr",
     "output_type": "stream",
     "text": [
      "16:44:22 - cmdstanpy - INFO - Chain [1] start processing\n",
      "16:44:22 - cmdstanpy - INFO - Chain [1] done processing\n"
     ]
    },
    {
     "name": "stdout",
     "output_type": "stream",
     "text": [
      "{'Material Code': 10091747, 'RMSE': 515.3264435570487}\n"
     ]
    },
    {
     "name": "stderr",
     "output_type": "stream",
     "text": [
      "16:44:22 - cmdstanpy - INFO - Chain [1] start processing\n",
      "16:44:22 - cmdstanpy - INFO - Chain [1] done processing\n"
     ]
    },
    {
     "name": "stdout",
     "output_type": "stream",
     "text": [
      "{'Material Code': 10091748, 'RMSE': 35.8448179648096}\n"
     ]
    },
    {
     "name": "stderr",
     "output_type": "stream",
     "text": [
      "16:44:23 - cmdstanpy - INFO - Chain [1] start processing\n",
      "16:44:23 - cmdstanpy - INFO - Chain [1] done processing\n"
     ]
    },
    {
     "name": "stdout",
     "output_type": "stream",
     "text": [
      "{'Material Code': 10092088, 'RMSE': 0.013155615734750808}\n"
     ]
    },
    {
     "name": "stderr",
     "output_type": "stream",
     "text": [
      "16:44:23 - cmdstanpy - INFO - Chain [1] start processing\n",
      "16:44:23 - cmdstanpy - INFO - Chain [1] done processing\n"
     ]
    },
    {
     "name": "stdout",
     "output_type": "stream",
     "text": [
      "{'Material Code': 10092104, 'RMSE': 0.0795331109837553}\n",
      "{'Material Code': 10092237, 'RMSE': 0.0}\n"
     ]
    },
    {
     "name": "stderr",
     "output_type": "stream",
     "text": [
      "16:44:24 - cmdstanpy - INFO - Chain [1] start processing\n",
      "16:44:24 - cmdstanpy - INFO - Chain [1] done processing\n"
     ]
    },
    {
     "name": "stdout",
     "output_type": "stream",
     "text": [
      "{'Material Code': 10093597, 'RMSE': 0.6985681084240897}\n"
     ]
    },
    {
     "name": "stderr",
     "output_type": "stream",
     "text": [
      "16:44:24 - cmdstanpy - INFO - Chain [1] start processing\n",
      "16:44:24 - cmdstanpy - INFO - Chain [1] done processing\n"
     ]
    },
    {
     "name": "stdout",
     "output_type": "stream",
     "text": [
      "{'Material Code': 10093598, 'RMSE': 0.7198351420141863}\n"
     ]
    },
    {
     "name": "stderr",
     "output_type": "stream",
     "text": [
      "16:44:25 - cmdstanpy - INFO - Chain [1] start processing\n",
      "16:44:25 - cmdstanpy - INFO - Chain [1] done processing\n"
     ]
    },
    {
     "name": "stdout",
     "output_type": "stream",
     "text": [
      "{'Material Code': 10093599, 'RMSE': 0.7249872220307609}\n"
     ]
    },
    {
     "name": "stderr",
     "output_type": "stream",
     "text": [
      "16:44:25 - cmdstanpy - INFO - Chain [1] start processing\n",
      "16:44:25 - cmdstanpy - INFO - Chain [1] done processing\n"
     ]
    },
    {
     "name": "stdout",
     "output_type": "stream",
     "text": [
      "{'Material Code': 10094526, 'RMSE': 7.248580813111246}\n",
      "{'Material Code': 10094527, 'RMSE': 0.0}\n",
      "{'Material Code': 10094923, 'RMSE': 0.0}\n",
      "{'Material Code': 10094978, 'RMSE': 0.0}\n"
     ]
    },
    {
     "name": "stderr",
     "output_type": "stream",
     "text": [
      "16:44:27 - cmdstanpy - INFO - Chain [1] start processing\n",
      "16:44:27 - cmdstanpy - INFO - Chain [1] done processing\n"
     ]
    },
    {
     "name": "stdout",
     "output_type": "stream",
     "text": [
      "{'Material Code': 10095583, 'RMSE': 0.4221342313712681}\n",
      "{'Material Code': 10095594, 'RMSE': 0.0}\n"
     ]
    },
    {
     "name": "stderr",
     "output_type": "stream",
     "text": [
      "16:44:28 - cmdstanpy - INFO - Chain [1] start processing\n",
      "16:44:28 - cmdstanpy - INFO - Chain [1] done processing\n"
     ]
    },
    {
     "name": "stdout",
     "output_type": "stream",
     "text": [
      "{'Material Code': 10097265, 'RMSE': 1.8892388726059788}\n"
     ]
    },
    {
     "name": "stderr",
     "output_type": "stream",
     "text": [
      "16:44:28 - cmdstanpy - INFO - Chain [1] start processing\n",
      "16:44:28 - cmdstanpy - INFO - Chain [1] done processing\n"
     ]
    },
    {
     "name": "stdout",
     "output_type": "stream",
     "text": [
      "{'Material Code': 10097266, 'RMSE': 0.9368738309756458}\n"
     ]
    },
    {
     "name": "stderr",
     "output_type": "stream",
     "text": [
      "16:44:29 - cmdstanpy - INFO - Chain [1] start processing\n",
      "16:44:29 - cmdstanpy - INFO - Chain [1] done processing\n"
     ]
    },
    {
     "name": "stdout",
     "output_type": "stream",
     "text": [
      "{'Material Code': 10097267, 'RMSE': 0.5527670869778221}\n"
     ]
    },
    {
     "name": "stderr",
     "output_type": "stream",
     "text": [
      "16:44:29 - cmdstanpy - INFO - Chain [1] start processing\n",
      "16:44:29 - cmdstanpy - INFO - Chain [1] done processing\n"
     ]
    },
    {
     "name": "stdout",
     "output_type": "stream",
     "text": [
      "{'Material Code': 10097270, 'RMSE': 0.32157874523282687}\n"
     ]
    },
    {
     "name": "stderr",
     "output_type": "stream",
     "text": [
      "16:44:30 - cmdstanpy - INFO - Chain [1] start processing\n",
      "16:44:30 - cmdstanpy - INFO - Chain [1] done processing\n"
     ]
    },
    {
     "name": "stdout",
     "output_type": "stream",
     "text": [
      "{'Material Code': 10097271, 'RMSE': 0.7271122561786563}\n"
     ]
    },
    {
     "name": "stderr",
     "output_type": "stream",
     "text": [
      "16:44:30 - cmdstanpy - INFO - Chain [1] start processing\n",
      "16:44:30 - cmdstanpy - INFO - Chain [1] done processing\n"
     ]
    },
    {
     "name": "stdout",
     "output_type": "stream",
     "text": [
      "{'Material Code': 10097272, 'RMSE': 1.4455372064526897}\n"
     ]
    },
    {
     "name": "stderr",
     "output_type": "stream",
     "text": [
      "16:44:31 - cmdstanpy - INFO - Chain [1] start processing\n",
      "16:44:31 - cmdstanpy - INFO - Chain [1] done processing\n"
     ]
    },
    {
     "name": "stdout",
     "output_type": "stream",
     "text": [
      "{'Material Code': 10097273, 'RMSE': 0.2504994676880293}\n"
     ]
    },
    {
     "name": "stderr",
     "output_type": "stream",
     "text": [
      "16:44:31 - cmdstanpy - INFO - Chain [1] start processing\n",
      "16:44:31 - cmdstanpy - INFO - Chain [1] done processing\n"
     ]
    },
    {
     "name": "stdout",
     "output_type": "stream",
     "text": [
      "{'Material Code': 10097274, 'RMSE': 0.4998131095286574}\n"
     ]
    },
    {
     "name": "stderr",
     "output_type": "stream",
     "text": [
      "16:44:31 - cmdstanpy - INFO - Chain [1] start processing\n",
      "16:44:32 - cmdstanpy - INFO - Chain [1] done processing\n"
     ]
    },
    {
     "name": "stdout",
     "output_type": "stream",
     "text": [
      "{'Material Code': 10097275, 'RMSE': 0.08541240751823782}\n"
     ]
    },
    {
     "name": "stderr",
     "output_type": "stream",
     "text": [
      "16:44:32 - cmdstanpy - INFO - Chain [1] start processing\n",
      "16:44:32 - cmdstanpy - INFO - Chain [1] done processing\n"
     ]
    },
    {
     "name": "stdout",
     "output_type": "stream",
     "text": [
      "{'Material Code': 10097276, 'RMSE': 1.124733482793571}\n"
     ]
    },
    {
     "name": "stderr",
     "output_type": "stream",
     "text": [
      "16:44:32 - cmdstanpy - INFO - Chain [1] start processing\n",
      "16:44:32 - cmdstanpy - INFO - Chain [1] done processing\n"
     ]
    },
    {
     "name": "stdout",
     "output_type": "stream",
     "text": [
      "{'Material Code': 10097277, 'RMSE': 1.0475727300711812}\n"
     ]
    },
    {
     "name": "stderr",
     "output_type": "stream",
     "text": [
      "16:44:33 - cmdstanpy - INFO - Chain [1] start processing\n",
      "16:44:33 - cmdstanpy - INFO - Chain [1] done processing\n"
     ]
    },
    {
     "name": "stdout",
     "output_type": "stream",
     "text": [
      "{'Material Code': 10097278, 'RMSE': 0.8369345521414355}\n"
     ]
    },
    {
     "name": "stderr",
     "output_type": "stream",
     "text": [
      "16:44:33 - cmdstanpy - INFO - Chain [1] start processing\n",
      "16:44:33 - cmdstanpy - INFO - Chain [1] done processing\n"
     ]
    },
    {
     "name": "stdout",
     "output_type": "stream",
     "text": [
      "{'Material Code': 10097991, 'RMSE': 4.28841170151989}\n",
      "{'Material Code': 10097997, 'RMSE': 0.0}\n",
      "{'Material Code': 10098041, 'RMSE': 0.0}\n",
      "{'Material Code': 10098284, 'RMSE': 0.0}\n",
      "{'Material Code': 10098345, 'RMSE': 0.0}\n",
      "{'Material Code': 10098346, 'RMSE': 0.0}\n",
      "{'Material Code': 10098347, 'RMSE': 0.0}\n"
     ]
    },
    {
     "name": "stderr",
     "output_type": "stream",
     "text": [
      "16:44:36 - cmdstanpy - INFO - Chain [1] start processing\n",
      "16:44:36 - cmdstanpy - INFO - Chain [1] done processing\n"
     ]
    },
    {
     "name": "stdout",
     "output_type": "stream",
     "text": [
      "{'Material Code': 10098377, 'RMSE': 2959.2848057819865}\n",
      "{'Material Code': 10098468, 'RMSE': 438.11464760316386}\n"
     ]
    },
    {
     "name": "stderr",
     "output_type": "stream",
     "text": [
      "16:44:37 - cmdstanpy - INFO - Chain [1] start processing\n",
      "16:44:37 - cmdstanpy - INFO - Chain [1] done processing\n"
     ]
    },
    {
     "name": "stdout",
     "output_type": "stream",
     "text": [
      "{'Material Code': 10098664, 'RMSE': 0.2224000812016822}\n"
     ]
    },
    {
     "name": "stderr",
     "output_type": "stream",
     "text": [
      "16:44:38 - cmdstanpy - INFO - Chain [1] start processing\n",
      "16:44:38 - cmdstanpy - INFO - Chain [1] done processing\n"
     ]
    },
    {
     "name": "stdout",
     "output_type": "stream",
     "text": [
      "{'Material Code': 10098667, 'RMSE': 0.210837592237262}\n"
     ]
    },
    {
     "name": "stderr",
     "output_type": "stream",
     "text": [
      "16:44:38 - cmdstanpy - INFO - Chain [1] start processing\n",
      "16:44:38 - cmdstanpy - INFO - Chain [1] done processing\n"
     ]
    },
    {
     "name": "stdout",
     "output_type": "stream",
     "text": [
      "{'Material Code': 10098668, 'RMSE': 0.4615678357595362}\n"
     ]
    },
    {
     "name": "stderr",
     "output_type": "stream",
     "text": [
      "16:44:39 - cmdstanpy - INFO - Chain [1] start processing\n",
      "16:44:39 - cmdstanpy - INFO - Chain [1] done processing\n"
     ]
    },
    {
     "name": "stdout",
     "output_type": "stream",
     "text": [
      "{'Material Code': 10098672, 'RMSE': 1.070196118627857}\n"
     ]
    },
    {
     "name": "stderr",
     "output_type": "stream",
     "text": [
      "16:44:39 - cmdstanpy - INFO - Chain [1] start processing\n",
      "16:44:39 - cmdstanpy - INFO - Chain [1] done processing\n"
     ]
    },
    {
     "name": "stdout",
     "output_type": "stream",
     "text": [
      "{'Material Code': 10098754, 'RMSE': 0.014681027775789878}\n"
     ]
    },
    {
     "name": "stderr",
     "output_type": "stream",
     "text": [
      "16:44:40 - cmdstanpy - INFO - Chain [1] start processing\n",
      "16:44:40 - cmdstanpy - INFO - Chain [1] done processing\n"
     ]
    },
    {
     "name": "stdout",
     "output_type": "stream",
     "text": [
      "{'Material Code': 10098757, 'RMSE': 0.13394589594649767}\n",
      "{'Material Code': 10098850, 'RMSE': 0.0}\n"
     ]
    },
    {
     "name": "stderr",
     "output_type": "stream",
     "text": [
      "16:44:40 - cmdstanpy - INFO - Chain [1] start processing\n",
      "16:44:40 - cmdstanpy - INFO - Chain [1] done processing\n"
     ]
    },
    {
     "name": "stdout",
     "output_type": "stream",
     "text": [
      "{'Material Code': 10098851, 'RMSE': 0.07529210979046855}\n"
     ]
    },
    {
     "name": "stderr",
     "output_type": "stream",
     "text": [
      "16:44:41 - cmdstanpy - INFO - Chain [1] start processing\n",
      "16:44:41 - cmdstanpy - INFO - Chain [1] done processing\n"
     ]
    },
    {
     "name": "stdout",
     "output_type": "stream",
     "text": [
      "{'Material Code': 10098852, 'RMSE': 0.02563283709144822}\n"
     ]
    },
    {
     "name": "stderr",
     "output_type": "stream",
     "text": [
      "16:44:41 - cmdstanpy - INFO - Chain [1] start processing\n",
      "16:44:41 - cmdstanpy - INFO - Chain [1] done processing\n"
     ]
    },
    {
     "name": "stdout",
     "output_type": "stream",
     "text": [
      "{'Material Code': 10098853, 'RMSE': 0.013135681522976787}\n"
     ]
    },
    {
     "name": "stderr",
     "output_type": "stream",
     "text": [
      "16:44:42 - cmdstanpy - INFO - Chain [1] start processing\n",
      "16:44:42 - cmdstanpy - INFO - Chain [1] done processing\n"
     ]
    },
    {
     "name": "stdout",
     "output_type": "stream",
     "text": [
      "{'Material Code': 10098854, 'RMSE': 0.06244917745316456}\n"
     ]
    },
    {
     "name": "stderr",
     "output_type": "stream",
     "text": [
      "16:44:42 - cmdstanpy - INFO - Chain [1] start processing\n",
      "16:44:42 - cmdstanpy - INFO - Chain [1] done processing\n"
     ]
    },
    {
     "name": "stdout",
     "output_type": "stream",
     "text": [
      "{'Material Code': 10098865, 'RMSE': 0.16721338445390027}\n"
     ]
    },
    {
     "name": "stderr",
     "output_type": "stream",
     "text": [
      "16:44:43 - cmdstanpy - INFO - Chain [1] start processing\n",
      "16:44:43 - cmdstanpy - INFO - Chain [1] done processing\n"
     ]
    },
    {
     "name": "stdout",
     "output_type": "stream",
     "text": [
      "{'Material Code': 10098866, 'RMSE': 0.17129230377731092}\n",
      "{'Material Code': 10099375, 'RMSE': 0.0}\n",
      "{'Material Code': 10099378, 'RMSE': 0.0}\n"
     ]
    },
    {
     "name": "stderr",
     "output_type": "stream",
     "text": [
      "16:44:44 - cmdstanpy - INFO - Chain [1] start processing\n",
      "16:44:44 - cmdstanpy - INFO - Chain [1] done processing\n"
     ]
    },
    {
     "name": "stdout",
     "output_type": "stream",
     "text": [
      "{'Material Code': 10099379, 'RMSE': 1.3515125863030286}\n",
      "{'Material Code': 10099406, 'RMSE': 0.0}\n",
      "{'Material Code': 10099452, 'RMSE': 0.0}\n",
      "{'Material Code': 10099455, 'RMSE': 0.0}\n",
      "{'Material Code': 10099458, 'RMSE': 0.0}\n",
      "{'Material Code': 10099459, 'RMSE': 0.0}\n",
      "{'Material Code': 10099462, 'RMSE': 0.0}\n",
      "{'Material Code': 10099466, 'RMSE': 0.0}\n"
     ]
    },
    {
     "name": "stderr",
     "output_type": "stream",
     "text": [
      "16:44:48 - cmdstanpy - INFO - Chain [1] start processing\n",
      "16:44:48 - cmdstanpy - INFO - Chain [1] done processing\n"
     ]
    },
    {
     "name": "stdout",
     "output_type": "stream",
     "text": [
      "{'Material Code': 10099475, 'RMSE': 320.901289608996}\n"
     ]
    },
    {
     "name": "stderr",
     "output_type": "stream",
     "text": [
      "16:44:48 - cmdstanpy - INFO - Chain [1] start processing\n",
      "16:44:48 - cmdstanpy - INFO - Chain [1] done processing\n"
     ]
    },
    {
     "name": "stdout",
     "output_type": "stream",
     "text": [
      "{'Material Code': 10099477, 'RMSE': 47.91824800311143}\n",
      "{'Material Code': 10099479, 'RMSE': 0.0}\n"
     ]
    },
    {
     "name": "stderr",
     "output_type": "stream",
     "text": [
      "16:44:49 - cmdstanpy - INFO - Chain [1] start processing\n",
      "16:44:49 - cmdstanpy - INFO - Chain [1] done processing\n"
     ]
    },
    {
     "name": "stdout",
     "output_type": "stream",
     "text": [
      "{'Material Code': 10099480, 'RMSE': 54.425569798666956}\n"
     ]
    },
    {
     "name": "stderr",
     "output_type": "stream",
     "text": [
      "16:44:49 - cmdstanpy - INFO - Chain [1] start processing\n",
      "16:44:49 - cmdstanpy - INFO - Chain [1] done processing\n"
     ]
    },
    {
     "name": "stdout",
     "output_type": "stream",
     "text": [
      "{'Material Code': 10099482, 'RMSE': 128.99375256543811}\n"
     ]
    },
    {
     "name": "stderr",
     "output_type": "stream",
     "text": [
      "16:44:50 - cmdstanpy - INFO - Chain [1] start processing\n",
      "16:44:50 - cmdstanpy - INFO - Chain [1] done processing\n"
     ]
    },
    {
     "name": "stdout",
     "output_type": "stream",
     "text": [
      "{'Material Code': 10099485, 'RMSE': 82.23688738903088}\n"
     ]
    },
    {
     "name": "stderr",
     "output_type": "stream",
     "text": [
      "16:44:50 - cmdstanpy - INFO - Chain [1] start processing\n",
      "16:44:50 - cmdstanpy - INFO - Chain [1] done processing\n"
     ]
    },
    {
     "name": "stdout",
     "output_type": "stream",
     "text": [
      "{'Material Code': 10099946, 'RMSE': 1.1945976164452003}\n"
     ]
    },
    {
     "name": "stderr",
     "output_type": "stream",
     "text": [
      "16:44:51 - cmdstanpy - INFO - Chain [1] start processing\n",
      "16:44:51 - cmdstanpy - INFO - Chain [1] done processing\n"
     ]
    },
    {
     "name": "stdout",
     "output_type": "stream",
     "text": [
      "{'Material Code': 10099953, 'RMSE': 74.38532043454632}\n",
      "{'Material Code': 10099990, 'RMSE': 0.0}\n"
     ]
    },
    {
     "name": "stderr",
     "output_type": "stream",
     "text": [
      "16:44:52 - cmdstanpy - INFO - Chain [1] start processing\n",
      "16:44:52 - cmdstanpy - INFO - Chain [1] done processing\n"
     ]
    },
    {
     "name": "stdout",
     "output_type": "stream",
     "text": [
      "{'Material Code': 10100065, 'RMSE': 0.2764664653632792}\n",
      "{'Material Code': 10100293, 'RMSE': 0.0}\n",
      "{'Material Code': 10100295, 'RMSE': 0.0}\n",
      "{'Material Code': 10100326, 'RMSE': 0.0}\n",
      "{'Material Code': 10100339, 'RMSE': 0.0}\n",
      "{'Material Code': 10100348, 'RMSE': 0.0}\n",
      "{'Material Code': 10100349, 'RMSE': 0.0}\n",
      "{'Material Code': 10100350, 'RMSE': 0.0}\n",
      "{'Material Code': 10100356, 'RMSE': 0.0}\n",
      "{'Material Code': 10100372, 'RMSE': 0.0}\n",
      "{'Material Code': 10100571, 'RMSE': 0.0}\n"
     ]
    },
    {
     "name": "stderr",
     "output_type": "stream",
     "text": [
      "16:44:57 - cmdstanpy - INFO - Chain [1] start processing\n",
      "16:44:57 - cmdstanpy - INFO - Chain [1] done processing\n"
     ]
    },
    {
     "name": "stdout",
     "output_type": "stream",
     "text": [
      "{'Material Code': 10100572, 'RMSE': 0.16487366436158984}\n"
     ]
    },
    {
     "name": "stderr",
     "output_type": "stream",
     "text": [
      "16:44:57 - cmdstanpy - INFO - Chain [1] start processing\n",
      "16:44:57 - cmdstanpy - INFO - Chain [1] done processing\n"
     ]
    },
    {
     "name": "stdout",
     "output_type": "stream",
     "text": [
      "{'Material Code': 10100573, 'RMSE': 1.204520581853939}\n",
      "{'Material Code': 10100574, 'RMSE': 0.0}\n"
     ]
    },
    {
     "name": "stderr",
     "output_type": "stream",
     "text": [
      "16:44:58 - cmdstanpy - INFO - Chain [1] start processing\n",
      "16:44:58 - cmdstanpy - INFO - Chain [1] done processing\n"
     ]
    },
    {
     "name": "stdout",
     "output_type": "stream",
     "text": [
      "{'Material Code': 10100643, 'RMSE': 0.7379787401069271}\n",
      "{'Material Code': 10100644, 'RMSE': 0.0}\n",
      "{'Material Code': 10100645, 'RMSE': 0.0}\n"
     ]
    },
    {
     "name": "stderr",
     "output_type": "stream",
     "text": [
      "16:45:00 - cmdstanpy - INFO - Chain [1] start processing\n",
      "16:45:00 - cmdstanpy - INFO - Chain [1] done processing\n"
     ]
    },
    {
     "name": "stdout",
     "output_type": "stream",
     "text": [
      "{'Material Code': 10100646, 'RMSE': 0.2260416625045322}\n",
      "{'Material Code': 10100806, 'RMSE': 0.0}\n"
     ]
    },
    {
     "name": "stderr",
     "output_type": "stream",
     "text": [
      "16:45:00 - cmdstanpy - INFO - Chain [1] start processing\n",
      "16:45:00 - cmdstanpy - INFO - Chain [1] done processing\n"
     ]
    },
    {
     "name": "stdout",
     "output_type": "stream",
     "text": [
      "{'Material Code': 10101255, 'RMSE': 6.503765666391831}\n"
     ]
    },
    {
     "name": "stderr",
     "output_type": "stream",
     "text": [
      "16:45:01 - cmdstanpy - INFO - Chain [1] start processing\n",
      "16:45:01 - cmdstanpy - INFO - Chain [1] done processing\n"
     ]
    },
    {
     "name": "stdout",
     "output_type": "stream",
     "text": [
      "{'Material Code': 10101872, 'RMSE': 10.47622143407618}\n"
     ]
    },
    {
     "name": "stderr",
     "output_type": "stream",
     "text": [
      "16:45:01 - cmdstanpy - INFO - Chain [1] start processing\n",
      "16:45:01 - cmdstanpy - INFO - Chain [1] done processing\n"
     ]
    },
    {
     "name": "stdout",
     "output_type": "stream",
     "text": [
      "{'Material Code': 10101873, 'RMSE': 16.509311419404376}\n"
     ]
    },
    {
     "name": "stderr",
     "output_type": "stream",
     "text": [
      "16:45:02 - cmdstanpy - INFO - Chain [1] start processing\n",
      "16:45:02 - cmdstanpy - INFO - Chain [1] done processing\n"
     ]
    },
    {
     "name": "stdout",
     "output_type": "stream",
     "text": [
      "{'Material Code': 10101991, 'RMSE': 1.1623868445447358}\n"
     ]
    },
    {
     "name": "stderr",
     "output_type": "stream",
     "text": [
      "16:45:02 - cmdstanpy - INFO - Chain [1] start processing\n",
      "16:45:02 - cmdstanpy - INFO - Chain [1] done processing\n"
     ]
    },
    {
     "name": "stdout",
     "output_type": "stream",
     "text": [
      "{'Material Code': 10101992, 'RMSE': 1.8917456999091282}\n"
     ]
    },
    {
     "name": "stderr",
     "output_type": "stream",
     "text": [
      "16:45:03 - cmdstanpy - INFO - Chain [1] start processing\n",
      "16:45:03 - cmdstanpy - INFO - Chain [1] done processing\n"
     ]
    },
    {
     "name": "stdout",
     "output_type": "stream",
     "text": [
      "{'Material Code': 10102022, 'RMSE': 5.3714499875145805}\n"
     ]
    },
    {
     "name": "stderr",
     "output_type": "stream",
     "text": [
      "16:45:03 - cmdstanpy - INFO - Chain [1] start processing\n",
      "16:45:03 - cmdstanpy - INFO - Chain [1] done processing\n"
     ]
    },
    {
     "name": "stdout",
     "output_type": "stream",
     "text": [
      "{'Material Code': 10102023, 'RMSE': 2.9071243940986156}\n"
     ]
    },
    {
     "name": "stderr",
     "output_type": "stream",
     "text": [
      "16:45:04 - cmdstanpy - INFO - Chain [1] start processing\n",
      "16:45:04 - cmdstanpy - INFO - Chain [1] done processing\n"
     ]
    },
    {
     "name": "stdout",
     "output_type": "stream",
     "text": [
      "{'Material Code': 10102026, 'RMSE': 0.6802246239501124}\n",
      "{'Material Code': 10102093, 'RMSE': 0.0}\n"
     ]
    },
    {
     "name": "stderr",
     "output_type": "stream",
     "text": [
      "16:45:05 - cmdstanpy - INFO - Chain [1] start processing\n",
      "16:45:05 - cmdstanpy - INFO - Chain [1] done processing\n"
     ]
    },
    {
     "name": "stdout",
     "output_type": "stream",
     "text": [
      "{'Material Code': 10102094, 'RMSE': 299.5006126799551}\n",
      "{'Material Code': 10102104, 'RMSE': 0.0}\n"
     ]
    },
    {
     "name": "stderr",
     "output_type": "stream",
     "text": [
      "16:45:06 - cmdstanpy - INFO - Chain [1] start processing\n",
      "16:45:06 - cmdstanpy - INFO - Chain [1] done processing\n"
     ]
    },
    {
     "name": "stdout",
     "output_type": "stream",
     "text": [
      "{'Material Code': 10102135, 'RMSE': 1.673007484700342}\n"
     ]
    },
    {
     "name": "stderr",
     "output_type": "stream",
     "text": [
      "16:45:06 - cmdstanpy - INFO - Chain [1] start processing\n",
      "16:45:06 - cmdstanpy - INFO - Chain [1] done processing\n"
     ]
    },
    {
     "name": "stdout",
     "output_type": "stream",
     "text": [
      "{'Material Code': 10102136, 'RMSE': 0.4255786273048938}\n",
      "{'Material Code': 10102978, 'RMSE': 0.0}\n"
     ]
    },
    {
     "name": "stderr",
     "output_type": "stream",
     "text": [
      "16:45:07 - cmdstanpy - INFO - Chain [1] start processing\n",
      "16:45:07 - cmdstanpy - INFO - Chain [1] done processing\n"
     ]
    },
    {
     "name": "stdout",
     "output_type": "stream",
     "text": [
      "{'Material Code': 10103073, 'RMSE': 1.6706102686576811}\n",
      "{'Material Code': 10103234, 'RMSE': 0.3333333333333333}\n",
      "{'Material Code': 10103240, 'RMSE': 0.0}\n",
      "{'Material Code': 10103243, 'RMSE': 0.0}\n",
      "{'Material Code': 10103269, 'RMSE': 0.0}\n"
     ]
    },
    {
     "name": "stderr",
     "output_type": "stream",
     "text": [
      "16:45:09 - cmdstanpy - INFO - Chain [1] start processing\n",
      "16:45:09 - cmdstanpy - INFO - Chain [1] done processing\n"
     ]
    },
    {
     "name": "stdout",
     "output_type": "stream",
     "text": [
      "{'Material Code': 10103271, 'RMSE': 0.008668482552814109}\n"
     ]
    },
    {
     "name": "stderr",
     "output_type": "stream",
     "text": [
      "16:45:10 - cmdstanpy - INFO - Chain [1] start processing\n",
      "16:45:10 - cmdstanpy - INFO - Chain [1] done processing\n"
     ]
    },
    {
     "name": "stdout",
     "output_type": "stream",
     "text": [
      "{'Material Code': 10103581, 'RMSE': 11.15214641241632}\n"
     ]
    },
    {
     "name": "stderr",
     "output_type": "stream",
     "text": [
      "16:45:10 - cmdstanpy - INFO - Chain [1] start processing\n",
      "16:45:10 - cmdstanpy - INFO - Chain [1] done processing\n"
     ]
    },
    {
     "name": "stdout",
     "output_type": "stream",
     "text": [
      "{'Material Code': 10103582, 'RMSE': 14.723087191359971}\n"
     ]
    },
    {
     "name": "stderr",
     "output_type": "stream",
     "text": [
      "16:45:11 - cmdstanpy - INFO - Chain [1] start processing\n",
      "16:45:11 - cmdstanpy - INFO - Chain [1] done processing\n"
     ]
    },
    {
     "name": "stdout",
     "output_type": "stream",
     "text": [
      "{'Material Code': 10103583, 'RMSE': 6.877692752951656}\n"
     ]
    },
    {
     "name": "stderr",
     "output_type": "stream",
     "text": [
      "16:45:11 - cmdstanpy - INFO - Chain [1] start processing\n",
      "16:45:11 - cmdstanpy - INFO - Chain [1] done processing\n"
     ]
    },
    {
     "name": "stdout",
     "output_type": "stream",
     "text": [
      "{'Material Code': 10103871, 'RMSE': 0.4139246034204839}\n",
      "{'Material Code': 10105736, 'RMSE': 0.0}\n",
      "{'Material Code': 10106724, 'RMSE': 0.0}\n",
      "{'Material Code': 10106727, 'RMSE': 0.0}\n",
      "{'Material Code': 10106728, 'RMSE': 0.0}\n",
      "{'Material Code': 10107013, 'RMSE': 0.0}\n",
      "{'Material Code': 10107120, 'RMSE': 0.0}\n",
      "{'Material Code': 10107122, 'RMSE': 0.0}\n",
      "{'Material Code': 10107123, 'RMSE': 0.0}\n",
      "{'Material Code': 10107463, 'RMSE': 433.0159093818353}\n"
     ]
    },
    {
     "name": "stderr",
     "output_type": "stream",
     "text": [
      "16:45:15 - cmdstanpy - INFO - Chain [1] start processing\n",
      "16:45:15 - cmdstanpy - INFO - Chain [1] done processing\n"
     ]
    },
    {
     "name": "stdout",
     "output_type": "stream",
     "text": [
      "{'Material Code': 10107500, 'RMSE': 2.2542859485448035}\n",
      "{'Material Code': 10107721, 'RMSE': 0.0}\n",
      "{'Material Code': 10107820, 'RMSE': 0.0}\n",
      "{'Material Code': 10107853, 'RMSE': 0.0}\n"
     ]
    },
    {
     "name": "stderr",
     "output_type": "stream",
     "text": [
      "16:45:17 - cmdstanpy - INFO - Chain [1] start processing\n",
      "16:45:17 - cmdstanpy - INFO - Chain [1] done processing\n"
     ]
    },
    {
     "name": "stdout",
     "output_type": "stream",
     "text": [
      "{'Material Code': 10107950, 'RMSE': 9.013464908101474}\n"
     ]
    },
    {
     "name": "stderr",
     "output_type": "stream",
     "text": [
      "16:45:18 - cmdstanpy - INFO - Chain [1] start processing\n",
      "16:45:18 - cmdstanpy - INFO - Chain [1] done processing\n"
     ]
    },
    {
     "name": "stdout",
     "output_type": "stream",
     "text": [
      "{'Material Code': 10107951, 'RMSE': 1.5693980349257288}\n",
      "{'Material Code': 10107952, 'RMSE': 0.0}\n",
      "{'Material Code': 10108074, 'RMSE': 0.0}\n",
      "{'Material Code': 10108076, 'RMSE': 0.0}\n"
     ]
    },
    {
     "name": "stderr",
     "output_type": "stream",
     "text": [
      "16:45:19 - cmdstanpy - INFO - Chain [1] start processing\n",
      "16:45:19 - cmdstanpy - INFO - Chain [1] done processing\n"
     ]
    },
    {
     "name": "stdout",
     "output_type": "stream",
     "text": [
      "{'Material Code': 10108130, 'RMSE': 0.2986370682878402}\n",
      "{'Material Code': 10108145, 'RMSE': 0.0}\n"
     ]
    },
    {
     "name": "stderr",
     "output_type": "stream",
     "text": [
      "16:45:20 - cmdstanpy - INFO - Chain [1] start processing\n",
      "16:45:20 - cmdstanpy - INFO - Chain [1] done processing\n"
     ]
    },
    {
     "name": "stdout",
     "output_type": "stream",
     "text": [
      "{'Material Code': 10108247, 'RMSE': 0.05126738376470683}\n"
     ]
    },
    {
     "name": "stderr",
     "output_type": "stream",
     "text": [
      "16:45:20 - cmdstanpy - INFO - Chain [1] start processing\n",
      "16:45:20 - cmdstanpy - INFO - Chain [1] done processing\n"
     ]
    },
    {
     "name": "stdout",
     "output_type": "stream",
     "text": [
      "{'Material Code': 10108248, 'RMSE': 0.025956971303743727}\n"
     ]
    },
    {
     "name": "stderr",
     "output_type": "stream",
     "text": [
      "16:45:21 - cmdstanpy - INFO - Chain [1] start processing\n",
      "16:45:21 - cmdstanpy - INFO - Chain [1] done processing\n"
     ]
    },
    {
     "name": "stdout",
     "output_type": "stream",
     "text": [
      "{'Material Code': 10108249, 'RMSE': 0.06527475542793663}\n"
     ]
    },
    {
     "name": "stderr",
     "output_type": "stream",
     "text": [
      "16:45:21 - cmdstanpy - INFO - Chain [1] start processing\n",
      "16:45:21 - cmdstanpy - INFO - Chain [1] done processing\n"
     ]
    },
    {
     "name": "stdout",
     "output_type": "stream",
     "text": [
      "{'Material Code': 10108250, 'RMSE': 0.0308400375532039}\n"
     ]
    },
    {
     "name": "stderr",
     "output_type": "stream",
     "text": [
      "16:45:22 - cmdstanpy - INFO - Chain [1] start processing\n",
      "16:45:22 - cmdstanpy - INFO - Chain [1] done processing\n"
     ]
    },
    {
     "name": "stdout",
     "output_type": "stream",
     "text": [
      "{'Material Code': 10108251, 'RMSE': 0.005334830711595151}\n"
     ]
    },
    {
     "name": "stderr",
     "output_type": "stream",
     "text": [
      "16:45:22 - cmdstanpy - INFO - Chain [1] start processing\n",
      "16:45:22 - cmdstanpy - INFO - Chain [1] done processing\n"
     ]
    },
    {
     "name": "stdout",
     "output_type": "stream",
     "text": [
      "{'Material Code': 10108252, 'RMSE': 0.010669661423190303}\n"
     ]
    },
    {
     "name": "stderr",
     "output_type": "stream",
     "text": [
      "16:45:23 - cmdstanpy - INFO - Chain [1] start processing\n",
      "16:45:23 - cmdstanpy - INFO - Chain [1] done processing\n"
     ]
    },
    {
     "name": "stdout",
     "output_type": "stream",
     "text": [
      "{'Material Code': 10108253, 'RMSE': 0.016004492134785452}\n"
     ]
    },
    {
     "name": "stderr",
     "output_type": "stream",
     "text": [
      "16:45:23 - cmdstanpy - INFO - Chain [1] start processing\n",
      "16:45:23 - cmdstanpy - INFO - Chain [1] done processing\n"
     ]
    },
    {
     "name": "stdout",
     "output_type": "stream",
     "text": [
      "{'Material Code': 10108254, 'RMSE': 0.005263341976398475}\n"
     ]
    },
    {
     "name": "stderr",
     "output_type": "stream",
     "text": [
      "16:45:24 - cmdstanpy - INFO - Chain [1] start processing\n",
      "16:45:24 - cmdstanpy - INFO - Chain [1] done processing\n"
     ]
    },
    {
     "name": "stdout",
     "output_type": "stream",
     "text": [
      "{'Material Code': 10108255, 'RMSE': 0.01052668395279695}\n",
      "{'Material Code': 10108256, 'RMSE': 0.0}\n",
      "{'Material Code': 10108257, 'RMSE': 0.0}\n",
      "{'Material Code': 10108300, 'RMSE': 0.0}\n",
      "{'Material Code': 10108302, 'RMSE': 0.0}\n",
      "{'Material Code': 10108303, 'RMSE': 0.0}\n",
      "{'Material Code': 10108351, 'RMSE': 0.0}\n",
      "{'Material Code': 10108379, 'RMSE': 0.0}\n",
      "{'Material Code': 10108437, 'RMSE': 0.0}\n",
      "{'Material Code': 10108480, 'RMSE': 0.0}\n",
      "{'Material Code': 10108557, 'RMSE': 0.08333333333333333}\n",
      "{'Material Code': 10108564, 'RMSE': 0.0}\n",
      "{'Material Code': 10108572, 'RMSE': 0.0}\n",
      "{'Material Code': 10108651, 'RMSE': 0.0}\n",
      "{'Material Code': 10108656, 'RMSE': 0.0}\n",
      "{'Material Code': 10109498, 'RMSE': 0.0}\n",
      "{'Material Code': 10109499, 'RMSE': 0.0}\n",
      "{'Material Code': 10109540, 'RMSE': 0.0}\n",
      "{'Material Code': 10109541, 'RMSE': 0.0}\n",
      "{'Material Code': 10109542, 'RMSE': 0.0}\n",
      "{'Material Code': 10109543, 'RMSE': 0.0}\n",
      "{'Material Code': 10109544, 'RMSE': 0.0}\n",
      "{'Material Code': 10109545, 'RMSE': 0.0}\n",
      "{'Material Code': 10109548, 'RMSE': 0.0}\n",
      "{'Material Code': 10109549, 'RMSE': 0.0}\n",
      "{'Material Code': 10109550, 'RMSE': 0.0}\n",
      "{'Material Code': 10109554, 'RMSE': 0.0}\n",
      "{'Material Code': 10109555, 'RMSE': 0.0}\n",
      "{'Material Code': 10109565, 'RMSE': 0.0}\n",
      "{'Material Code': 10109566, 'RMSE': 0.0}\n",
      "{'Material Code': 10109567, 'RMSE': 0.0}\n",
      "{'Material Code': 10109568, 'RMSE': 0.0}\n",
      "{'Material Code': 10109571, 'RMSE': 0.0}\n",
      "{'Material Code': 10109573, 'RMSE': 0.0}\n",
      "{'Material Code': 10109866, 'RMSE': 0.0}\n"
     ]
    },
    {
     "name": "stderr",
     "output_type": "stream",
     "text": [
      "16:45:39 - cmdstanpy - INFO - Chain [1] start processing\n",
      "16:45:39 - cmdstanpy - INFO - Chain [1] done processing\n"
     ]
    },
    {
     "name": "stdout",
     "output_type": "stream",
     "text": [
      "{'Material Code': 10110893, 'RMSE': 2.6433053262280213}\n"
     ]
    },
    {
     "name": "stderr",
     "output_type": "stream",
     "text": [
      "16:45:39 - cmdstanpy - INFO - Chain [1] start processing\n",
      "16:45:39 - cmdstanpy - INFO - Chain [1] done processing\n"
     ]
    },
    {
     "name": "stdout",
     "output_type": "stream",
     "text": [
      "{'Material Code': 10110894, 'RMSE': 2.9071772527559245}\n",
      "{'Material Code': 10110911, 'RMSE': 0.8333333333333334}\n",
      "{'Material Code': 10110912, 'RMSE': 2.0}\n",
      "{'Material Code': 10110926, 'RMSE': 0.8333333333333334}\n",
      "{'Material Code': 10110927, 'RMSE': 0.8333333333333334}\n",
      "{'Material Code': 10112410, 'RMSE': 0.0}\n",
      "{'Material Code': 10112590, 'RMSE': 0.0}\n"
     ]
    },
    {
     "name": "stderr",
     "output_type": "stream",
     "text": [
      "16:45:42 - cmdstanpy - INFO - Chain [1] start processing\n",
      "16:45:42 - cmdstanpy - INFO - Chain [1] done processing\n"
     ]
    },
    {
     "name": "stdout",
     "output_type": "stream",
     "text": [
      "{'Material Code': 10112591, 'RMSE': 1.2645559621239364}\n"
     ]
    },
    {
     "name": "stderr",
     "output_type": "stream",
     "text": [
      "16:45:43 - cmdstanpy - INFO - Chain [1] start processing\n",
      "16:45:43 - cmdstanpy - INFO - Chain [1] done processing\n"
     ]
    },
    {
     "name": "stdout",
     "output_type": "stream",
     "text": [
      "{'Material Code': 10112592, 'RMSE': 1.2493508069869708}\n",
      "{'Material Code': 10112593, 'RMSE': 0.0}\n",
      "{'Material Code': 10112634, 'RMSE': 0.0}\n",
      "{'Material Code': 10112635, 'RMSE': 0.0}\n"
     ]
    },
    {
     "name": "stderr",
     "output_type": "stream",
     "text": [
      "16:45:44 - cmdstanpy - INFO - Chain [1] start processing\n",
      "16:45:44 - cmdstanpy - INFO - Chain [1] done processing\n"
     ]
    },
    {
     "name": "stdout",
     "output_type": "stream",
     "text": [
      "{'Material Code': 10112670, 'RMSE': 15.196434868807112}\n",
      "{'Material Code': 10113181, 'RMSE': 0.0}\n"
     ]
    },
    {
     "name": "stderr",
     "output_type": "stream",
     "text": [
      "16:45:45 - cmdstanpy - INFO - Chain [1] start processing\n",
      "16:45:45 - cmdstanpy - INFO - Chain [1] done processing\n"
     ]
    },
    {
     "name": "stdout",
     "output_type": "stream",
     "text": [
      "{'Material Code': 10113278, 'RMSE': 2.3704400582142706}\n"
     ]
    },
    {
     "name": "stderr",
     "output_type": "stream",
     "text": [
      "16:45:46 - cmdstanpy - INFO - Chain [1] start processing\n",
      "16:45:46 - cmdstanpy - INFO - Chain [1] done processing\n"
     ]
    },
    {
     "name": "stdout",
     "output_type": "stream",
     "text": [
      "{'Material Code': 10113279, 'RMSE': 2.9720016560667357}\n",
      "{'Material Code': 10113807, 'RMSE': 0.0}\n",
      "{'Material Code': 10113815, 'RMSE': 0.0}\n"
     ]
    },
    {
     "name": "stderr",
     "output_type": "stream",
     "text": [
      "16:45:47 - cmdstanpy - INFO - Chain [1] start processing\n",
      "16:45:47 - cmdstanpy - INFO - Chain [1] done processing\n"
     ]
    },
    {
     "name": "stdout",
     "output_type": "stream",
     "text": [
      "{'Material Code': 10113816, 'RMSE': 0.036112349013425644}\n"
     ]
    },
    {
     "name": "stderr",
     "output_type": "stream",
     "text": [
      "16:45:48 - cmdstanpy - INFO - Chain [1] start processing\n",
      "16:45:48 - cmdstanpy - INFO - Chain [1] done processing\n"
     ]
    },
    {
     "name": "stdout",
     "output_type": "stream",
     "text": [
      "{'Material Code': 10113818, 'RMSE': 0.029362055551579756}\n",
      "{'Material Code': 10113822, 'RMSE': 0.0}\n"
     ]
    },
    {
     "name": "stderr",
     "output_type": "stream",
     "text": [
      "16:45:48 - cmdstanpy - INFO - Chain [1] start processing\n",
      "16:45:49 - cmdstanpy - INFO - Chain [1] done processing\n"
     ]
    },
    {
     "name": "stdout",
     "output_type": "stream",
     "text": [
      "{'Material Code': 10113827, 'RMSE': 0.1491221285387008}\n"
     ]
    },
    {
     "name": "stderr",
     "output_type": "stream",
     "text": [
      "16:45:49 - cmdstanpy - INFO - Chain [1] start processing\n",
      "16:45:49 - cmdstanpy - INFO - Chain [1] done processing\n"
     ]
    },
    {
     "name": "stdout",
     "output_type": "stream",
     "text": [
      "{'Material Code': 10114189, 'RMSE': 2.442204988474759}\n"
     ]
    },
    {
     "name": "stderr",
     "output_type": "stream",
     "text": [
      "16:45:49 - cmdstanpy - INFO - Chain [1] start processing\n",
      "16:45:49 - cmdstanpy - INFO - Chain [1] done processing\n"
     ]
    },
    {
     "name": "stdout",
     "output_type": "stream",
     "text": [
      "{'Material Code': 10114202, 'RMSE': 2.481589652595543}\n",
      "{'Material Code': 10114430, 'RMSE': 0.0}\n",
      "{'Material Code': 10115257, 'RMSE': 0.0}\n"
     ]
    },
    {
     "name": "stderr",
     "output_type": "stream",
     "text": [
      "16:45:51 - cmdstanpy - INFO - Chain [1] start processing\n",
      "16:45:51 - cmdstanpy - INFO - Chain [1] done processing\n"
     ]
    },
    {
     "name": "stdout",
     "output_type": "stream",
     "text": [
      "{'Material Code': 10115491, 'RMSE': 49.08530654752313}\n"
     ]
    },
    {
     "name": "stderr",
     "output_type": "stream",
     "text": [
      "16:45:51 - cmdstanpy - INFO - Chain [1] start processing\n",
      "16:45:51 - cmdstanpy - INFO - Chain [1] done processing\n"
     ]
    },
    {
     "name": "stdout",
     "output_type": "stream",
     "text": [
      "{'Material Code': 10115513, 'RMSE': 31.9450053944525}\n"
     ]
    },
    {
     "name": "stderr",
     "output_type": "stream",
     "text": [
      "16:45:52 - cmdstanpy - INFO - Chain [1] start processing\n",
      "16:45:52 - cmdstanpy - INFO - Chain [1] done processing\n"
     ]
    },
    {
     "name": "stdout",
     "output_type": "stream",
     "text": [
      "{'Material Code': 10115514, 'RMSE': 90.86382008049114}\n",
      "{'Material Code': 10115742, 'RMSE': 0.0}\n",
      "{'Material Code': 10116071, 'RMSE': 0.0}\n"
     ]
    },
    {
     "name": "stderr",
     "output_type": "stream",
     "text": [
      "16:45:53 - cmdstanpy - INFO - Chain [1] start processing\n",
      "16:45:53 - cmdstanpy - INFO - Chain [1] done processing\n"
     ]
    },
    {
     "name": "stdout",
     "output_type": "stream",
     "text": [
      "{'Material Code': 10116161, 'RMSE': 5.424115314527917}\n"
     ]
    },
    {
     "name": "stderr",
     "output_type": "stream",
     "text": [
      "16:45:53 - cmdstanpy - INFO - Chain [1] start processing\n",
      "16:45:53 - cmdstanpy - INFO - Chain [1] done processing\n"
     ]
    },
    {
     "name": "stdout",
     "output_type": "stream",
     "text": [
      "{'Material Code': 10116204, 'RMSE': 7.964631440109829}\n",
      "{'Material Code': 10116430, 'RMSE': 0.0}\n",
      "{'Material Code': 10116431, 'RMSE': 0.0}\n",
      "{'Material Code': 10116432, 'RMSE': 0.0}\n",
      "{'Material Code': 10116491, 'RMSE': 0.0}\n",
      "{'Material Code': 10116504, 'RMSE': 0.0}\n",
      "{'Material Code': 10116563, 'RMSE': 0.0}\n",
      "{'Material Code': 10117346, 'RMSE': 1589.556788769191}\n",
      "{'Material Code': 10117443, 'RMSE': 0.0}\n",
      "{'Material Code': 10118010, 'RMSE': 0.0}\n",
      "{'Material Code': 10118067, 'RMSE': 0.0}\n"
     ]
    },
    {
     "name": "stderr",
     "output_type": "stream",
     "text": [
      "16:45:58 - cmdstanpy - INFO - Chain [1] start processing\n",
      "16:45:58 - cmdstanpy - INFO - Chain [1] done processing\n"
     ]
    },
    {
     "name": "stdout",
     "output_type": "stream",
     "text": [
      "{'Material Code': 10118107, 'RMSE': 1.392586757931325}\n",
      "{'Material Code': 10118276, 'RMSE': 0.0}\n"
     ]
    },
    {
     "name": "stderr",
     "output_type": "stream",
     "text": [
      "16:45:59 - cmdstanpy - INFO - Chain [1] start processing\n",
      "16:45:59 - cmdstanpy - INFO - Chain [1] done processing\n"
     ]
    },
    {
     "name": "stdout",
     "output_type": "stream",
     "text": [
      "{'Material Code': 10118402, 'RMSE': 0.01834171898208815}\n",
      "{'Material Code': 10118525, 'RMSE': 0.0}\n",
      "{'Material Code': 10119044, 'RMSE': 44.0}\n"
     ]
    },
    {
     "name": "stderr",
     "output_type": "stream",
     "text": [
      "16:46:00 - cmdstanpy - INFO - Chain [1] start processing\n",
      "16:46:00 - cmdstanpy - INFO - Chain [1] done processing\n"
     ]
    },
    {
     "name": "stdout",
     "output_type": "stream",
     "text": [
      "{'Material Code': 10119054, 'RMSE': 343.51898576841285}\n",
      "{'Material Code': 10119318, 'RMSE': 0.0}\n"
     ]
    },
    {
     "name": "stderr",
     "output_type": "stream",
     "text": [
      "16:46:01 - cmdstanpy - INFO - Chain [1] start processing\n",
      "16:46:01 - cmdstanpy - INFO - Chain [1] done processing\n"
     ]
    },
    {
     "name": "stdout",
     "output_type": "stream",
     "text": [
      "{'Material Code': 10119319, 'RMSE': 3.4271984675896006}\n",
      "{'Material Code': 10119332, 'RMSE': 0.0}\n",
      "{'Material Code': 10119380, 'RMSE': 0.0}\n",
      "{'Material Code': 10119395, 'RMSE': 0.0}\n",
      "{'Material Code': 10119398, 'RMSE': 0.0}\n",
      "{'Material Code': 10119485, 'RMSE': 0.0}\n",
      "{'Material Code': 10119486, 'RMSE': 0.0}\n",
      "{'Material Code': 10119487, 'RMSE': 0.0}\n",
      "{'Material Code': 10119488, 'RMSE': 0.0}\n",
      "{'Material Code': 10119489, 'RMSE': 0.0}\n"
     ]
    },
    {
     "name": "stderr",
     "output_type": "stream",
     "text": [
      "16:46:05 - cmdstanpy - INFO - Chain [1] start processing\n",
      "16:46:05 - cmdstanpy - INFO - Chain [1] done processing\n"
     ]
    },
    {
     "name": "stdout",
     "output_type": "stream",
     "text": [
      "{'Material Code': 10119490, 'RMSE': 21.894101709493206}\n"
     ]
    },
    {
     "name": "stderr",
     "output_type": "stream",
     "text": [
      "16:46:05 - cmdstanpy - INFO - Chain [1] start processing\n",
      "16:46:05 - cmdstanpy - INFO - Chain [1] done processing\n"
     ]
    },
    {
     "name": "stdout",
     "output_type": "stream",
     "text": [
      "{'Material Code': 10119491, 'RMSE': 2.6857792767717705}\n"
     ]
    },
    {
     "name": "stderr",
     "output_type": "stream",
     "text": [
      "16:46:06 - cmdstanpy - INFO - Chain [1] start processing\n",
      "16:46:06 - cmdstanpy - INFO - Chain [1] done processing\n"
     ]
    },
    {
     "name": "stdout",
     "output_type": "stream",
     "text": [
      "{'Material Code': 10119492, 'RMSE': 4.9879207628067155}\n"
     ]
    },
    {
     "name": "stderr",
     "output_type": "stream",
     "text": [
      "16:46:06 - cmdstanpy - INFO - Chain [1] start processing\n",
      "16:46:06 - cmdstanpy - INFO - Chain [1] done processing\n"
     ]
    },
    {
     "name": "stdout",
     "output_type": "stream",
     "text": [
      "{'Material Code': 10119493, 'RMSE': 4.52479553333329}\n"
     ]
    },
    {
     "name": "stderr",
     "output_type": "stream",
     "text": [
      "16:46:07 - cmdstanpy - INFO - Chain [1] start processing\n",
      "16:46:07 - cmdstanpy - INFO - Chain [1] done processing\n"
     ]
    },
    {
     "name": "stdout",
     "output_type": "stream",
     "text": [
      "{'Material Code': 10119494, 'RMSE': 4.342821511102736}\n",
      "{'Material Code': 10119640, 'RMSE': 0.0}\n"
     ]
    },
    {
     "name": "stderr",
     "output_type": "stream",
     "text": [
      "16:46:08 - cmdstanpy - INFO - Chain [1] start processing\n",
      "16:46:08 - cmdstanpy - INFO - Chain [1] done processing\n"
     ]
    },
    {
     "name": "stdout",
     "output_type": "stream",
     "text": [
      "{'Material Code': 10119666, 'RMSE': 0.03580926441228869}\n",
      "{'Material Code': 10120304, 'RMSE': 0.0}\n"
     ]
    },
    {
     "name": "stderr",
     "output_type": "stream",
     "text": [
      "16:46:09 - cmdstanpy - INFO - Chain [1] start processing\n",
      "16:46:09 - cmdstanpy - INFO - Chain [1] done processing\n"
     ]
    },
    {
     "name": "stdout",
     "output_type": "stream",
     "text": [
      "{'Material Code': 10120306, 'RMSE': 13.302490977150587}\n",
      "{'Material Code': 10120307, 'RMSE': 0.0}\n"
     ]
    },
    {
     "name": "stderr",
     "output_type": "stream",
     "text": [
      "16:46:09 - cmdstanpy - INFO - Chain [1] start processing\n",
      "16:46:09 - cmdstanpy - INFO - Chain [1] done processing\n"
     ]
    },
    {
     "name": "stdout",
     "output_type": "stream",
     "text": [
      "{'Material Code': 10120308, 'RMSE': 13.476356602590817}\n"
     ]
    },
    {
     "name": "stderr",
     "output_type": "stream",
     "text": [
      "16:46:10 - cmdstanpy - INFO - Chain [1] start processing\n",
      "16:46:10 - cmdstanpy - INFO - Chain [1] done processing\n"
     ]
    },
    {
     "name": "stdout",
     "output_type": "stream",
     "text": [
      "{'Material Code': 10120309, 'RMSE': 4.70183493705905}\n"
     ]
    },
    {
     "name": "stderr",
     "output_type": "stream",
     "text": [
      "16:46:10 - cmdstanpy - INFO - Chain [1] start processing\n",
      "16:46:10 - cmdstanpy - INFO - Chain [1] done processing\n"
     ]
    },
    {
     "name": "stdout",
     "output_type": "stream",
     "text": [
      "{'Material Code': 10120350, 'RMSE': 4.893675925263293}\n"
     ]
    },
    {
     "name": "stderr",
     "output_type": "stream",
     "text": [
      "16:46:11 - cmdstanpy - INFO - Chain [1] start processing\n",
      "16:46:11 - cmdstanpy - INFO - Chain [1] done processing\n"
     ]
    },
    {
     "name": "stdout",
     "output_type": "stream",
     "text": [
      "{'Material Code': 10120353, 'RMSE': 5.569621162415863}\n"
     ]
    },
    {
     "name": "stderr",
     "output_type": "stream",
     "text": [
      "16:46:11 - cmdstanpy - INFO - Chain [1] start processing\n",
      "16:46:11 - cmdstanpy - INFO - Chain [1] done processing\n"
     ]
    },
    {
     "name": "stdout",
     "output_type": "stream",
     "text": [
      "{'Material Code': 10120528, 'RMSE': 15.431784967826406}\n"
     ]
    },
    {
     "name": "stderr",
     "output_type": "stream",
     "text": [
      "16:46:12 - cmdstanpy - INFO - Chain [1] start processing\n",
      "16:46:12 - cmdstanpy - INFO - Chain [1] done processing\n"
     ]
    },
    {
     "name": "stdout",
     "output_type": "stream",
     "text": [
      "{'Material Code': 10120529, 'RMSE': 19.863138284618486}\n",
      "{'Material Code': 10120675, 'RMSE': 0.6123724356957945}\n"
     ]
    },
    {
     "name": "stderr",
     "output_type": "stream",
     "text": [
      "16:46:13 - cmdstanpy - INFO - Chain [1] start processing\n",
      "16:46:13 - cmdstanpy - INFO - Chain [1] done processing\n"
     ]
    },
    {
     "name": "stdout",
     "output_type": "stream",
     "text": [
      "{'Material Code': 10120791, 'RMSE': 1.8769087459653664}\n",
      "{'Material Code': 10120892, 'RMSE': 0.0}\n",
      "{'Material Code': 10120893, 'RMSE': 0.08333333333333333}\n"
     ]
    },
    {
     "name": "stderr",
     "output_type": "stream",
     "text": [
      "16:46:14 - cmdstanpy - INFO - Chain [1] start processing\n",
      "16:46:14 - cmdstanpy - INFO - Chain [1] done processing\n"
     ]
    },
    {
     "name": "stdout",
     "output_type": "stream",
     "text": [
      "{'Material Code': 10120894, 'RMSE': 0.4356925088778422}\n",
      "{'Material Code': 10120897, 'RMSE': 0.0}\n",
      "{'Material Code': 10120900, 'RMSE': 0.0}\n",
      "{'Material Code': 10120901, 'RMSE': 0.0}\n",
      "{'Material Code': 10120902, 'RMSE': 0.0}\n"
     ]
    },
    {
     "name": "stderr",
     "output_type": "stream",
     "text": [
      "16:46:16 - cmdstanpy - INFO - Chain [1] start processing\n",
      "16:46:16 - cmdstanpy - INFO - Chain [1] done processing\n"
     ]
    },
    {
     "name": "stdout",
     "output_type": "stream",
     "text": [
      "{'Material Code': 10120922, 'RMSE': 0.5811614931060982}\n"
     ]
    },
    {
     "name": "stderr",
     "output_type": "stream",
     "text": [
      "16:46:17 - cmdstanpy - INFO - Chain [1] start processing\n",
      "16:46:17 - cmdstanpy - INFO - Chain [1] done processing\n"
     ]
    },
    {
     "name": "stdout",
     "output_type": "stream",
     "text": [
      "{'Material Code': 10120923, 'RMSE': 0.014681027775789878}\n"
     ]
    },
    {
     "name": "stderr",
     "output_type": "stream",
     "text": [
      "16:46:17 - cmdstanpy - INFO - Chain [1] start processing\n",
      "16:46:17 - cmdstanpy - INFO - Chain [1] done processing\n"
     ]
    },
    {
     "name": "stdout",
     "output_type": "stream",
     "text": [
      "{'Material Code': 10121183, 'RMSE': 14.222255919777048}\n",
      "{'Material Code': 10121334, 'RMSE': 0.0}\n",
      "{'Material Code': 10121470, 'RMSE': 0.0}\n",
      "{'Material Code': 10121682, 'RMSE': 0.0}\n",
      "{'Material Code': 10121781, 'RMSE': 0.0}\n",
      "{'Material Code': 10121785, 'RMSE': 0.0}\n"
     ]
    },
    {
     "name": "stderr",
     "output_type": "stream",
     "text": [
      "16:46:20 - cmdstanpy - INFO - Chain [1] start processing\n",
      "16:46:20 - cmdstanpy - INFO - Chain [1] done processing\n"
     ]
    },
    {
     "name": "stdout",
     "output_type": "stream",
     "text": [
      "{'Material Code': 10121786, 'RMSE': 6.950761289244821}\n"
     ]
    },
    {
     "name": "stderr",
     "output_type": "stream",
     "text": [
      "16:46:20 - cmdstanpy - INFO - Chain [1] start processing\n",
      "16:46:20 - cmdstanpy - INFO - Chain [1] done processing\n"
     ]
    },
    {
     "name": "stdout",
     "output_type": "stream",
     "text": [
      "{'Material Code': 10121788, 'RMSE': 17.408877590845155}\n",
      "{'Material Code': 10122864, 'RMSE': 0.0}\n"
     ]
    },
    {
     "name": "stderr",
     "output_type": "stream",
     "text": [
      "16:46:21 - cmdstanpy - INFO - Chain [1] start processing\n",
      "16:46:21 - cmdstanpy - INFO - Chain [1] done processing\n"
     ]
    },
    {
     "name": "stdout",
     "output_type": "stream",
     "text": [
      "{'Material Code': 10124645, 'RMSE': 0.01957470370105317}\n",
      "{'Material Code': 10124646, 'RMSE': 0.0}\n",
      "{'Material Code': 10125602, 'RMSE': 0.0}\n",
      "{'Material Code': 10125612, 'RMSE': 0.0}\n",
      "{'Material Code': 10125747, 'RMSE': 0.0}\n",
      "{'Material Code': 10125748, 'RMSE': 0.0}\n",
      "{'Material Code': 10125749, 'RMSE': 0.0}\n",
      "{'Material Code': 10125750, 'RMSE': 0.0}\n",
      "{'Material Code': 10125751, 'RMSE': 0.0}\n",
      "{'Material Code': 10125752, 'RMSE': 0.0}\n",
      "{'Material Code': 10125753, 'RMSE': 0.0}\n"
     ]
    },
    {
     "name": "stderr",
     "output_type": "stream",
     "text": [
      "16:46:27 - cmdstanpy - INFO - Chain [1] start processing\n",
      "16:46:27 - cmdstanpy - INFO - Chain [1] done processing\n"
     ]
    },
    {
     "name": "stdout",
     "output_type": "stream",
     "text": [
      "{'Material Code': 10125805, 'RMSE': 49.887235082253525}\n",
      "{'Material Code': 10125819, 'RMSE': 0.0}\n",
      "{'Material Code': 10126035, 'RMSE': 0.0}\n",
      "{'Material Code': 10126036, 'RMSE': 0.0}\n",
      "{'Material Code': 10126037, 'RMSE': 0.0}\n",
      "{'Material Code': 10126038, 'RMSE': 0.0}\n",
      "{'Material Code': 10126039, 'RMSE': 0.0}\n"
     ]
    },
    {
     "name": "stderr",
     "output_type": "stream",
     "text": [
      "16:46:30 - cmdstanpy - INFO - Chain [1] start processing\n",
      "16:46:30 - cmdstanpy - INFO - Chain [1] done processing\n"
     ]
    },
    {
     "name": "stdout",
     "output_type": "stream",
     "text": [
      "{'Material Code': 10126369, 'RMSE': 0.08361710913201047}\n",
      "{'Material Code': 10127158, 'RMSE': 0.0}\n",
      "{'Material Code': 10128890, 'RMSE': 0.0}\n",
      "{'Material Code': 10128891, 'RMSE': 0.18633899812498247}\n",
      "{'Material Code': 10129124, 'RMSE': 0.0}\n",
      "{'Material Code': 10129125, 'RMSE': 0.0}\n"
     ]
    },
    {
     "name": "stderr",
     "output_type": "stream",
     "text": [
      "16:46:32 - cmdstanpy - INFO - Chain [1] start processing\n",
      "16:46:32 - cmdstanpy - INFO - Chain [1] done processing\n"
     ]
    },
    {
     "name": "stdout",
     "output_type": "stream",
     "text": [
      "{'Material Code': 10130819, 'RMSE': 0.07954236520706078}\n",
      "{'Material Code': 10130952, 'RMSE': 0.0}\n",
      "{'Material Code': 10131743, 'RMSE': 0.0}\n",
      "{'Material Code': 10131745, 'RMSE': 0.0}\n"
     ]
    },
    {
     "name": "stderr",
     "output_type": "stream",
     "text": [
      "16:46:34 - cmdstanpy - INFO - Chain [1] start processing\n",
      "16:46:34 - cmdstanpy - INFO - Chain [1] done processing\n"
     ]
    },
    {
     "name": "stdout",
     "output_type": "stream",
     "text": [
      "{'Material Code': 10131757, 'RMSE': 1.4942682422262337}\n",
      "{'Material Code': 10132190, 'RMSE': 0.0}\n"
     ]
    },
    {
     "name": "stderr",
     "output_type": "stream",
     "text": [
      "16:46:35 - cmdstanpy - INFO - Chain [1] start processing\n",
      "16:46:35 - cmdstanpy - INFO - Chain [1] done processing\n"
     ]
    },
    {
     "name": "stdout",
     "output_type": "stream",
     "text": [
      "{'Material Code': 10132193, 'RMSE': 1.6895801849145813}\n",
      "{'Material Code': 10132329, 'RMSE': 0.0}\n",
      "{'Material Code': 10133474, 'RMSE': 0.0}\n",
      "{'Material Code': 10133599, 'RMSE': 0.0}\n",
      "{'Material Code': 10134880, 'RMSE': 0.08333333333333333}\n",
      "{'Material Code': 10135324, 'RMSE': 0.0}\n",
      "{'Material Code': 10135325, 'RMSE': 0.0}\n",
      "{'Material Code': 10135326, 'RMSE': 0.0}\n",
      "{'Material Code': 10135384, 'RMSE': 0.0}\n",
      "{'Material Code': 10136723, 'RMSE': 0.0}\n",
      "{'Material Code': 10136724, 'RMSE': 0.0}\n",
      "{'Material Code': 10136725, 'RMSE': 0.0}\n",
      "{'Material Code': 10136726, 'RMSE': 0.0}\n",
      "{'Material Code': 10136727, 'RMSE': 0.0}\n",
      "{'Material Code': 10136728, 'RMSE': 0.0}\n",
      "{'Material Code': 10136729, 'RMSE': 0.0}\n",
      "{'Material Code': 10136730, 'RMSE': 0.0}\n"
     ]
    }
   ],
   "source": [
    "# Hyperparameter tuning for each material code\n",
    "for material, df in tqdm(material_data.items(), total=len(material_data), desc=\"Processing Material Codes\"):\n",
    "    # Drop missing values\n",
    "    df = df.dropna()\n",
    "    df.sort_values('Date', inplace=True)\n",
    "    if df.empty:\n",
    "        print(f\"No data available for material {material}\")\n",
    "        continue\n",
    "\n",
    "    # Split data into training and testing sets\n",
    "    train_size = int(len(df) * 0.8)\n",
    "    train, test = df.iloc[:train_size], df.iloc[train_size:]\n",
    "\n",
    "    # Prepare data for Prophet\n",
    "    train_prophet = train.reset_index().rename(columns={'Date': 'ds', 'Material Issued': 'y'})\n",
    "    test_prophet = test.reset_index().rename(columns={'Date': 'ds', 'Material Issued': 'y'})\n",
    "\n",
    "    try:\n",
    "        # Initialize and fit the Prophet model\n",
    "        model = Prophet()\n",
    "        model.fit(train_prophet)\n",
    "\n",
    "        # Forecast the next steps\n",
    "        future = model.make_future_dataframe(periods=len(test))\n",
    "        forecast = model.predict(future)\n",
    "\n",
    "        # Calculate RMSE\n",
    "        if len(test_prophet['y']) == len(forecast['yhat'][-len(test_prophet):]):\n",
    "            rmse = sqrt(mean_squared_error(test_prophet['y'], forecast['yhat'][-len(test_prophet):]))\n",
    "\n",
    "            # Store results\n",
    "            result_dict = {\n",
    "                'Material Code': material,\n",
    "                'RMSE': rmse\n",
    "            }\n",
    "\n",
    "            # Print result for current material\n",
    "            print(result_dict)\n",
    "\n",
    "            # Append the results to the DataFrame\n",
    "            prophet_results = pd.concat([prophet_results, pd.DataFrame([result_dict])], ignore_index=True)\n",
    "\n",
    "            # Plot the results and save the plot\n",
    "            plt.figure(figsize=(10, 6))\n",
    "            plt.plot(train_prophet['ds'], train_prophet['y'], label='Train')\n",
    "            plt.plot(test_prophet['ds'], test_prophet['y'], label='Test')\n",
    "            plt.plot(forecast['ds'], forecast['yhat'], label='Forecast', linestyle='--')\n",
    "            plt.fill_between(forecast['ds'], forecast['yhat_lower'], forecast['yhat_upper'], color='pink', alpha=0.3)\n",
    "            plt.title(f'Material Code: {material}')\n",
    "            plt.xlabel('Date')\n",
    "            plt.ylabel('Material Issued')\n",
    "            plt.legend()\n",
    "\n",
    "            # Save the plot to the 'prophet' directory\n",
    "            plot_filename = f'prophet/material_{material}.png'\n",
    "            plt.savefig(plot_filename)\n",
    "            plt.close()  # Close the plot to free up memory\n",
    "        else:\n",
    "            print(f\"Mismatch in lengths for material {material}\")\n",
    "\n",
    "    except Exception as e:\n",
    "        print(f\"Error fitting Prophet model for material {material}: {e}\")\n",
    "        continue\n"
   ]
  },
  {
   "cell_type": "code",
   "execution_count": 8,
   "id": "8bf44a59",
   "metadata": {
    "execution": {
     "iopub.execute_input": "2025-01-02T16:46:42.316584Z",
     "iopub.status.busy": "2025-01-02T16:46:42.316194Z",
     "iopub.status.idle": "2025-01-02T16:46:42.336638Z",
     "shell.execute_reply": "2025-01-02T16:46:42.335656Z"
    },
    "papermill": {
     "duration": 0.102467,
     "end_time": "2025-01-02T16:46:42.338533",
     "exception": false,
     "start_time": "2025-01-02T16:46:42.236066",
     "status": "completed"
    },
    "tags": []
   },
   "outputs": [
    {
     "data": {
      "text/html": [
       "<div>\n",
       "<style scoped>\n",
       "    .dataframe tbody tr th:only-of-type {\n",
       "        vertical-align: middle;\n",
       "    }\n",
       "\n",
       "    .dataframe tbody tr th {\n",
       "        vertical-align: top;\n",
       "    }\n",
       "\n",
       "    .dataframe thead th {\n",
       "        text-align: right;\n",
       "    }\n",
       "</style>\n",
       "<table border=\"1\" class=\"dataframe\">\n",
       "  <thead>\n",
       "    <tr style=\"text-align: right;\">\n",
       "      <th></th>\n",
       "      <th>Material Code</th>\n",
       "      <th>RMSE</th>\n",
       "    </tr>\n",
       "  </thead>\n",
       "  <tbody>\n",
       "    <tr>\n",
       "      <th>0</th>\n",
       "      <td>10000033</td>\n",
       "      <td>2.370703</td>\n",
       "    </tr>\n",
       "    <tr>\n",
       "      <th>1</th>\n",
       "      <td>10000304</td>\n",
       "      <td>11.646745</td>\n",
       "    </tr>\n",
       "    <tr>\n",
       "      <th>2</th>\n",
       "      <td>10000314</td>\n",
       "      <td>2.088043</td>\n",
       "    </tr>\n",
       "    <tr>\n",
       "      <th>3</th>\n",
       "      <td>10000316</td>\n",
       "      <td>1.943928</td>\n",
       "    </tr>\n",
       "    <tr>\n",
       "      <th>4</th>\n",
       "      <td>10000318</td>\n",
       "      <td>20.504995</td>\n",
       "    </tr>\n",
       "    <tr>\n",
       "      <th>...</th>\n",
       "      <td>...</td>\n",
       "      <td>...</td>\n",
       "    </tr>\n",
       "    <tr>\n",
       "      <th>637</th>\n",
       "      <td>10136726</td>\n",
       "      <td>0.000000</td>\n",
       "    </tr>\n",
       "    <tr>\n",
       "      <th>638</th>\n",
       "      <td>10136727</td>\n",
       "      <td>0.000000</td>\n",
       "    </tr>\n",
       "    <tr>\n",
       "      <th>639</th>\n",
       "      <td>10136728</td>\n",
       "      <td>0.000000</td>\n",
       "    </tr>\n",
       "    <tr>\n",
       "      <th>640</th>\n",
       "      <td>10136729</td>\n",
       "      <td>0.000000</td>\n",
       "    </tr>\n",
       "    <tr>\n",
       "      <th>641</th>\n",
       "      <td>10136730</td>\n",
       "      <td>0.000000</td>\n",
       "    </tr>\n",
       "  </tbody>\n",
       "</table>\n",
       "<p>642 rows × 2 columns</p>\n",
       "</div>"
      ],
      "text/plain": [
       "    Material Code       RMSE\n",
       "0        10000033   2.370703\n",
       "1        10000304  11.646745\n",
       "2        10000314   2.088043\n",
       "3        10000316   1.943928\n",
       "4        10000318  20.504995\n",
       "..            ...        ...\n",
       "637      10136726   0.000000\n",
       "638      10136727   0.000000\n",
       "639      10136728   0.000000\n",
       "640      10136729   0.000000\n",
       "641      10136730   0.000000\n",
       "\n",
       "[642 rows x 2 columns]"
      ]
     },
     "metadata": {},
     "output_type": "display_data"
    }
   ],
   "source": [
    "# Display the Prophet model metrics DataFrame\n",
    "display(prophet_results)\n",
    "\n",
    "# Optionally, save the DataFrame to a CSV file\n",
    "prophet_results.to_csv('prophet_results.csv', index=False)"
   ]
  }
 ],
 "metadata": {
  "kaggle": {
   "accelerator": "none",
   "dataSources": [
    {
     "datasetId": 6403902,
     "sourceId": 10341621,
     "sourceType": "datasetVersion"
    }
   ],
   "dockerImageVersionId": 30822,
   "isGpuEnabled": false,
   "isInternetEnabled": true,
   "language": "python",
   "sourceType": "notebook"
  },
  "kernelspec": {
   "display_name": "Python 3",
   "language": "python",
   "name": "python3"
  },
  "language_info": {
   "codemirror_mode": {
    "name": "ipython",
    "version": 3
   },
   "file_extension": ".py",
   "mimetype": "text/x-python",
   "name": "python",
   "nbconvert_exporter": "python",
   "pygments_lexer": "ipython3",
   "version": "3.10.12"
  },
  "papermill": {
   "default_parameters": {},
   "duration": 299.931034,
   "end_time": "2025-01-02T16:46:45.137060",
   "environment_variables": {},
   "exception": null,
   "input_path": "__notebook__.ipynb",
   "output_path": "__notebook__.ipynb",
   "parameters": {},
   "start_time": "2025-01-02T16:41:45.206026",
   "version": "2.6.0"
  },
  "widgets": {
   "application/vnd.jupyter.widget-state+json": {
    "state": {
     "0a363d6efdd946a4b19837538156d71e": {
      "model_module": "@jupyter-widgets/controls",
      "model_module_version": "2.0.0",
      "model_name": "FloatProgressModel",
      "state": {
       "_dom_classes": [],
       "_model_module": "@jupyter-widgets/controls",
       "_model_module_version": "2.0.0",
       "_model_name": "FloatProgressModel",
       "_view_count": null,
       "_view_module": "@jupyter-widgets/controls",
       "_view_module_version": "2.0.0",
       "_view_name": "ProgressView",
       "bar_style": "success",
       "description": "",
       "description_allow_html": false,
       "layout": "IPY_MODEL_66851fa4e60f4fd086e99bf7854c52a4",
       "max": 642.0,
       "min": 0.0,
       "orientation": "horizontal",
       "style": "IPY_MODEL_d85cd4416d2048f8bcaa48cd5a2192b7",
       "tabbable": null,
       "tooltip": null,
       "value": 642.0
      }
     },
     "0df30ee1a7da473a988e66d975e90b74": {
      "model_module": "@jupyter-widgets/base",
      "model_module_version": "2.0.0",
      "model_name": "LayoutModel",
      "state": {
       "_model_module": "@jupyter-widgets/base",
       "_model_module_version": "2.0.0",
       "_model_name": "LayoutModel",
       "_view_count": null,
       "_view_module": "@jupyter-widgets/base",
       "_view_module_version": "2.0.0",
       "_view_name": "LayoutView",
       "align_content": null,
       "align_items": null,
       "align_self": null,
       "border_bottom": null,
       "border_left": null,
       "border_right": null,
       "border_top": null,
       "bottom": null,
       "display": null,
       "flex": null,
       "flex_flow": null,
       "grid_area": null,
       "grid_auto_columns": null,
       "grid_auto_flow": null,
       "grid_auto_rows": null,
       "grid_column": null,
       "grid_gap": null,
       "grid_row": null,
       "grid_template_areas": null,
       "grid_template_columns": null,
       "grid_template_rows": null,
       "height": null,
       "justify_content": null,
       "justify_items": null,
       "left": null,
       "margin": null,
       "max_height": null,
       "max_width": null,
       "min_height": null,
       "min_width": null,
       "object_fit": null,
       "object_position": null,
       "order": null,
       "overflow": null,
       "padding": null,
       "right": null,
       "top": null,
       "visibility": null,
       "width": null
      }
     },
     "128ac75fcfb1482e9488fa61028dbd3b": {
      "model_module": "@jupyter-widgets/controls",
      "model_module_version": "2.0.0",
      "model_name": "HTMLStyleModel",
      "state": {
       "_model_module": "@jupyter-widgets/controls",
       "_model_module_version": "2.0.0",
       "_model_name": "HTMLStyleModel",
       "_view_count": null,
       "_view_module": "@jupyter-widgets/base",
       "_view_module_version": "2.0.0",
       "_view_name": "StyleView",
       "background": null,
       "description_width": "",
       "font_size": null,
       "text_color": null
      }
     },
     "66851fa4e60f4fd086e99bf7854c52a4": {
      "model_module": "@jupyter-widgets/base",
      "model_module_version": "2.0.0",
      "model_name": "LayoutModel",
      "state": {
       "_model_module": "@jupyter-widgets/base",
       "_model_module_version": "2.0.0",
       "_model_name": "LayoutModel",
       "_view_count": null,
       "_view_module": "@jupyter-widgets/base",
       "_view_module_version": "2.0.0",
       "_view_name": "LayoutView",
       "align_content": null,
       "align_items": null,
       "align_self": null,
       "border_bottom": null,
       "border_left": null,
       "border_right": null,
       "border_top": null,
       "bottom": null,
       "display": null,
       "flex": null,
       "flex_flow": null,
       "grid_area": null,
       "grid_auto_columns": null,
       "grid_auto_flow": null,
       "grid_auto_rows": null,
       "grid_column": null,
       "grid_gap": null,
       "grid_row": null,
       "grid_template_areas": null,
       "grid_template_columns": null,
       "grid_template_rows": null,
       "height": null,
       "justify_content": null,
       "justify_items": null,
       "left": null,
       "margin": null,
       "max_height": null,
       "max_width": null,
       "min_height": null,
       "min_width": null,
       "object_fit": null,
       "object_position": null,
       "order": null,
       "overflow": null,
       "padding": null,
       "right": null,
       "top": null,
       "visibility": null,
       "width": null
      }
     },
     "7d2953aac43745628877d60604127aa1": {
      "model_module": "@jupyter-widgets/controls",
      "model_module_version": "2.0.0",
      "model_name": "HTMLStyleModel",
      "state": {
       "_model_module": "@jupyter-widgets/controls",
       "_model_module_version": "2.0.0",
       "_model_name": "HTMLStyleModel",
       "_view_count": null,
       "_view_module": "@jupyter-widgets/base",
       "_view_module_version": "2.0.0",
       "_view_name": "StyleView",
       "background": null,
       "description_width": "",
       "font_size": null,
       "text_color": null
      }
     },
     "96d1f3ec1ec74b1b9744385eeb2be793": {
      "model_module": "@jupyter-widgets/base",
      "model_module_version": "2.0.0",
      "model_name": "LayoutModel",
      "state": {
       "_model_module": "@jupyter-widgets/base",
       "_model_module_version": "2.0.0",
       "_model_name": "LayoutModel",
       "_view_count": null,
       "_view_module": "@jupyter-widgets/base",
       "_view_module_version": "2.0.0",
       "_view_name": "LayoutView",
       "align_content": null,
       "align_items": null,
       "align_self": null,
       "border_bottom": null,
       "border_left": null,
       "border_right": null,
       "border_top": null,
       "bottom": null,
       "display": null,
       "flex": null,
       "flex_flow": null,
       "grid_area": null,
       "grid_auto_columns": null,
       "grid_auto_flow": null,
       "grid_auto_rows": null,
       "grid_column": null,
       "grid_gap": null,
       "grid_row": null,
       "grid_template_areas": null,
       "grid_template_columns": null,
       "grid_template_rows": null,
       "height": null,
       "justify_content": null,
       "justify_items": null,
       "left": null,
       "margin": null,
       "max_height": null,
       "max_width": null,
       "min_height": null,
       "min_width": null,
       "object_fit": null,
       "object_position": null,
       "order": null,
       "overflow": null,
       "padding": null,
       "right": null,
       "top": null,
       "visibility": null,
       "width": null
      }
     },
     "9b4750e19d5d4150bce28d1d77707a8b": {
      "model_module": "@jupyter-widgets/controls",
      "model_module_version": "2.0.0",
      "model_name": "HTMLModel",
      "state": {
       "_dom_classes": [],
       "_model_module": "@jupyter-widgets/controls",
       "_model_module_version": "2.0.0",
       "_model_name": "HTMLModel",
       "_view_count": null,
       "_view_module": "@jupyter-widgets/controls",
       "_view_module_version": "2.0.0",
       "_view_name": "HTMLView",
       "description": "",
       "description_allow_html": false,
       "layout": "IPY_MODEL_96d1f3ec1ec74b1b9744385eeb2be793",
       "placeholder": "​",
       "style": "IPY_MODEL_128ac75fcfb1482e9488fa61028dbd3b",
       "tabbable": null,
       "tooltip": null,
       "value": "Processing Material Codes: 100%"
      }
     },
     "a4eae5c8e9c84721b193d5a7bc6a744e": {
      "model_module": "@jupyter-widgets/controls",
      "model_module_version": "2.0.0",
      "model_name": "HBoxModel",
      "state": {
       "_dom_classes": [],
       "_model_module": "@jupyter-widgets/controls",
       "_model_module_version": "2.0.0",
       "_model_name": "HBoxModel",
       "_view_count": null,
       "_view_module": "@jupyter-widgets/controls",
       "_view_module_version": "2.0.0",
       "_view_name": "HBoxView",
       "box_style": "",
       "children": [
        "IPY_MODEL_9b4750e19d5d4150bce28d1d77707a8b",
        "IPY_MODEL_0a363d6efdd946a4b19837538156d71e",
        "IPY_MODEL_eaa0e59920414813be8fb32cabe39532"
       ],
       "layout": "IPY_MODEL_0df30ee1a7da473a988e66d975e90b74",
       "tabbable": null,
       "tooltip": null
      }
     },
     "d85cd4416d2048f8bcaa48cd5a2192b7": {
      "model_module": "@jupyter-widgets/controls",
      "model_module_version": "2.0.0",
      "model_name": "ProgressStyleModel",
      "state": {
       "_model_module": "@jupyter-widgets/controls",
       "_model_module_version": "2.0.0",
       "_model_name": "ProgressStyleModel",
       "_view_count": null,
       "_view_module": "@jupyter-widgets/base",
       "_view_module_version": "2.0.0",
       "_view_name": "StyleView",
       "bar_color": null,
       "description_width": ""
      }
     },
     "e9a6912c161446a08be8e9836fa6de79": {
      "model_module": "@jupyter-widgets/base",
      "model_module_version": "2.0.0",
      "model_name": "LayoutModel",
      "state": {
       "_model_module": "@jupyter-widgets/base",
       "_model_module_version": "2.0.0",
       "_model_name": "LayoutModel",
       "_view_count": null,
       "_view_module": "@jupyter-widgets/base",
       "_view_module_version": "2.0.0",
       "_view_name": "LayoutView",
       "align_content": null,
       "align_items": null,
       "align_self": null,
       "border_bottom": null,
       "border_left": null,
       "border_right": null,
       "border_top": null,
       "bottom": null,
       "display": null,
       "flex": null,
       "flex_flow": null,
       "grid_area": null,
       "grid_auto_columns": null,
       "grid_auto_flow": null,
       "grid_auto_rows": null,
       "grid_column": null,
       "grid_gap": null,
       "grid_row": null,
       "grid_template_areas": null,
       "grid_template_columns": null,
       "grid_template_rows": null,
       "height": null,
       "justify_content": null,
       "justify_items": null,
       "left": null,
       "margin": null,
       "max_height": null,
       "max_width": null,
       "min_height": null,
       "min_width": null,
       "object_fit": null,
       "object_position": null,
       "order": null,
       "overflow": null,
       "padding": null,
       "right": null,
       "top": null,
       "visibility": null,
       "width": null
      }
     },
     "eaa0e59920414813be8fb32cabe39532": {
      "model_module": "@jupyter-widgets/controls",
      "model_module_version": "2.0.0",
      "model_name": "HTMLModel",
      "state": {
       "_dom_classes": [],
       "_model_module": "@jupyter-widgets/controls",
       "_model_module_version": "2.0.0",
       "_model_name": "HTMLModel",
       "_view_count": null,
       "_view_module": "@jupyter-widgets/controls",
       "_view_module_version": "2.0.0",
       "_view_name": "HTMLView",
       "description": "",
       "description_allow_html": false,
       "layout": "IPY_MODEL_e9a6912c161446a08be8e9836fa6de79",
       "placeholder": "​",
       "style": "IPY_MODEL_7d2953aac43745628877d60604127aa1",
       "tabbable": null,
       "tooltip": null,
       "value": " 642/642 [04:48&lt;00:00,  2.64it/s]"
      }
     }
    },
    "version_major": 2,
    "version_minor": 0
   }
  }
 },
 "nbformat": 4,
 "nbformat_minor": 5
}
