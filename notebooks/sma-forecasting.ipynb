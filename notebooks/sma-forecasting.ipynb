{
 "cells": [
  {
   "cell_type": "code",
   "execution_count": 1,
   "id": "b79ba402",
   "metadata": {
    "_cell_guid": "b1076dfc-b9ad-4769-8c92-a6c4dae69d19",
    "_uuid": "8f2839f25d086af736a60e9eeb907d3b93b6e0e5",
    "execution": {
     "iopub.execute_input": "2025-01-01T12:28:20.257844Z",
     "iopub.status.busy": "2025-01-01T12:28:20.257381Z",
     "iopub.status.idle": "2025-01-01T12:28:22.731372Z",
     "shell.execute_reply": "2025-01-01T12:28:22.730130Z"
    },
    "papermill": {
     "duration": 2.479946,
     "end_time": "2025-01-01T12:28:22.733225",
     "exception": false,
     "start_time": "2025-01-01T12:28:20.253279",
     "status": "completed"
    },
    "tags": []
   },
   "outputs": [],
   "source": [
    "import pandas as pd\n",
    "import numpy as np\n",
    "import matplotlib.pyplot as plt\n",
    "import seaborn as sns\n",
    "from tqdm.notebook import tqdm\n",
    "from sklearn.metrics import mean_absolute_error, mean_squared_error, mean_absolute_percentage_error\n",
    "\n",
    "import os"
   ]
  },
  {
   "cell_type": "code",
   "execution_count": 2,
   "id": "2f7304f7",
   "metadata": {
    "execution": {
     "iopub.execute_input": "2025-01-01T12:28:22.739907Z",
     "iopub.status.busy": "2025-01-01T12:28:22.739356Z",
     "iopub.status.idle": "2025-01-01T12:28:22.744635Z",
     "shell.execute_reply": "2025-01-01T12:28:22.743154Z"
    },
    "papermill": {
     "duration": 0.010232,
     "end_time": "2025-01-01T12:28:22.746399",
     "exception": false,
     "start_time": "2025-01-01T12:28:22.736167",
     "status": "completed"
    },
    "tags": []
   },
   "outputs": [],
   "source": [
    "# Create a directory to save the plots\n",
    "if not os.path.exists('sma'):\n",
    "    os.makedirs('sma')"
   ]
  },
  {
   "cell_type": "code",
   "execution_count": 3,
   "id": "c8aaadd6",
   "metadata": {
    "execution": {
     "iopub.execute_input": "2025-01-01T12:28:22.752622Z",
     "iopub.status.busy": "2025-01-01T12:28:22.752259Z",
     "iopub.status.idle": "2025-01-01T12:28:24.948167Z",
     "shell.execute_reply": "2025-01-01T12:28:24.946974Z"
    },
    "papermill": {
     "duration": 2.201187,
     "end_time": "2025-01-01T12:28:24.950221",
     "exception": false,
     "start_time": "2025-01-01T12:28:22.749034",
     "status": "completed"
    },
    "tags": []
   },
   "outputs": [],
   "source": [
    "# Load the data\n",
    "data = pd.read_csv('/kaggle/input/inventory/inventory.csv')"
   ]
  },
  {
   "cell_type": "code",
   "execution_count": 4,
   "id": "8834c082",
   "metadata": {
    "execution": {
     "iopub.execute_input": "2025-01-01T12:28:24.956770Z",
     "iopub.status.busy": "2025-01-01T12:28:24.956370Z",
     "iopub.status.idle": "2025-01-01T12:28:25.158950Z",
     "shell.execute_reply": "2025-01-01T12:28:25.157618Z"
    },
    "papermill": {
     "duration": 0.207956,
     "end_time": "2025-01-01T12:28:25.160879",
     "exception": false,
     "start_time": "2025-01-01T12:28:24.952923",
     "status": "completed"
    },
    "tags": []
   },
   "outputs": [],
   "source": [
    "\n",
    "data = data[(data['Type'] == 'Material') & (data['BFP'] == 0)].copy()\n",
    "\n",
    "# Convert the 'Date' column to datetime\n",
    "data['Date'] = pd.to_datetime(data['Date'])\n",
    "\n",
    "# Set the 'Date' column as the index\n",
    "data.set_index('Date', inplace=True)\n"
   ]
  },
  {
   "cell_type": "code",
   "execution_count": 5,
   "id": "adeaf58c",
   "metadata": {
    "execution": {
     "iopub.execute_input": "2025-01-01T12:28:25.167533Z",
     "iopub.status.busy": "2025-01-01T12:28:25.167165Z",
     "iopub.status.idle": "2025-01-01T12:28:25.894383Z",
     "shell.execute_reply": "2025-01-01T12:28:25.893235Z"
    },
    "papermill": {
     "duration": 0.733,
     "end_time": "2025-01-01T12:28:25.896683",
     "exception": false,
     "start_time": "2025-01-01T12:28:25.163683",
     "status": "completed"
    },
    "tags": []
   },
   "outputs": [],
   "source": [
    "# Get unique material codes\n",
    "material_codes = data['Material Code'].unique()\n",
    "\n",
    "# Create a dictionary to hold DataFrames for each material code\n",
    "material_data = {material: data[data['Material Code'] == material] for material in material_codes}\n",
    "\n",
    "# Define the window size for the Simple Moving Average\n",
    "window_size = 30  # Adjust as needed\n"
   ]
  },
  {
   "cell_type": "code",
   "execution_count": 6,
   "id": "7a103a7e",
   "metadata": {
    "execution": {
     "iopub.execute_input": "2025-01-01T12:28:25.904102Z",
     "iopub.status.busy": "2025-01-01T12:28:25.903589Z",
     "iopub.status.idle": "2025-01-01T12:28:25.909633Z",
     "shell.execute_reply": "2025-01-01T12:28:25.908615Z"
    },
    "papermill": {
     "duration": 0.011718,
     "end_time": "2025-01-01T12:28:25.911435",
     "exception": false,
     "start_time": "2025-01-01T12:28:25.899717",
     "status": "completed"
    },
    "tags": []
   },
   "outputs": [],
   "source": [
    "# Initialize a DataFrame to store the evaluation results\n",
    "evaluation_results = pd.DataFrame(columns=['Material Code', 'MAE', 'MSE', 'RMSE', 'MAPE'])"
   ]
  },
  {
   "cell_type": "code",
   "execution_count": 7,
   "id": "112640f4",
   "metadata": {
    "execution": {
     "iopub.execute_input": "2025-01-01T12:28:25.918091Z",
     "iopub.status.busy": "2025-01-01T12:28:25.917738Z",
     "iopub.status.idle": "2025-01-01T12:31:14.894180Z",
     "shell.execute_reply": "2025-01-01T12:31:14.893018Z"
    },
    "papermill": {
     "duration": 168.981774,
     "end_time": "2025-01-01T12:31:14.895906",
     "exception": false,
     "start_time": "2025-01-01T12:28:25.914132",
     "status": "completed"
    },
    "tags": []
   },
   "outputs": [
    {
     "data": {
      "application/vnd.jupyter.widget-view+json": {
       "model_id": "831b479784da45a5b667c9c68a470191",
       "version_major": 2,
       "version_minor": 0
      },
      "text/plain": [
       "Processing Material Codes:   0%|          | 0/642 [00:00<?, ?it/s]"
      ]
     },
     "metadata": {},
     "output_type": "display_data"
    },
    {
     "name": "stderr",
     "output_type": "stream",
     "text": [
      "<ipython-input-7-8ff9b87d61c2>:36: FutureWarning: The behavior of DataFrame concatenation with empty or all-NA entries is deprecated. In a future version, this will no longer exclude empty or all-NA columns when determining the result dtypes. To retain the old behavior, exclude the relevant entries before the concat operation.\n",
      "  evaluation_results = pd.concat([evaluation_results, result], ignore_index=True)\n"
     ]
    }
   ],
   "source": [
    "# Calculate and plot Simple Moving Average for each material code\n",
    "for material, df in tqdm(material_data.items(), total=len(material_data), desc=\"Processing Material Codes\"):\n",
    "    df = df.dropna()\n",
    "    if df.empty:\n",
    "        print(f\"No data available for material {material}\")\n",
    "        continue\n",
    "\n",
    "    # Ensure the index has a frequency\n",
    "    df = df.asfreq('D')\n",
    "\n",
    "    # Split the data into training and test sets\n",
    "    train_size = int(len(df) * 0.8)\n",
    "    train = df.iloc[:train_size].copy()\n",
    "    test = df.iloc[train_size:].copy()\n",
    "\n",
    "    # Calculate Simple Moving Average on the training set\n",
    "    train.loc[:, 'SMA'] = train['Material Issued'].rolling(window=window_size).mean()\n",
    "\n",
    "    # Forecast using the SMA model\n",
    "    test.loc[:, 'SMA'] = train['SMA'].iloc[-1]  # Use the last SMA value from the training set\n",
    "\n",
    "    # Calculate evaluation metrics\n",
    "    mae = mean_absolute_error(test['Material Issued'], test['SMA'])\n",
    "    mse = mean_squared_error(test['Material Issued'], test['SMA'])\n",
    "    rmse = np.sqrt(mse)\n",
    "    mape = mean_absolute_percentage_error(test['Material Issued'], test['SMA'])\n",
    "\n",
    "    # Append the results to the DataFrame\n",
    "    result = pd.DataFrame([{\n",
    "        'Material Code': material,\n",
    "        'MAE': mae,\n",
    "        'MSE': mse,\n",
    "        'RMSE': rmse,\n",
    "        'MAPE': mape\n",
    "    }])\n",
    "    evaluation_results = pd.concat([evaluation_results, result], ignore_index=True)\n",
    "    \n",
    "    # Plot the original time series data and the Simple Moving Average\n",
    "    plt.figure(figsize=(12, 6))\n",
    "    plt.plot(train['Material Issued'], label='Training Data')\n",
    "    plt.plot(test['Material Issued'], label='Test Data')\n",
    "    plt.plot(test['SMA'], label=f'SMA (Window={window_size})', color='orange')\n",
    "    plt.title(f'Simple Moving Average for Material Code: {material}')\n",
    "    plt.xlabel('Date')\n",
    "    plt.ylabel('Material Issued')\n",
    "    plt.legend()\n",
    "\n",
    "    # Save the plot in the 'sma' folder\n",
    "    plt.savefig(f'sma/sma_material_{material}_{window_size}.png')\n",
    "    plt.close()  # Close the plot to free up memory\n",
    "\n",
    "    # Print the first few rows of the DataFrame with SMA\n",
    "    # print(f'SMA forecasting of {material} is done.')\n",
    "    #display(df.head())\n"
   ]
  },
  {
   "cell_type": "code",
   "execution_count": 8,
   "id": "4568cb72",
   "metadata": {
    "execution": {
     "iopub.execute_input": "2025-01-01T12:31:14.903479Z",
     "iopub.status.busy": "2025-01-01T12:31:14.903122Z",
     "iopub.status.idle": "2025-01-01T12:31:14.928295Z",
     "shell.execute_reply": "2025-01-01T12:31:14.927263Z"
    },
    "papermill": {
     "duration": 0.031076,
     "end_time": "2025-01-01T12:31:14.930270",
     "exception": false,
     "start_time": "2025-01-01T12:31:14.899194",
     "status": "completed"
    },
    "tags": []
   },
   "outputs": [
    {
     "data": {
      "text/html": [
       "<div>\n",
       "<style scoped>\n",
       "    .dataframe tbody tr th:only-of-type {\n",
       "        vertical-align: middle;\n",
       "    }\n",
       "\n",
       "    .dataframe tbody tr th {\n",
       "        vertical-align: top;\n",
       "    }\n",
       "\n",
       "    .dataframe thead th {\n",
       "        text-align: right;\n",
       "    }\n",
       "</style>\n",
       "<table border=\"1\" class=\"dataframe\">\n",
       "  <thead>\n",
       "    <tr style=\"text-align: right;\">\n",
       "      <th></th>\n",
       "      <th>Material Code</th>\n",
       "      <th>MAE</th>\n",
       "      <th>MSE</th>\n",
       "      <th>RMSE</th>\n",
       "      <th>MAPE</th>\n",
       "    </tr>\n",
       "  </thead>\n",
       "  <tbody>\n",
       "    <tr>\n",
       "      <th>0</th>\n",
       "      <td>10000033</td>\n",
       "      <td>1.169444</td>\n",
       "      <td>5.957222</td>\n",
       "      <td>2.440742</td>\n",
       "      <td>2.545785e+15</td>\n",
       "    </tr>\n",
       "    <tr>\n",
       "      <th>1</th>\n",
       "      <td>10000304</td>\n",
       "      <td>2.319444</td>\n",
       "      <td>129.564815</td>\n",
       "      <td>11.382654</td>\n",
       "      <td>2.376900e+15</td>\n",
       "    </tr>\n",
       "    <tr>\n",
       "      <th>2</th>\n",
       "      <td>10000314</td>\n",
       "      <td>0.380556</td>\n",
       "      <td>4.404444</td>\n",
       "      <td>2.098677</td>\n",
       "      <td>4.409775e+14</td>\n",
       "    </tr>\n",
       "    <tr>\n",
       "      <th>3</th>\n",
       "      <td>10000316</td>\n",
       "      <td>1.237500</td>\n",
       "      <td>3.676111</td>\n",
       "      <td>1.917319</td>\n",
       "      <td>1.970325e+15</td>\n",
       "    </tr>\n",
       "    <tr>\n",
       "      <th>4</th>\n",
       "      <td>10000318</td>\n",
       "      <td>3.811111</td>\n",
       "      <td>426.438148</td>\n",
       "      <td>20.650379</td>\n",
       "      <td>3.089970e+15</td>\n",
       "    </tr>\n",
       "    <tr>\n",
       "      <th>...</th>\n",
       "      <td>...</td>\n",
       "      <td>...</td>\n",
       "      <td>...</td>\n",
       "      <td>...</td>\n",
       "      <td>...</td>\n",
       "    </tr>\n",
       "    <tr>\n",
       "      <th>637</th>\n",
       "      <td>10136726</td>\n",
       "      <td>0.000000</td>\n",
       "      <td>0.000000</td>\n",
       "      <td>0.000000</td>\n",
       "      <td>0.000000e+00</td>\n",
       "    </tr>\n",
       "    <tr>\n",
       "      <th>638</th>\n",
       "      <td>10136727</td>\n",
       "      <td>0.000000</td>\n",
       "      <td>0.000000</td>\n",
       "      <td>0.000000</td>\n",
       "      <td>0.000000e+00</td>\n",
       "    </tr>\n",
       "    <tr>\n",
       "      <th>639</th>\n",
       "      <td>10136728</td>\n",
       "      <td>0.000000</td>\n",
       "      <td>0.000000</td>\n",
       "      <td>0.000000</td>\n",
       "      <td>0.000000e+00</td>\n",
       "    </tr>\n",
       "    <tr>\n",
       "      <th>640</th>\n",
       "      <td>10136729</td>\n",
       "      <td>0.000000</td>\n",
       "      <td>0.000000</td>\n",
       "      <td>0.000000</td>\n",
       "      <td>0.000000e+00</td>\n",
       "    </tr>\n",
       "    <tr>\n",
       "      <th>641</th>\n",
       "      <td>10136730</td>\n",
       "      <td>0.000000</td>\n",
       "      <td>0.000000</td>\n",
       "      <td>0.000000</td>\n",
       "      <td>0.000000e+00</td>\n",
       "    </tr>\n",
       "  </tbody>\n",
       "</table>\n",
       "<p>642 rows × 5 columns</p>\n",
       "</div>"
      ],
      "text/plain": [
       "    Material Code       MAE         MSE       RMSE          MAPE\n",
       "0        10000033  1.169444    5.957222   2.440742  2.545785e+15\n",
       "1        10000304  2.319444  129.564815  11.382654  2.376900e+15\n",
       "2        10000314  0.380556    4.404444   2.098677  4.409775e+14\n",
       "3        10000316  1.237500    3.676111   1.917319  1.970325e+15\n",
       "4        10000318  3.811111  426.438148  20.650379  3.089970e+15\n",
       "..            ...       ...         ...        ...           ...\n",
       "637      10136726  0.000000    0.000000   0.000000  0.000000e+00\n",
       "638      10136727  0.000000    0.000000   0.000000  0.000000e+00\n",
       "639      10136728  0.000000    0.000000   0.000000  0.000000e+00\n",
       "640      10136729  0.000000    0.000000   0.000000  0.000000e+00\n",
       "641      10136730  0.000000    0.000000   0.000000  0.000000e+00\n",
       "\n",
       "[642 rows x 5 columns]"
      ]
     },
     "metadata": {},
     "output_type": "display_data"
    }
   ],
   "source": [
    "# Display the evaluation results\n",
    "display(evaluation_results)\n",
    "\n",
    "# Optionally, save the evaluation results to a CSV file\n",
    "evaluation_results.to_csv(f'evaluation_results_{window_size}.csv', index=False)"
   ]
  }
 ],
 "metadata": {
  "kaggle": {
   "accelerator": "none",
   "dataSources": [
    {
     "datasetId": 6403902,
     "sourceId": 10341621,
     "sourceType": "datasetVersion"
    }
   ],
   "dockerImageVersionId": 30822,
   "isGpuEnabled": false,
   "isInternetEnabled": true,
   "language": "python",
   "sourceType": "notebook"
  },
  "kernelspec": {
   "display_name": "Python 3",
   "language": "python",
   "name": "python3"
  },
  "language_info": {
   "codemirror_mode": {
    "name": "ipython",
    "version": 3
   },
   "file_extension": ".py",
   "mimetype": "text/x-python",
   "name": "python",
   "nbconvert_exporter": "python",
   "pygments_lexer": "ipython3",
   "version": "3.10.12"
  },
  "papermill": {
   "default_parameters": {},
   "duration": 179.971745,
   "end_time": "2025-01-01T12:31:17.856418",
   "environment_variables": {},
   "exception": null,
   "input_path": "__notebook__.ipynb",
   "output_path": "__notebook__.ipynb",
   "parameters": {},
   "start_time": "2025-01-01T12:28:17.884673",
   "version": "2.6.0"
  },
  "widgets": {
   "application/vnd.jupyter.widget-state+json": {
    "state": {
     "014b4f75e1e3458fab1943c331dccdeb": {
      "model_module": "@jupyter-widgets/controls",
      "model_module_version": "2.0.0",
      "model_name": "HTMLStyleModel",
      "state": {
       "_model_module": "@jupyter-widgets/controls",
       "_model_module_version": "2.0.0",
       "_model_name": "HTMLStyleModel",
       "_view_count": null,
       "_view_module": "@jupyter-widgets/base",
       "_view_module_version": "2.0.0",
       "_view_name": "StyleView",
       "background": null,
       "description_width": "",
       "font_size": null,
       "text_color": null
      }
     },
     "10f6b067327e4a28a096bb4443b81090": {
      "model_module": "@jupyter-widgets/base",
      "model_module_version": "2.0.0",
      "model_name": "LayoutModel",
      "state": {
       "_model_module": "@jupyter-widgets/base",
       "_model_module_version": "2.0.0",
       "_model_name": "LayoutModel",
       "_view_count": null,
       "_view_module": "@jupyter-widgets/base",
       "_view_module_version": "2.0.0",
       "_view_name": "LayoutView",
       "align_content": null,
       "align_items": null,
       "align_self": null,
       "border_bottom": null,
       "border_left": null,
       "border_right": null,
       "border_top": null,
       "bottom": null,
       "display": null,
       "flex": null,
       "flex_flow": null,
       "grid_area": null,
       "grid_auto_columns": null,
       "grid_auto_flow": null,
       "grid_auto_rows": null,
       "grid_column": null,
       "grid_gap": null,
       "grid_row": null,
       "grid_template_areas": null,
       "grid_template_columns": null,
       "grid_template_rows": null,
       "height": null,
       "justify_content": null,
       "justify_items": null,
       "left": null,
       "margin": null,
       "max_height": null,
       "max_width": null,
       "min_height": null,
       "min_width": null,
       "object_fit": null,
       "object_position": null,
       "order": null,
       "overflow": null,
       "padding": null,
       "right": null,
       "top": null,
       "visibility": null,
       "width": null
      }
     },
     "347b638834364df6a13c185cfb1ffeda": {
      "model_module": "@jupyter-widgets/base",
      "model_module_version": "2.0.0",
      "model_name": "LayoutModel",
      "state": {
       "_model_module": "@jupyter-widgets/base",
       "_model_module_version": "2.0.0",
       "_model_name": "LayoutModel",
       "_view_count": null,
       "_view_module": "@jupyter-widgets/base",
       "_view_module_version": "2.0.0",
       "_view_name": "LayoutView",
       "align_content": null,
       "align_items": null,
       "align_self": null,
       "border_bottom": null,
       "border_left": null,
       "border_right": null,
       "border_top": null,
       "bottom": null,
       "display": null,
       "flex": null,
       "flex_flow": null,
       "grid_area": null,
       "grid_auto_columns": null,
       "grid_auto_flow": null,
       "grid_auto_rows": null,
       "grid_column": null,
       "grid_gap": null,
       "grid_row": null,
       "grid_template_areas": null,
       "grid_template_columns": null,
       "grid_template_rows": null,
       "height": null,
       "justify_content": null,
       "justify_items": null,
       "left": null,
       "margin": null,
       "max_height": null,
       "max_width": null,
       "min_height": null,
       "min_width": null,
       "object_fit": null,
       "object_position": null,
       "order": null,
       "overflow": null,
       "padding": null,
       "right": null,
       "top": null,
       "visibility": null,
       "width": null
      }
     },
     "501a812f0f1c4bcb9cdf0d089952c888": {
      "model_module": "@jupyter-widgets/base",
      "model_module_version": "2.0.0",
      "model_name": "LayoutModel",
      "state": {
       "_model_module": "@jupyter-widgets/base",
       "_model_module_version": "2.0.0",
       "_model_name": "LayoutModel",
       "_view_count": null,
       "_view_module": "@jupyter-widgets/base",
       "_view_module_version": "2.0.0",
       "_view_name": "LayoutView",
       "align_content": null,
       "align_items": null,
       "align_self": null,
       "border_bottom": null,
       "border_left": null,
       "border_right": null,
       "border_top": null,
       "bottom": null,
       "display": null,
       "flex": null,
       "flex_flow": null,
       "grid_area": null,
       "grid_auto_columns": null,
       "grid_auto_flow": null,
       "grid_auto_rows": null,
       "grid_column": null,
       "grid_gap": null,
       "grid_row": null,
       "grid_template_areas": null,
       "grid_template_columns": null,
       "grid_template_rows": null,
       "height": null,
       "justify_content": null,
       "justify_items": null,
       "left": null,
       "margin": null,
       "max_height": null,
       "max_width": null,
       "min_height": null,
       "min_width": null,
       "object_fit": null,
       "object_position": null,
       "order": null,
       "overflow": null,
       "padding": null,
       "right": null,
       "top": null,
       "visibility": null,
       "width": null
      }
     },
     "68c9f8dfd44d46228be55ca05d2b4426": {
      "model_module": "@jupyter-widgets/controls",
      "model_module_version": "2.0.0",
      "model_name": "ProgressStyleModel",
      "state": {
       "_model_module": "@jupyter-widgets/controls",
       "_model_module_version": "2.0.0",
       "_model_name": "ProgressStyleModel",
       "_view_count": null,
       "_view_module": "@jupyter-widgets/base",
       "_view_module_version": "2.0.0",
       "_view_name": "StyleView",
       "bar_color": null,
       "description_width": ""
      }
     },
     "831b479784da45a5b667c9c68a470191": {
      "model_module": "@jupyter-widgets/controls",
      "model_module_version": "2.0.0",
      "model_name": "HBoxModel",
      "state": {
       "_dom_classes": [],
       "_model_module": "@jupyter-widgets/controls",
       "_model_module_version": "2.0.0",
       "_model_name": "HBoxModel",
       "_view_count": null,
       "_view_module": "@jupyter-widgets/controls",
       "_view_module_version": "2.0.0",
       "_view_name": "HBoxView",
       "box_style": "",
       "children": [
        "IPY_MODEL_ac50346a96d54e7b903110bd2990f498",
        "IPY_MODEL_b9b9ad9594c54796bcfbbe804bf94d1a",
        "IPY_MODEL_8fb2a7bd28d146bbb25baa67c85e100f"
       ],
       "layout": "IPY_MODEL_347b638834364df6a13c185cfb1ffeda",
       "tabbable": null,
       "tooltip": null
      }
     },
     "8fb2a7bd28d146bbb25baa67c85e100f": {
      "model_module": "@jupyter-widgets/controls",
      "model_module_version": "2.0.0",
      "model_name": "HTMLModel",
      "state": {
       "_dom_classes": [],
       "_model_module": "@jupyter-widgets/controls",
       "_model_module_version": "2.0.0",
       "_model_name": "HTMLModel",
       "_view_count": null,
       "_view_module": "@jupyter-widgets/controls",
       "_view_module_version": "2.0.0",
       "_view_name": "HTMLView",
       "description": "",
       "description_allow_html": false,
       "layout": "IPY_MODEL_10f6b067327e4a28a096bb4443b81090",
       "placeholder": "​",
       "style": "IPY_MODEL_014b4f75e1e3458fab1943c331dccdeb",
       "tabbable": null,
       "tooltip": null,
       "value": " 642/642 [02:48&lt;00:00,  3.67it/s]"
      }
     },
     "ac50346a96d54e7b903110bd2990f498": {
      "model_module": "@jupyter-widgets/controls",
      "model_module_version": "2.0.0",
      "model_name": "HTMLModel",
      "state": {
       "_dom_classes": [],
       "_model_module": "@jupyter-widgets/controls",
       "_model_module_version": "2.0.0",
       "_model_name": "HTMLModel",
       "_view_count": null,
       "_view_module": "@jupyter-widgets/controls",
       "_view_module_version": "2.0.0",
       "_view_name": "HTMLView",
       "description": "",
       "description_allow_html": false,
       "layout": "IPY_MODEL_e1d90d2f10564262b3dc657a9002a90b",
       "placeholder": "​",
       "style": "IPY_MODEL_d05795b40fbf46eb84b9ba62a763b42b",
       "tabbable": null,
       "tooltip": null,
       "value": "Processing Material Codes: 100%"
      }
     },
     "b9b9ad9594c54796bcfbbe804bf94d1a": {
      "model_module": "@jupyter-widgets/controls",
      "model_module_version": "2.0.0",
      "model_name": "FloatProgressModel",
      "state": {
       "_dom_classes": [],
       "_model_module": "@jupyter-widgets/controls",
       "_model_module_version": "2.0.0",
       "_model_name": "FloatProgressModel",
       "_view_count": null,
       "_view_module": "@jupyter-widgets/controls",
       "_view_module_version": "2.0.0",
       "_view_name": "ProgressView",
       "bar_style": "success",
       "description": "",
       "description_allow_html": false,
       "layout": "IPY_MODEL_501a812f0f1c4bcb9cdf0d089952c888",
       "max": 642.0,
       "min": 0.0,
       "orientation": "horizontal",
       "style": "IPY_MODEL_68c9f8dfd44d46228be55ca05d2b4426",
       "tabbable": null,
       "tooltip": null,
       "value": 642.0
      }
     },
     "d05795b40fbf46eb84b9ba62a763b42b": {
      "model_module": "@jupyter-widgets/controls",
      "model_module_version": "2.0.0",
      "model_name": "HTMLStyleModel",
      "state": {
       "_model_module": "@jupyter-widgets/controls",
       "_model_module_version": "2.0.0",
       "_model_name": "HTMLStyleModel",
       "_view_count": null,
       "_view_module": "@jupyter-widgets/base",
       "_view_module_version": "2.0.0",
       "_view_name": "StyleView",
       "background": null,
       "description_width": "",
       "font_size": null,
       "text_color": null
      }
     },
     "e1d90d2f10564262b3dc657a9002a90b": {
      "model_module": "@jupyter-widgets/base",
      "model_module_version": "2.0.0",
      "model_name": "LayoutModel",
      "state": {
       "_model_module": "@jupyter-widgets/base",
       "_model_module_version": "2.0.0",
       "_model_name": "LayoutModel",
       "_view_count": null,
       "_view_module": "@jupyter-widgets/base",
       "_view_module_version": "2.0.0",
       "_view_name": "LayoutView",
       "align_content": null,
       "align_items": null,
       "align_self": null,
       "border_bottom": null,
       "border_left": null,
       "border_right": null,
       "border_top": null,
       "bottom": null,
       "display": null,
       "flex": null,
       "flex_flow": null,
       "grid_area": null,
       "grid_auto_columns": null,
       "grid_auto_flow": null,
       "grid_auto_rows": null,
       "grid_column": null,
       "grid_gap": null,
       "grid_row": null,
       "grid_template_areas": null,
       "grid_template_columns": null,
       "grid_template_rows": null,
       "height": null,
       "justify_content": null,
       "justify_items": null,
       "left": null,
       "margin": null,
       "max_height": null,
       "max_width": null,
       "min_height": null,
       "min_width": null,
       "object_fit": null,
       "object_position": null,
       "order": null,
       "overflow": null,
       "padding": null,
       "right": null,
       "top": null,
       "visibility": null,
       "width": null
      }
     }
    },
    "version_major": 2,
    "version_minor": 0
   }
  }
 },
 "nbformat": 4,
 "nbformat_minor": 5
}
